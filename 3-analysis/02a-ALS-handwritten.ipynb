{
 "cells": [
  {
   "cell_type": "code",
   "execution_count": 11,
   "metadata": {},
   "outputs": [],
   "source": [
    "from utils import *\n",
    "import pickle\n",
    "import pandas as pd\n",
    "from scipy.sparse import csr_matrix\n",
    "import numpy as np\n",
    "import itertools\n",
    "import timeit"
   ]
  },
  {
   "cell_type": "code",
   "execution_count": 2,
   "metadata": {},
   "outputs": [],
   "source": [
    "with open( \"train_test_data.pkl\", \"rb\") as f:\n",
    "    X_train, y_train, X_test, y_test = pickle.load(f)"
   ]
  },
  {
   "cell_type": "code",
   "execution_count": 3,
   "metadata": {},
   "outputs": [],
   "source": [
    "X_train = pd.DataFrame(X_train.values(),index = X_train.keys()) # convert from dict to pd DataFrame\n",
    "X_train['tracks'] = X_train.values.tolist() #stack all columns into one\n",
    "X_train = X_train[['tracks']]"
   ]
  },
  {
   "cell_type": "code",
   "execution_count": 4,
   "metadata": {},
   "outputs": [
    {
     "data": {
      "text/plain": [
       "(7473, 101217)"
      ]
     },
     "execution_count": 4,
     "metadata": {},
     "output_type": "execute_result"
    }
   ],
   "source": [
    "# create one hot encoding for all the tracks\n",
    "X_train_onehot = pd.get_dummies(pd.DataFrame(X_train['tracks'].values.tolist()), prefix='', prefix_sep='').groupby(axis=1, level=0).max()\n",
    "X_train_onehot = X_train_onehot.set_index(X_train.index)\n",
    "X_train_onehot.shape #7473 101217"
   ]
  },
  {
   "cell_type": "code",
   "execution_count": 29,
   "metadata": {},
   "outputs": [],
   "source": [
    "def alternating_least_squares_cg(Cui, factors, regularization=0.01, iterations=15):\n",
    "    users, items = Cui.shape\n",
    "\n",
    "    # initialize factors randomly\n",
    "    X = np.random.rand(users, factors) * 0.01\n",
    "    Y = np.random.rand(items, factors) * 0.01\n",
    "\n",
    "    Cui, Ciu = Cui.tocsr(), Cui.T.tocsr()\n",
    "\n",
    "    for iteration in range(iterations):\n",
    "        least_squares_cg(Cui, X, Y, regularization)\n",
    "        least_squares_cg(Ciu, Y, X, regularization)\n",
    "\n",
    "    return X, Y\n",
    "\n",
    "\n",
    "def least_squares_cg(Cui, X, Y, regularization, cg_steps=3):\n",
    "    users, factors = X.shape\n",
    "    YtY = Y.T.dot(Y) + regularization * np.eye(factors)\n",
    "\n",
    "    for u in range(users):\n",
    "        # start from previous iteration\n",
    "        x = X[u]\n",
    "\n",
    "        # calculate residual r = (YtCuPu - (YtCuY.dot(Xu), without computing YtCuY\n",
    "        r = -YtY.dot(x)\n",
    "        for i, confidence in nonzeros(Cui, u):\n",
    "            r += (confidence - (confidence - 1) * Y[i].dot(x)) * Y[i]\n",
    "\n",
    "        p = r.copy()\n",
    "        rsold = r.dot(r)\n",
    "\n",
    "        for it in range(cg_steps):\n",
    "            # calculate Ap = YtCuYp - without actually calculating YtCuY\n",
    "            Ap = YtY.dot(p)\n",
    "            for i, confidence in nonzeros(Cui, u):\n",
    "                Ap += (confidence - 1) * Y[i].dot(p) * Y[i]\n",
    "\n",
    "            # standard CG update\n",
    "            alpha = rsold / p.dot(Ap)\n",
    "            x += alpha * p\n",
    "            r -= alpha * Ap\n",
    "            rsnew = r.dot(r)\n",
    "            p = r + (rsnew / rsold) * p\n",
    "            rsold = rsnew\n",
    "\n",
    "        X[u] = x\n",
    "\n",
    "        \n",
    "\n",
    "def recommend(X,Y,userid, user_items, N=10):\n",
    "    \"\"\" Returns the top N ranked items for a single user \"\"\"\n",
    "    scores = Y.dot(X[userid])\n",
    "\n",
    "    # calcualte the top N items, removing the users own liked items from the results\n",
    "    liked = set(user_items[userid].indices)\n",
    "    ids = np.argpartition(scores, -(N + len(liked)))[-(N + len(liked)):]\n",
    "    best = sorted(zip(ids, scores[ids]), key=lambda x: -x[1])\n",
    "    return list(itertools.islice((rec for rec in best if rec[0] not in liked), N))\n",
    "\n",
    "def nonzeros(m, row):\n",
    "    \"\"\" returns the non zeroes of a row in csr_matrix \"\"\"\n",
    "    for index in range(m.indptr[row], m.indptr[row+1]):\n",
    "        yield m.indices[index], m.data[index]\n",
    "\n",
    "def overlap_score(tracks, pred_tracks, test_size = 10):\n",
    "    ''' Computes the overlap score for tracks and pred_tracks. \n",
    "    returns #overlap'''\n",
    "    assert len(tracks) == len(pred_tracks) == test_size\n",
    "    return sum([a in tracks for a in pred_tracks])\n",
    "\n",
    "\n",
    "\n",
    "def dcg(predictions, labels, test_size = 10):\n",
    "    ''' Calculates the discounted cumulative gain for prediction and labels. \n",
    "        Inputs:\n",
    "            Prediction: list of predictions \n",
    "            labels: list of actual labels\n",
    "            test_size: size of each of the two sets'''\n",
    "    assert len(predictions) == len(labels) == test_size\n",
    "    zero_one_label = [predictions[i] in labels for i in range(len(predictions))]\n",
    "    zero_one_label = [zero_one_label[i]/np.log2(i+2) for i in range(len(zero_one_label))]\n",
    "    return np.sum(zero_one_label)\n",
    "\n"
   ]
  },
  {
   "cell_type": "code",
   "execution_count": 6,
   "metadata": {},
   "outputs": [],
   "source": [
    "tracks = list(X_train_onehot.columns) #all the tracks appear in the X_train"
   ]
  },
  {
   "cell_type": "code",
   "execution_count": 7,
   "metadata": {},
   "outputs": [],
   "source": [
    "track_playlist_data = csr_matrix(X_train_onehot) #prepare the data matrix for the implicit package"
   ]
  },
  {
   "cell_type": "code",
   "execution_count": 42,
   "metadata": {},
   "outputs": [],
   "source": [
    "start_time = timeit.default_timer()\n",
    "X,Y = alternating_least_squares_cg(track_playlist_data, 100, regularization=0, iterations=13)\n",
    "elapsed = timeit.default_timer() - start_time"
   ]
  },
  {
   "cell_type": "code",
   "execution_count": 43,
   "metadata": {},
   "outputs": [
    {
     "name": "stdout",
     "output_type": "stream",
     "text": [
      "Total time cost is 385.78561590600293\n"
     ]
    }
   ],
   "source": [
    "print(\"Total time cost is %s\"%elapsed)"
   ]
  },
  {
   "cell_type": "code",
   "execution_count": 44,
   "metadata": {},
   "outputs": [],
   "source": [
    "acc = 0\n",
    "acc_ind = []\n",
    "for ind in range(7473):\n",
    "    playlistid = ind\n",
    "    # recommend 10(default) tracks for a playlist\n",
    "    playlist_track = track_playlist_data.T.tocsr()\n",
    "    recommendations = recommend(X,Y,playlistid, playlist_track)\n",
    "    playlist_pred = [tracks[i] for i in list(zip(*recommendations))[0]]\n",
    "    playlist_true = y_train[X_train.index[ind]]\n",
    "    acc_ind.append(overlap_score(playlist_pred,playlist_true))"
   ]
  },
  {
   "cell_type": "code",
   "execution_count": 45,
   "metadata": {},
   "outputs": [
    {
     "name": "stdout",
     "output_type": "stream",
     "text": [
      "Overall accuracy for overlapp is:  0.4295463669209153\n"
     ]
    }
   ],
   "source": [
    "print('Overall accuracy for overlapp is: ', np.mean(acc_ind))"
   ]
  },
  {
   "cell_type": "code",
   "execution_count": 46,
   "metadata": {},
   "outputs": [],
   "source": [
    "acc = 0\n",
    "acc_ind = []\n",
    "for ind in range(7473):\n",
    "    playlistid = ind\n",
    "    # recommend 10(default) tracks for a playlist\n",
    "    playlist_track = track_playlist_data.T.tocsr()\n",
    "    recommendations = recommend(X,Y,playlistid, playlist_track)\n",
    "    playlist_pred = [tracks[i] for i in list(zip(*recommendations))[0]]\n",
    "    playlist_true = y_train[X_train.index[ind]]\n",
    "    acc_ind.append(dcg(playlist_pred,playlist_true))"
   ]
  },
  {
   "cell_type": "code",
   "execution_count": 41,
   "metadata": {
    "scrolled": true
   },
   "outputs": [
    {
     "name": "stdout",
     "output_type": "stream",
     "text": [
      "Overall accuracy for dcg is:  0.19087936156380544\n"
     ]
    }
   ],
   "source": [
    "print('Overall accuracy for dcg is: ', np.mean(acc_ind))"
   ]
  }
 ],
 "metadata": {
  "kernelspec": {
   "display_name": "Python 3",
   "language": "python",
   "name": "python3"
  },
  "language_info": {
   "codemirror_mode": {
    "name": "ipython",
    "version": 3
   },
   "file_extension": ".py",
   "mimetype": "text/x-python",
   "name": "python",
   "nbconvert_exporter": "python",
   "pygments_lexer": "ipython3",
   "version": "3.6.9"
  }
 },
 "nbformat": 4,
 "nbformat_minor": 2
}
