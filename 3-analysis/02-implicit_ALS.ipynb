{
 "cells": [
  {
   "cell_type": "code",
   "execution_count": 18,
   "metadata": {},
   "outputs": [],
   "source": [
    "from utils import *"
   ]
  },
  {
   "cell_type": "code",
   "execution_count": 136,
   "metadata": {},
   "outputs": [],
   "source": [
    "import pickle\n",
    "import pandas as pd\n",
    "from scipy.sparse import csr_matrix\n",
    "import numpy as np\n",
    "import matplotlib.pyplot as plt\n",
    "from sklearn.model_selection import cross_val_score\n",
    "from sklearn import metrics\n",
    "import random"
   ]
  },
  {
   "cell_type": "code",
   "execution_count": 364,
   "metadata": {},
   "outputs": [],
   "source": [
    "with open( \"train_test_data.pkl\", \"rb\") as f:\n",
    "    X_train, y_train, X_test, y_test = pickle.load(f)"
   ]
  },
  {
   "cell_type": "code",
   "execution_count": 98,
   "metadata": {},
   "outputs": [],
   "source": [
    "X_train = pd.DataFrame(X_train.values(),index = X_train.keys()) # convert from dict to pd DataFrame\n",
    "X_train['tracks'] = X_train.values.tolist() #stack all columns into one\n",
    "X_train = X_train[['tracks']]"
   ]
  },
  {
   "cell_type": "code",
   "execution_count": 365,
   "metadata": {},
   "outputs": [],
   "source": [
    "X_test = pd.DataFrame(X_test.values(),index = X_test.keys()) # convert from dict to pd DataFrame\n",
    "X_test['tracks'] = X_test.values.tolist() #stack all columns into one\n",
    "X_test = X_test[['tracks']]"
   ]
  },
  {
   "cell_type": "code",
   "execution_count": null,
   "metadata": {},
   "outputs": [],
   "source": [
    "# create one hot encoding for all the tracks\n",
    "X_train_onehot = pd.get_dummies(pd.DataFrame(X_train['tracks'].values.tolist()), prefix='', prefix_sep='').groupby(axis=1, level=0).max()\n",
    "X_train_onehot = X_train_onehot.set_index(X_train.index)\n",
    "X_train_onehot.shape #7473 101217"
   ]
  },
  {
   "cell_type": "code",
   "execution_count": 366,
   "metadata": {},
   "outputs": [
    {
     "data": {
      "text/plain": [
       "(2525, 47521)"
      ]
     },
     "execution_count": 366,
     "metadata": {},
     "output_type": "execute_result"
    }
   ],
   "source": [
    "# create one hot encoding for all the tracks\n",
    "X_test_onehot = pd.get_dummies(pd.DataFrame(X_test['tracks'].values.tolist()), prefix='', prefix_sep='').groupby(axis=1, level=0).max()\n",
    "X_test_onehot = X_test_onehot.set_index(X_test.index)\n",
    "X_test_onehot.shape #7473 101217"
   ]
  },
  {
   "cell_type": "code",
   "execution_count": 6,
   "metadata": {},
   "outputs": [],
   "source": [
    "tracks = list(X_train_onehot.columns) #all the tracks appear in the X_train"
   ]
  },
  {
   "cell_type": "code",
   "execution_count": 7,
   "metadata": {},
   "outputs": [],
   "source": [
    "track_playlist_data = csr_matrix(X_train_onehot) #prepare the data matrix for the implicit package"
   ]
  },
  {
   "cell_type": "code",
   "execution_count": 367,
   "metadata": {},
   "outputs": [],
   "source": [
    "track_playlist_data_test = csr_matrix(X_test_onehot)"
   ]
  },
  {
   "cell_type": "code",
   "execution_count": 90,
   "metadata": {},
   "outputs": [
    {
     "data": {
      "text/html": [
       "<div>\n",
       "<style scoped>\n",
       "    .dataframe tbody tr th:only-of-type {\n",
       "        vertical-align: middle;\n",
       "    }\n",
       "\n",
       "    .dataframe tbody tr th {\n",
       "        vertical-align: top;\n",
       "    }\n",
       "\n",
       "    .dataframe thead th {\n",
       "        text-align: right;\n",
       "    }\n",
       "</style>\n",
       "<table border=\"1\" class=\"dataframe\">\n",
       "  <thead>\n",
       "    <tr style=\"text-align: right;\">\n",
       "      <th></th>\n",
       "      <th>tracks</th>\n",
       "    </tr>\n",
       "  </thead>\n",
       "  <tbody>\n",
       "    <tr>\n",
       "      <td>323_381</td>\n",
       "      <td>[spotify:track:6WhzFzROw3aq3rPWjgYlxr, spotify...</td>\n",
       "    </tr>\n",
       "    <tr>\n",
       "      <td>323_507</td>\n",
       "      <td>[spotify:track:7DD1ojeTUwnW65g5QuZw7X, spotify...</td>\n",
       "    </tr>\n",
       "    <tr>\n",
       "      <td>323_543</td>\n",
       "      <td>[spotify:track:61LtVmmkGr8P9I2tSPvdpf, spotify...</td>\n",
       "    </tr>\n",
       "    <tr>\n",
       "      <td>323_570</td>\n",
       "      <td>[spotify:track:0r9knJtQ6VVpX324mtkLcX, spotify...</td>\n",
       "    </tr>\n",
       "    <tr>\n",
       "      <td>323_682</td>\n",
       "      <td>[spotify:track:5vIu19A3EEdHgFM4Cba6F4, spotify...</td>\n",
       "    </tr>\n",
       "  </tbody>\n",
       "</table>\n",
       "</div>"
      ],
      "text/plain": [
       "                                                    tracks\n",
       "323_381  [spotify:track:6WhzFzROw3aq3rPWjgYlxr, spotify...\n",
       "323_507  [spotify:track:7DD1ojeTUwnW65g5QuZw7X, spotify...\n",
       "323_543  [spotify:track:61LtVmmkGr8P9I2tSPvdpf, spotify...\n",
       "323_570  [spotify:track:0r9knJtQ6VVpX324mtkLcX, spotify...\n",
       "323_682  [spotify:track:5vIu19A3EEdHgFM4Cba6F4, spotify..."
      ]
     },
     "execution_count": 90,
     "metadata": {},
     "output_type": "execute_result"
    }
   ],
   "source": [
    "X_train.head()"
   ]
  },
  {
   "cell_type": "code",
   "execution_count": 94,
   "metadata": {},
   "outputs": [
    {
     "data": {
      "text/plain": [
       "7473"
      ]
     },
     "execution_count": 94,
     "metadata": {},
     "output_type": "execute_result"
    }
   ],
   "source": [
    "track_playlist_data.shape[0]"
   ]
  },
  {
   "cell_type": "code",
   "execution_count": null,
   "metadata": {},
   "outputs": [],
   "source": [
    "def intersect_rate(lst1, lst2): \n",
    "        return len(list(set(lst1) & set(lst2))) "
   ]
  },
  {
   "cell_type": "code",
   "execution_count": 270,
   "metadata": {},
   "outputs": [],
   "source": [
    "def score(estimator,X,y):\n",
    "    def intersect_rate(lst1, lst2): \n",
    "        return len(list(set(lst1) & set(lst2))) \n",
    "    acc = 0\n",
    "    acc_ind = []\n",
    "    for ind in range(X.shape[0]):\n",
    "        playlistid = ind\n",
    "        # recommend 10(default) tracks for a playlist\n",
    "        playlist_track = X.T\n",
    "        recommendations = estimator.recommend(playlistid, playlist_track)\n",
    "        playlist_pred = [tracks[i] for i in list(zip(*recommendations))[0] ]\n",
    "        playlist_true = [j for j in y[playlistid] if j is not None]\n",
    "        acc_ind.append(intersect_rate(playlist_true,playlist_pred))\n",
    "    return np.mean(acc_ind)"
   ]
  },
  {
   "cell_type": "code",
   "execution_count": 349,
   "metadata": {},
   "outputs": [],
   "source": [
    "facts = range(1,50, 10)\n",
    "iters = range(2,20,4)"
   ]
  },
  {
   "cell_type": "code",
   "execution_count": 350,
   "metadata": {},
   "outputs": [
    {
     "name": "stdout",
     "output_type": "stream",
     "text": [
      "5\n",
      "5\n"
     ]
    }
   ],
   "source": [
    "print(len(facts))\n",
    "print(len(iters))"
   ]
  },
  {
   "cell_type": "code",
   "execution_count": 357,
   "metadata": {},
   "outputs": [],
   "source": [
    "#create cv index\n",
    "cv = 2\n",
    "l = X_train.shape[0]\n",
    "def chunks(l, n):\n",
    "    # For item i in a range that is a length of l,\n",
    "    for i in range(0, l, l//n):\n",
    "        # Create an index range for l of n items:\n",
    "        linspace = np.linspace(i,i+(l//n),(l//n))\n",
    "        index = [int(j) for j in list(linspace)]\n",
    "        yield index     \n",
    "train_cv_ind = list(chunks(l,cv))"
   ]
  },
  {
   "cell_type": "code",
   "execution_count": 358,
   "metadata": {},
   "outputs": [
    {
     "name": "stdout",
     "output_type": "stream",
     "text": [
      "[1]\n"
     ]
    },
    {
     "data": {
      "text/plain": [
       "array([3736, 3737, 3738, ..., 7469, 7470, 7472])"
      ]
     },
     "execution_count": 358,
     "metadata": {},
     "output_type": "execute_result"
    }
   ],
   "source": [
    "ind = [i for i in range(cv) if i != 0]\n",
    "print(ind)\n",
    "np.concatenate([train_cv_ind[i] for i in ind] )"
   ]
  },
  {
   "cell_type": "code",
   "execution_count": 289,
   "metadata": {},
   "outputs": [
    {
     "data": {
      "application/vnd.jupyter.widget-view+json": {
       "model_id": "651533929e7a495cb12397c002c7e693",
       "version_major": 2,
       "version_minor": 0
      },
      "text/plain": [
       "HBox(children=(IntProgress(value=0, max=11), HTML(value='')))"
      ]
     },
     "metadata": {},
     "output_type": "display_data"
    },
    {
     "name": "stdout",
     "output_type": "stream",
     "text": [
      "\n"
     ]
    },
    {
     "data": {
      "application/vnd.jupyter.widget-view+json": {
       "model_id": "858e4472773b40409503cd0bd1108a00",
       "version_major": 2,
       "version_minor": 0
      },
      "text/plain": [
       "HBox(children=(IntProgress(value=0, max=11), HTML(value='')))"
      ]
     },
     "metadata": {},
     "output_type": "display_data"
    },
    {
     "name": "stdout",
     "output_type": "stream",
     "text": [
      "\n",
      "[0.79068522 0.         0.         0.         0.        ]\n",
      "[0.16956638 0.         0.         0.         0.        ]\n"
     ]
    },
    {
     "data": {
      "application/vnd.jupyter.widget-view+json": {
       "model_id": "2f6126b97aea44bdafb9de3be6cf3fa7",
       "version_major": 2,
       "version_minor": 0
      },
      "text/plain": [
       "HBox(children=(IntProgress(value=0, max=11), HTML(value='')))"
      ]
     },
     "metadata": {},
     "output_type": "display_data"
    },
    {
     "name": "stdout",
     "output_type": "stream",
     "text": [
      "\n"
     ]
    },
    {
     "data": {
      "application/vnd.jupyter.widget-view+json": {
       "model_id": "b0c3b06f9c204b1fb135073301835c66",
       "version_major": 2,
       "version_minor": 0
      },
      "text/plain": [
       "HBox(children=(IntProgress(value=0, max=11), HTML(value='')))"
      ]
     },
     "metadata": {},
     "output_type": "display_data"
    },
    {
     "name": "stdout",
     "output_type": "stream",
     "text": [
      "\n",
      "[0.79068522 2.00963597 0.         0.         0.        ]\n",
      "[0.16956638 0.12607066 0.         0.         0.        ]\n"
     ]
    },
    {
     "data": {
      "application/vnd.jupyter.widget-view+json": {
       "model_id": "01ba546f5ae541c4bb146e8046aa092d",
       "version_major": 2,
       "version_minor": 0
      },
      "text/plain": [
       "HBox(children=(IntProgress(value=0, max=11), HTML(value='')))"
      ]
     },
     "metadata": {},
     "output_type": "display_data"
    },
    {
     "name": "stdout",
     "output_type": "stream",
     "text": [
      "\n"
     ]
    },
    {
     "data": {
      "application/vnd.jupyter.widget-view+json": {
       "model_id": "9a7e67d6cb164e9d8bf6664a87086441",
       "version_major": 2,
       "version_minor": 0
      },
      "text/plain": [
       "HBox(children=(IntProgress(value=0, max=11), HTML(value='')))"
      ]
     },
     "metadata": {},
     "output_type": "display_data"
    },
    {
     "name": "stdout",
     "output_type": "stream",
     "text": [
      "\n",
      "[0.79068522 2.00963597 2.73942719 0.         0.        ]\n",
      "[0.16956638 0.12607066 0.11041221 0.         0.        ]\n"
     ]
    },
    {
     "data": {
      "application/vnd.jupyter.widget-view+json": {
       "model_id": "fe688841b71c466a8595a8c20d204996",
       "version_major": 2,
       "version_minor": 0
      },
      "text/plain": [
       "HBox(children=(IntProgress(value=0, max=11), HTML(value='')))"
      ]
     },
     "metadata": {},
     "output_type": "display_data"
    },
    {
     "name": "stdout",
     "output_type": "stream",
     "text": [
      "\n"
     ]
    },
    {
     "data": {
      "application/vnd.jupyter.widget-view+json": {
       "model_id": "77363f30c4864126b3c2d93c93a03f57",
       "version_major": 2,
       "version_minor": 0
      },
      "text/plain": [
       "HBox(children=(IntProgress(value=0, max=11), HTML(value='')))"
      ]
     },
     "metadata": {},
     "output_type": "display_data"
    },
    {
     "name": "stdout",
     "output_type": "stream",
     "text": [
      "\n",
      "[0.79068522 2.00963597 2.73942719 3.30902034 0.        ]\n",
      "[0.16956638 0.12607066 0.11041221 0.10505889 0.        ]\n"
     ]
    },
    {
     "data": {
      "application/vnd.jupyter.widget-view+json": {
       "model_id": "b59c38e091424178939cc28b527396e2",
       "version_major": 2,
       "version_minor": 0
      },
      "text/plain": [
       "HBox(children=(IntProgress(value=0, max=11), HTML(value='')))"
      ]
     },
     "metadata": {},
     "output_type": "display_data"
    },
    {
     "name": "stdout",
     "output_type": "stream",
     "text": [
      "\n"
     ]
    },
    {
     "data": {
      "application/vnd.jupyter.widget-view+json": {
       "model_id": "58ce1cbc963441dcb98c1c881b000ebc",
       "version_major": 2,
       "version_minor": 0
      },
      "text/plain": [
       "HBox(children=(IntProgress(value=0, max=11), HTML(value='')))"
      ]
     },
     "metadata": {},
     "output_type": "display_data"
    },
    {
     "name": "stdout",
     "output_type": "stream",
     "text": [
      "\n",
      "[0.79068522 2.00963597 2.73942719 3.30902034 3.75950214]\n",
      "[0.16956638 0.12607066 0.11041221 0.10505889 0.10037473]\n"
     ]
    }
   ],
   "source": [
    "acc_val_fact = np.zeros(5)\n",
    "acc_train_fact = np.zeros(5)\n",
    "i = 0\n",
    "for fac in facts:\n",
    "    acc_val_fac = []\n",
    "    acc_train_fac = []\n",
    "    for cv_ind in range(cv):\n",
    "        ind = [j for j in range(cv) if j != cv_ind]\n",
    "        total_ind = np.concatenate([train_cv_ind[k] for k in ind] )\n",
    "        X = track_playlist_data[total_ind]\n",
    "        y = X_train.tracks[total_ind]\n",
    "        X_test = track_playlist_data[train_cv_ind[cv_ind]]\n",
    "        y_test = X_train.tracks[train_cv_ind[cv_ind]]\n",
    "        model = implicit.als.AlternatingLeastSquares(factors = fac,iterations = 11)\n",
    "        model.fit(X.T)\n",
    "        acc_val_fac.append(score(model,X_test,y_test))\n",
    "        acc_train_fac.append(score(model,X,y))\n",
    "    acc_val_fact[i] = np.mean(acc_val_fac)\n",
    "    acc_train_fact[i] = np.mean(acc_train_fac)\n",
    "    print(acc_train_fact)\n",
    "    print(acc_val_fact)\n",
    "    i = i + 1     "
   ]
  },
  {
   "cell_type": "code",
   "execution_count": 291,
   "metadata": {},
   "outputs": [
    {
     "data": {
      "image/png": "[encoded data removed]",
      "text/plain": [
       "<Figure size 432x288 with 1 Axes>"
      ]
     },
     "metadata": {
      "needs_background": "light"
     },
     "output_type": "display_data"
    }
   ],
   "source": [
    "plt.plot(np.arange(5,105, 20),acc_val, label = 'validation')\n",
    "plt.plot(np.arange(5,105, 20),acc_train, label = 'train')\n",
    "plt.xlabel('factor size')\n",
    "plt.ylabel('accuracy')\n",
    "plt.title('Choosing the factor size')\n",
    "plt.legend()\n",
    "plt.show()"
   ]
  },
  {
   "cell_type": "code",
   "execution_count": 351,
   "metadata": {
    "scrolled": true
   },
   "outputs": [
    {
     "data": {
      "application/vnd.jupyter.widget-view+json": {
       "model_id": "4d606c8a93da410199d8db14bea7f84d",
       "version_major": 2,
       "version_minor": 0
      },
      "text/plain": [
       "HBox(children=(IntProgress(value=0, max=2), HTML(value='')))"
      ]
     },
     "metadata": {},
     "output_type": "display_data"
    },
    {
     "name": "stdout",
     "output_type": "stream",
     "text": [
      "\n"
     ]
    },
    {
     "data": {
      "application/vnd.jupyter.widget-view+json": {
       "model_id": "e486a3703b574644bdfd643db709985a",
       "version_major": 2,
       "version_minor": 0
      },
      "text/plain": [
       "HBox(children=(IntProgress(value=0, max=2), HTML(value='')))"
      ]
     },
     "metadata": {},
     "output_type": "display_data"
    },
    {
     "name": "stdout",
     "output_type": "stream",
     "text": [
      "\n",
      "[0.23434154 0.         0.         0.         0.        ]\n",
      "[0.24986617 0.         0.         0.         0.        ]\n"
     ]
    },
    {
     "data": {
      "application/vnd.jupyter.widget-view+json": {
       "model_id": "ce4efc61189c40a38d646e135c3ee03d",
       "version_major": 2,
       "version_minor": 0
      },
      "text/plain": [
       "HBox(children=(IntProgress(value=0, max=6), HTML(value='')))"
      ]
     },
     "metadata": {},
     "output_type": "display_data"
    },
    {
     "name": "stdout",
     "output_type": "stream",
     "text": [
      "\n"
     ]
    },
    {
     "data": {
      "application/vnd.jupyter.widget-view+json": {
       "model_id": "a3548bd3d2d04399ba3c60a287234e15",
       "version_major": 2,
       "version_minor": 0
      },
      "text/plain": [
       "HBox(children=(IntProgress(value=0, max=6), HTML(value='')))"
      ]
     },
     "metadata": {},
     "output_type": "display_data"
    },
    {
     "name": "stdout",
     "output_type": "stream",
     "text": [
      "\n",
      "[0.23434154 0.23273555 0.         0.         0.        ]\n",
      "[0.24986617 0.24397752 0.         0.         0.        ]\n"
     ]
    },
    {
     "data": {
      "application/vnd.jupyter.widget-view+json": {
       "model_id": "34dfa98d9f9149059df530e90e29d669",
       "version_major": 2,
       "version_minor": 0
      },
      "text/plain": [
       "HBox(children=(IntProgress(value=0, max=10), HTML(value='')))"
      ]
     },
     "metadata": {},
     "output_type": "display_data"
    },
    {
     "name": "stdout",
     "output_type": "stream",
     "text": [
      "\n"
     ]
    },
    {
     "data": {
      "application/vnd.jupyter.widget-view+json": {
       "model_id": "838c6870c3d64afda77655b15efb594a",
       "version_major": 2,
       "version_minor": 0
      },
      "text/plain": [
       "HBox(children=(IntProgress(value=0, max=10), HTML(value='')))"
      ]
     },
     "metadata": {},
     "output_type": "display_data"
    },
    {
     "name": "stdout",
     "output_type": "stream",
     "text": [
      "\n",
      "[0.23434154 0.23273555 0.23112955 0.         0.        ]\n",
      "[0.24986617 0.24397752 0.24504818 0.         0.        ]\n"
     ]
    },
    {
     "data": {
      "application/vnd.jupyter.widget-view+json": {
       "model_id": "ce559490d1be4ec7b3f6478d623d55ea",
       "version_major": 2,
       "version_minor": 0
      },
      "text/plain": [
       "HBox(children=(IntProgress(value=0, max=14), HTML(value='')))"
      ]
     },
     "metadata": {},
     "output_type": "display_data"
    },
    {
     "name": "stdout",
     "output_type": "stream",
     "text": [
      "\n"
     ]
    },
    {
     "data": {
      "application/vnd.jupyter.widget-view+json": {
       "model_id": "7dde4f1aa10d4063b7df5d0a437d6649",
       "version_major": 2,
       "version_minor": 0
      },
      "text/plain": [
       "HBox(children=(IntProgress(value=0, max=14), HTML(value='')))"
      ]
     },
     "metadata": {},
     "output_type": "display_data"
    },
    {
     "name": "stdout",
     "output_type": "stream",
     "text": [
      "\n",
      "[0.23434154 0.23273555 0.23112955 0.23112955 0.        ]\n",
      "[0.24986617 0.24397752 0.24504818 0.24504818 0.        ]\n"
     ]
    },
    {
     "data": {
      "application/vnd.jupyter.widget-view+json": {
       "model_id": "9a7c8c849d14496581042282d0adaac9",
       "version_major": 2,
       "version_minor": 0
      },
      "text/plain": [
       "HBox(children=(IntProgress(value=0, max=18), HTML(value='')))"
      ]
     },
     "metadata": {},
     "output_type": "display_data"
    },
    {
     "name": "stdout",
     "output_type": "stream",
     "text": [
      "\n"
     ]
    },
    {
     "data": {
      "application/vnd.jupyter.widget-view+json": {
       "model_id": "e1e39d53718d4fc692a6182e9c83c189",
       "version_major": 2,
       "version_minor": 0
      },
      "text/plain": [
       "HBox(children=(IntProgress(value=0, max=18), HTML(value='')))"
      ]
     },
     "metadata": {},
     "output_type": "display_data"
    },
    {
     "name": "stdout",
     "output_type": "stream",
     "text": [
      "\n",
      "[0.23434154 0.23273555 0.23112955 0.23112955 0.23112955]\n",
      "[0.24986617 0.24397752 0.24504818 0.24504818 0.24504818]\n"
     ]
    }
   ],
   "source": [
    "acc_val_iter = np.zeros(5)\n",
    "acc_train_iter = np.zeros(5)\n",
    "i = 0\n",
    "for it in iters:\n",
    "    acc_val_it = []\n",
    "    acc_train_it = []\n",
    "    for cv_ind in range(cv):\n",
    "        ind = [j for j in range(cv) if j != cv_ind]\n",
    "        total_ind = np.concatenate([train_cv_ind[k] for k in ind] )\n",
    "        X = track_playlist_data[total_ind]\n",
    "        y = X_train.tracks[total_ind]\n",
    "        X_test = track_playlist_data[train_cv_ind[cv_ind]]\n",
    "        y_test = X_train.tracks[train_cv_ind[cv_ind]]\n",
    "        model = implicit.als.AlternatingLeastSquares(factors = 1,iterations = it)\n",
    "        model.fit(X.T)\n",
    "        acc_val_it.append(score(model,X_test,y_test))\n",
    "        acc_train_it.append(score(model,X,y))\n",
    "    acc_val_iter[i] = np.mean(acc_val_it)\n",
    "    acc_train_iter[i] = np.mean(acc_train_it)\n",
    "    print(acc_val_iter)\n",
    "    print(acc_train_iter)\n",
    "    i = i + 1     "
   ]
  },
  {
   "cell_type": "code",
   "execution_count": 352,
   "metadata": {},
   "outputs": [
    {
     "data": {
      "image/png": "[encoded data removed]",
      "text/plain": [
       "<Figure size 432x288 with 1 Axes>"
      ]
     },
     "metadata": {
      "needs_background": "light"
     },
     "output_type": "display_data"
    }
   ],
   "source": [
    "plt.plot(np.arange(2,20,4),acc_val_iter, label = 'validation')\n",
    "plt.plot(np.arange(2,20,4),acc_train_iter, label = 'train')\n",
    "plt.xlabel('iteration size')\n",
    "plt.ylabel('accuracy')\n",
    "plt.title('Choosing the iteration size')\n",
    "plt.legend()\n",
    "plt.show()\n"
   ]
  },
  {
   "cell_type": "code",
   "execution_count": 354,
   "metadata": {
    "scrolled": false
   },
   "outputs": [
    {
     "data": {
      "application/vnd.jupyter.widget-view+json": {
       "model_id": "b19c78f45b3646e69be054221b0ab2a8",
       "version_major": 2,
       "version_minor": 0
      },
      "text/plain": [
       "HBox(children=(IntProgress(value=0, max=1), HTML(value='')))"
      ]
     },
     "metadata": {},
     "output_type": "display_data"
    },
    {
     "name": "stdout",
     "output_type": "stream",
     "text": [
      "\n"
     ]
    },
    {
     "data": {
      "application/vnd.jupyter.widget-view+json": {
       "model_id": "4825ca64fe074dccb852c389213b9c46",
       "version_major": 2,
       "version_minor": 0
      },
      "text/plain": [
       "HBox(children=(IntProgress(value=0, max=1), HTML(value='')))"
      ]
     },
     "metadata": {},
     "output_type": "display_data"
    },
    {
     "name": "stdout",
     "output_type": "stream",
     "text": [
      "\n"
     ]
    },
    {
     "data": {
      "application/vnd.jupyter.widget-view+json": {
       "model_id": "66e2210b41434985b6eca77e6bdf6a86",
       "version_major": 2,
       "version_minor": 0
      },
      "text/plain": [
       "HBox(children=(IntProgress(value=0, max=1), HTML(value='')))"
      ]
     },
     "metadata": {},
     "output_type": "display_data"
    },
    {
     "name": "stdout",
     "output_type": "stream",
     "text": [
      "\n"
     ]
    },
    {
     "data": {
      "application/vnd.jupyter.widget-view+json": {
       "model_id": "a56c9e4e21164b25b3025b519dd455f9",
       "version_major": 2,
       "version_minor": 0
      },
      "text/plain": [
       "HBox(children=(IntProgress(value=0, max=1), HTML(value='')))"
      ]
     },
     "metadata": {},
     "output_type": "display_data"
    },
    {
     "name": "stdout",
     "output_type": "stream",
     "text": [
      "\n"
     ]
    },
    {
     "data": {
      "application/vnd.jupyter.widget-view+json": {
       "model_id": "e580f885e9214d1f98f2fe0ad2528693",
       "version_major": 2,
       "version_minor": 0
      },
      "text/plain": [
       "HBox(children=(IntProgress(value=0, max=1), HTML(value='')))"
      ]
     },
     "metadata": {},
     "output_type": "display_data"
    },
    {
     "name": "stdout",
     "output_type": "stream",
     "text": [
      "\n",
      "[0.23868809 0.         0.        ]\n",
      "[0.24688755 0.         0.        ]\n"
     ]
    },
    {
     "data": {
      "application/vnd.jupyter.widget-view+json": {
       "model_id": "aa40be27403c4c708d1f199f05c14115",
       "version_major": 2,
       "version_minor": 0
      },
      "text/plain": [
       "HBox(children=(IntProgress(value=0, max=2), HTML(value='')))"
      ]
     },
     "metadata": {},
     "output_type": "display_data"
    },
    {
     "name": "stdout",
     "output_type": "stream",
     "text": [
      "\n"
     ]
    },
    {
     "data": {
      "application/vnd.jupyter.widget-view+json": {
       "model_id": "046b3d0a2f7c44058338774abd1d32f1",
       "version_major": 2,
       "version_minor": 0
      },
      "text/plain": [
       "HBox(children=(IntProgress(value=0, max=2), HTML(value='')))"
      ]
     },
     "metadata": {},
     "output_type": "display_data"
    },
    {
     "name": "stdout",
     "output_type": "stream",
     "text": [
      "\n"
     ]
    },
    {
     "data": {
      "application/vnd.jupyter.widget-view+json": {
       "model_id": "0a7e8d2797ec4a36abaab29d30e97117",
       "version_major": 2,
       "version_minor": 0
      },
      "text/plain": [
       "HBox(children=(IntProgress(value=0, max=2), HTML(value='')))"
      ]
     },
     "metadata": {},
     "output_type": "display_data"
    },
    {
     "name": "stdout",
     "output_type": "stream",
     "text": [
      "\n"
     ]
    },
    {
     "data": {
      "application/vnd.jupyter.widget-view+json": {
       "model_id": "1e8a9380fa1a4139a82beda72d132650",
       "version_major": 2,
       "version_minor": 0
      },
      "text/plain": [
       "HBox(children=(IntProgress(value=0, max=2), HTML(value='')))"
      ]
     },
     "metadata": {},
     "output_type": "display_data"
    },
    {
     "name": "stdout",
     "output_type": "stream",
     "text": [
      "\n"
     ]
    },
    {
     "data": {
      "application/vnd.jupyter.widget-view+json": {
       "model_id": "cd95d84ddba14d9b8c899ff0599cff6e",
       "version_major": 2,
       "version_minor": 0
      },
      "text/plain": [
       "HBox(children=(IntProgress(value=0, max=2), HTML(value='')))"
      ]
     },
     "metadata": {},
     "output_type": "display_data"
    },
    {
     "name": "stdout",
     "output_type": "stream",
     "text": [
      "\n",
      "[0.23868809 0.23908969 0.        ]\n",
      "[0.24688755 0.24628514 0.        ]\n"
     ]
    },
    {
     "data": {
      "application/vnd.jupyter.widget-view+json": {
       "model_id": "4efafc85ca5c43d7b5f4c0b4a463bc66",
       "version_major": 2,
       "version_minor": 0
      },
      "text/plain": [
       "HBox(children=(IntProgress(value=0, max=3), HTML(value='')))"
      ]
     },
     "metadata": {},
     "output_type": "display_data"
    },
    {
     "name": "stdout",
     "output_type": "stream",
     "text": [
      "\n"
     ]
    },
    {
     "ename": "KeyboardInterrupt",
     "evalue": "",
     "output_type": "error",
     "traceback": [
      "\u001b[0;31m---------------------------------------------------------------------------\u001b[0m",
      "\u001b[0;31mKeyboardInterrupt\u001b[0m                         Traceback (most recent call last)",
      "\u001b[0;32m<ipython-input-354-2b3a79dedef3>\u001b[0m in \u001b[0;36m<module>\u001b[0;34m\u001b[0m\n\u001b[1;32m     29\u001b[0m         \u001b[0mmodel\u001b[0m\u001b[0;34m.\u001b[0m\u001b[0mfit\u001b[0m\u001b[0;34m(\u001b[0m\u001b[0mX\u001b[0m\u001b[0;34m.\u001b[0m\u001b[0mT\u001b[0m\u001b[0;34m)\u001b[0m\u001b[0;34m\u001b[0m\u001b[0;34m\u001b[0m\u001b[0m\n\u001b[1;32m     30\u001b[0m         \u001b[0macc_val_it\u001b[0m\u001b[0;34m.\u001b[0m\u001b[0mappend\u001b[0m\u001b[0;34m(\u001b[0m\u001b[0mscore\u001b[0m\u001b[0;34m(\u001b[0m\u001b[0mmodel\u001b[0m\u001b[0;34m,\u001b[0m\u001b[0mX_test\u001b[0m\u001b[0;34m,\u001b[0m\u001b[0my_test\u001b[0m\u001b[0;34m)\u001b[0m\u001b[0;34m)\u001b[0m\u001b[0;34m\u001b[0m\u001b[0;34m\u001b[0m\u001b[0m\n\u001b[0;32m---> 31\u001b[0;31m         \u001b[0macc_train_it\u001b[0m\u001b[0;34m.\u001b[0m\u001b[0mappend\u001b[0m\u001b[0;34m(\u001b[0m\u001b[0mscore\u001b[0m\u001b[0;34m(\u001b[0m\u001b[0mmodel\u001b[0m\u001b[0;34m,\u001b[0m\u001b[0mX\u001b[0m\u001b[0;34m,\u001b[0m\u001b[0my\u001b[0m\u001b[0;34m)\u001b[0m\u001b[0;34m)\u001b[0m\u001b[0;34m\u001b[0m\u001b[0;34m\u001b[0m\u001b[0m\n\u001b[0m\u001b[1;32m     32\u001b[0m     \u001b[0macc_val_iter\u001b[0m\u001b[0;34m[\u001b[0m\u001b[0mi\u001b[0m\u001b[0;34m]\u001b[0m \u001b[0;34m=\u001b[0m \u001b[0mnp\u001b[0m\u001b[0;34m.\u001b[0m\u001b[0mmean\u001b[0m\u001b[0;34m(\u001b[0m\u001b[0macc_val_it\u001b[0m\u001b[0;34m)\u001b[0m\u001b[0;34m\u001b[0m\u001b[0;34m\u001b[0m\u001b[0m\n\u001b[1;32m     33\u001b[0m     \u001b[0macc_train_iter\u001b[0m\u001b[0;34m[\u001b[0m\u001b[0mi\u001b[0m\u001b[0;34m]\u001b[0m \u001b[0;34m=\u001b[0m \u001b[0mnp\u001b[0m\u001b[0;34m.\u001b[0m\u001b[0mmean\u001b[0m\u001b[0;34m(\u001b[0m\u001b[0macc_train_it\u001b[0m\u001b[0;34m)\u001b[0m\u001b[0;34m\u001b[0m\u001b[0;34m\u001b[0m\u001b[0m\n",
      "\u001b[0;32m<ipython-input-270-25f6ba428eba>\u001b[0m in \u001b[0;36mscore\u001b[0;34m(estimator, X, y)\u001b[0m\n\u001b[1;32m      7\u001b[0m         \u001b[0mplaylistid\u001b[0m \u001b[0;34m=\u001b[0m \u001b[0mind\u001b[0m\u001b[0;34m\u001b[0m\u001b[0;34m\u001b[0m\u001b[0m\n\u001b[1;32m      8\u001b[0m         \u001b[0;31m# recommend 10(default) tracks for a playlist\u001b[0m\u001b[0;34m\u001b[0m\u001b[0;34m\u001b[0m\u001b[0;34m\u001b[0m\u001b[0m\n\u001b[0;32m----> 9\u001b[0;31m         \u001b[0mplaylist_track\u001b[0m \u001b[0;34m=\u001b[0m \u001b[0mX\u001b[0m\u001b[0;34m.\u001b[0m\u001b[0mT\u001b[0m\u001b[0;34m.\u001b[0m\u001b[0mtocsr\u001b[0m\u001b[0;34m(\u001b[0m\u001b[0;34m)\u001b[0m\u001b[0;34m\u001b[0m\u001b[0;34m\u001b[0m\u001b[0m\n\u001b[0m\u001b[1;32m     10\u001b[0m         \u001b[0mrecommendations\u001b[0m \u001b[0;34m=\u001b[0m \u001b[0mestimator\u001b[0m\u001b[0;34m.\u001b[0m\u001b[0mrecommend\u001b[0m\u001b[0;34m(\u001b[0m\u001b[0mplaylistid\u001b[0m\u001b[0;34m,\u001b[0m \u001b[0mplaylist_track\u001b[0m\u001b[0;34m)\u001b[0m\u001b[0;34m\u001b[0m\u001b[0;34m\u001b[0m\u001b[0m\n\u001b[1;32m     11\u001b[0m         \u001b[0mplaylist_pred\u001b[0m \u001b[0;34m=\u001b[0m \u001b[0;34m[\u001b[0m\u001b[0mtracks\u001b[0m\u001b[0;34m[\u001b[0m\u001b[0mi\u001b[0m\u001b[0;34m]\u001b[0m \u001b[0;32mfor\u001b[0m \u001b[0mi\u001b[0m \u001b[0;32min\u001b[0m \u001b[0mlist\u001b[0m\u001b[0;34m(\u001b[0m\u001b[0mzip\u001b[0m\u001b[0;34m(\u001b[0m\u001b[0;34m*\u001b[0m\u001b[0mrecommendations\u001b[0m\u001b[0;34m)\u001b[0m\u001b[0;34m)\u001b[0m\u001b[0;34m[\u001b[0m\u001b[0;36m0\u001b[0m\u001b[0;34m]\u001b[0m \u001b[0;34m]\u001b[0m\u001b[0;34m\u001b[0m\u001b[0;34m\u001b[0m\u001b[0m\n",
      "\u001b[0;32m~/opt/anaconda3/lib/python3.7/site-packages/scipy/sparse/csc.py\u001b[0m in \u001b[0;36mtocsr\u001b[0;34m(self, copy)\u001b[0m\n\u001b[1;32m    148\u001b[0m                   \u001b[0mindptr\u001b[0m\u001b[0;34m,\u001b[0m\u001b[0;34m\u001b[0m\u001b[0;34m\u001b[0m\u001b[0m\n\u001b[1;32m    149\u001b[0m                   \u001b[0mindices\u001b[0m\u001b[0;34m,\u001b[0m\u001b[0;34m\u001b[0m\u001b[0;34m\u001b[0m\u001b[0m\n\u001b[0;32m--> 150\u001b[0;31m                   data)\n\u001b[0m\u001b[1;32m    151\u001b[0m \u001b[0;34m\u001b[0m\u001b[0m\n\u001b[1;32m    152\u001b[0m         \u001b[0;32mfrom\u001b[0m \u001b[0;34m.\u001b[0m\u001b[0mcsr\u001b[0m \u001b[0;32mimport\u001b[0m \u001b[0mcsr_matrix\u001b[0m\u001b[0;34m\u001b[0m\u001b[0;34m\u001b[0m\u001b[0m\n",
      "\u001b[0;31mKeyboardInterrupt\u001b[0m: "
     ]
    }
   ],
   "source": [
    "## after trying cv on factor size from 1-40, iteraotion size 1-20, factor size of 1 seems to be the best; so we do 5-fold cv\n",
    "## on iteration size too\n",
    "cv = 5\n",
    "l = X_train.shape[0]\n",
    "def chunks(l, n):\n",
    "    # For item i in a range that is a length of l,\n",
    "    for i in range(0, l, l//n):\n",
    "        # Create an index range for l of n items:\n",
    "        linspace = np.linspace(i,i+(l//n),(l//n))\n",
    "        index = [int(j) for j in list(linspace)]\n",
    "        yield index     \n",
    "train_cv_ind = list(chunks(l,cv))\n",
    "\n",
    "acc_val_iter = np.zeros(3)\n",
    "acc_train_iter = np.zeros(3)\n",
    "i = 0\n",
    "iters = range(1,4)\n",
    "for it in iters:\n",
    "    acc_val_it = []\n",
    "    acc_train_it = []\n",
    "    for cv_ind in range(cv):\n",
    "        ind = [j for j in range(cv) if j != cv_ind]\n",
    "        total_ind = np.concatenate([train_cv_ind[k] for k in ind] )\n",
    "        X = track_playlist_data[total_ind]\n",
    "        y = X_train.tracks[total_ind]\n",
    "        X_test = track_playlist_data[train_cv_ind[cv_ind]]\n",
    "        y_test = X_train.tracks[train_cv_ind[cv_ind]]\n",
    "        model = implicit.als.AlternatingLeastSquares(factors = 1,iterations = it)\n",
    "        model.fit(X.T)\n",
    "        acc_val_it.append(score(model,X_test,y_test))\n",
    "        acc_train_it.append(score(model,X,y))\n",
    "    acc_val_iter[i] = np.mean(acc_val_it)\n",
    "    acc_train_iter[i] = np.mean(acc_train_it)\n",
    "    print(acc_val_iter)\n",
    "    print(acc_train_iter)\n",
    "    i = i + 1  "
   ]
  },
  {
   "cell_type": "code",
   "execution_count": 359,
   "metadata": {},
   "outputs": [
    {
     "data": {
      "application/vnd.jupyter.widget-view+json": {
       "model_id": "c740fefad52a4c6e880902b355fd5ea9",
       "version_major": 2,
       "version_minor": 0
      },
      "text/plain": [
       "HBox(children=(IntProgress(value=0, max=5), HTML(value='')))"
      ]
     },
     "metadata": {},
     "output_type": "display_data"
    },
    {
     "name": "stdout",
     "output_type": "stream",
     "text": [
      "\n"
     ]
    },
    {
     "data": {
      "application/vnd.jupyter.widget-view+json": {
       "model_id": "3347008ee4134388846e4fa00696ea0c",
       "version_major": 2,
       "version_minor": 0
      },
      "text/plain": [
       "HBox(children=(IntProgress(value=0, max=5), HTML(value='')))"
      ]
     },
     "metadata": {},
     "output_type": "display_data"
    },
    {
     "name": "stdout",
     "output_type": "stream",
     "text": [
      "\n",
      "[0.1643469 0.        0.       ]\n",
      "[0.82963062 0.         0.        ]\n"
     ]
    },
    {
     "data": {
      "application/vnd.jupyter.widget-view+json": {
       "model_id": "a25f5636da084815a29acdb59eda2857",
       "version_major": 2,
       "version_minor": 0
      },
      "text/plain": [
       "HBox(children=(IntProgress(value=0, max=5), HTML(value='')))"
      ]
     },
     "metadata": {},
     "output_type": "display_data"
    },
    {
     "name": "stdout",
     "output_type": "stream",
     "text": [
      "\n"
     ]
    },
    {
     "data": {
      "application/vnd.jupyter.widget-view+json": {
       "model_id": "18f0075798834aa78ee2c338494948b2",
       "version_major": 2,
       "version_minor": 0
      },
      "text/plain": [
       "HBox(children=(IntProgress(value=0, max=5), HTML(value='')))"
      ]
     },
     "metadata": {},
     "output_type": "display_data"
    },
    {
     "name": "stdout",
     "output_type": "stream",
     "text": [
      "\n",
      "[0.1643469  0.16675589 0.        ]\n",
      "[0.82963062 0.81116167 0.        ]\n"
     ]
    },
    {
     "data": {
      "application/vnd.jupyter.widget-view+json": {
       "model_id": "c5b415194136457caac8a4f36ec9b89f",
       "version_major": 2,
       "version_minor": 0
      },
      "text/plain": [
       "HBox(children=(IntProgress(value=0, max=5), HTML(value='')))"
      ]
     },
     "metadata": {},
     "output_type": "display_data"
    },
    {
     "name": "stdout",
     "output_type": "stream",
     "text": [
      "\n"
     ]
    },
    {
     "data": {
      "application/vnd.jupyter.widget-view+json": {
       "model_id": "f58f936283f5499ebb56387d47d25691",
       "version_major": 2,
       "version_minor": 0
      },
      "text/plain": [
       "HBox(children=(IntProgress(value=0, max=5), HTML(value='')))"
      ]
     },
     "metadata": {},
     "output_type": "display_data"
    },
    {
     "name": "stdout",
     "output_type": "stream",
     "text": [
      "\n",
      "[0.1643469  0.16675589 0.16662206]\n",
      "[0.82963062 0.81116167 0.82855996]\n"
     ]
    }
   ],
   "source": [
    "acc_val_reg = np.zeros(3)\n",
    "acc_train_reg = np.zeros(3)\n",
    "i = 0\n",
    "for reg in [0,0.01,0.1]:\n",
    "    acc_val_it = []\n",
    "    acc_train_it = []\n",
    "    for cv_ind in range(cv):\n",
    "        ind = [j for j in range(cv) if j != cv_ind]\n",
    "        total_ind = np.concatenate([train_cv_ind[k] for k in ind] )\n",
    "        X = track_playlist_data[total_ind]\n",
    "        y = X_train.tracks[total_ind]\n",
    "        X_test = track_playlist_data[train_cv_ind[cv_ind]]\n",
    "        y_test = X_train.tracks[train_cv_ind[cv_ind]]\n",
    "        model = implicit.als.AlternatingLeastSquares(factors = 5,iterations = 5, regularization = reg)\n",
    "        model.fit(X.T)\n",
    "        acc_val_it.append(score(model,X_test,y_test))\n",
    "        acc_train_it.append(score(model,X,y))\n",
    "    acc_val_reg[i] = np.mean(acc_val_it)\n",
    "    acc_train_reg[i] = np.mean(acc_train_it)\n",
    "    print(acc_val_reg)\n",
    "    print(acc_train_reg)\n",
    "    i = i + 1     "
   ]
  },
  {
   "cell_type": "code",
   "execution_count": 389,
   "metadata": {},
   "outputs": [
    {
     "data": {
      "application/vnd.jupyter.widget-view+json": {
       "model_id": "d27b30fdba25407785d8573fea18e847",
       "version_major": 2,
       "version_minor": 0
      },
      "text/plain": [
       "HBox(children=(IntProgress(value=0, max=1), HTML(value='')))"
      ]
     },
     "metadata": {},
     "output_type": "display_data"
    },
    {
     "name": "stdout",
     "output_type": "stream",
     "text": [
      "\n",
      "Overall test accuracy of ALS:  0.23683168316831682\n"
     ]
    }
   ],
   "source": [
    "model = implicit.als.AlternatingLeastSquares(factors=1, iterations = 1)\n",
    "\n",
    "# train the model on a sparse matrix of item/user/confidence weights\n",
    "model.fit(track_playlist_data.T)\n",
    "\n",
    "acc = 0\n",
    "acc_ind = []\n",
    "for ind in range(len(X_test)):\n",
    "    playlistid = ind\n",
    "    # recommend 10(default) tracks for a playlist\n",
    "    playlist_track = track_playlist_data_test.T\n",
    "    recommendations = model.recommend(playlistid, playlist_track)\n",
    "    playlist_pred = [tracks[i] for i in list(zip(*recommendations))[0]]\n",
    "    playlist_true = [j for j in X_test.tracks[playlistid] if j is not None]\n",
    "    acc_ind.append(intersect_rate(playlist_true,playlist_pred))\n",
    "print('Overall test accuracy of ALS: ', np.mean(acc_ind))"
   ]
  },
  {
   "cell_type": "code",
   "execution_count": 83,
   "metadata": {
    "collapsed": true
   },
   "outputs": [
    {
     "data": {
      "application/vnd.jupyter.widget-view+json": {
       "model_id": "3b790e768a13489087cc3ecd18dc9653",
       "version_major": 2,
       "version_minor": 0
      },
      "text/plain": [
       "HBox(children=(IntProgress(value=0, max=15), HTML(value='')))"
      ]
     },
     "metadata": {},
     "output_type": "display_data"
    },
    {
     "name": "stdout",
     "output_type": "stream",
     "text": [
      "\n"
     ]
    },
    {
     "ename": "KeyboardInterrupt",
     "evalue": "",
     "output_type": "error",
     "traceback": [
      "\u001b[0;31m---------------------------------------------------------------------------\u001b[0m",
      "\u001b[0;31mKeyboardInterrupt\u001b[0m                         Traceback (most recent call last)",
      "\u001b[0;32m<ipython-input-83-4a64dc3b69a5>\u001b[0m in \u001b[0;36m<module>\u001b[0;34m\u001b[0m\n\u001b[1;32m     15\u001b[0m         \u001b[0;31m# recommend 10(default) tracks for a playlist\u001b[0m\u001b[0;34m\u001b[0m\u001b[0;34m\u001b[0m\u001b[0;34m\u001b[0m\u001b[0m\n\u001b[1;32m     16\u001b[0m         \u001b[0mplaylist_track\u001b[0m \u001b[0;34m=\u001b[0m \u001b[0mtrack_playlist_data\u001b[0m\u001b[0;34m.\u001b[0m\u001b[0mtocsr\u001b[0m\u001b[0;34m(\u001b[0m\u001b[0;34m)\u001b[0m\u001b[0;34m\u001b[0m\u001b[0;34m\u001b[0m\u001b[0m\n\u001b[0;32m---> 17\u001b[0;31m         \u001b[0mrecommendations\u001b[0m \u001b[0;34m=\u001b[0m \u001b[0mmodel\u001b[0m\u001b[0;34m.\u001b[0m\u001b[0mrecommend\u001b[0m\u001b[0;34m(\u001b[0m\u001b[0mplaylistid\u001b[0m\u001b[0;34m,\u001b[0m \u001b[0mplaylist_track\u001b[0m\u001b[0;34m)\u001b[0m\u001b[0;34m\u001b[0m\u001b[0;34m\u001b[0m\u001b[0m\n\u001b[0m\u001b[1;32m     18\u001b[0m         \u001b[0mplaylist_pred\u001b[0m \u001b[0;34m=\u001b[0m \u001b[0;34m[\u001b[0m\u001b[0mtracks\u001b[0m\u001b[0;34m[\u001b[0m\u001b[0mi\u001b[0m\u001b[0;34m]\u001b[0m \u001b[0;32mfor\u001b[0m \u001b[0mi\u001b[0m \u001b[0;32min\u001b[0m \u001b[0mlist\u001b[0m\u001b[0;34m(\u001b[0m\u001b[0mzip\u001b[0m\u001b[0;34m(\u001b[0m\u001b[0;34m*\u001b[0m\u001b[0mrecommendations\u001b[0m\u001b[0;34m)\u001b[0m\u001b[0;34m)\u001b[0m\u001b[0;34m[\u001b[0m\u001b[0;36m0\u001b[0m\u001b[0;34m]\u001b[0m \u001b[0;34m]\u001b[0m\u001b[0;34m\u001b[0m\u001b[0;34m\u001b[0m\u001b[0m\n\u001b[1;32m     19\u001b[0m         \u001b[0mplaylist_true\u001b[0m \u001b[0;34m=\u001b[0m \u001b[0;34m[\u001b[0m\u001b[0mj\u001b[0m \u001b[0;32mfor\u001b[0m \u001b[0mj\u001b[0m \u001b[0;32min\u001b[0m \u001b[0mX_train\u001b[0m\u001b[0;34m.\u001b[0m\u001b[0mtracks\u001b[0m\u001b[0;34m[\u001b[0m\u001b[0mind\u001b[0m\u001b[0;34m]\u001b[0m \u001b[0;32mif\u001b[0m \u001b[0mj\u001b[0m \u001b[0;32mis\u001b[0m \u001b[0;32mnot\u001b[0m \u001b[0;32mNone\u001b[0m\u001b[0;34m]\u001b[0m\u001b[0;34m\u001b[0m\u001b[0;34m\u001b[0m\u001b[0m\n",
      "\u001b[0;32mimplicit/recommender_base.pyx\u001b[0m in \u001b[0;36mimplicit.recommender_base.MatrixFactorizationBase.recommend\u001b[0;34m()\u001b[0m\n",
      "\u001b[0;32m<__array_function__ internals>\u001b[0m in \u001b[0;36margpartition\u001b[0;34m(*args, **kwargs)\u001b[0m\n",
      "\u001b[0;32m~/opt/anaconda3/lib/python3.7/site-packages/numpy/core/fromnumeric.py\u001b[0m in \u001b[0;36margpartition\u001b[0;34m(a, kth, axis, kind, order)\u001b[0m\n\u001b[1;32m    817\u001b[0m \u001b[0;34m\u001b[0m\u001b[0m\n\u001b[1;32m    818\u001b[0m     \"\"\"\n\u001b[0;32m--> 819\u001b[0;31m     \u001b[0;32mreturn\u001b[0m \u001b[0m_wrapfunc\u001b[0m\u001b[0;34m(\u001b[0m\u001b[0ma\u001b[0m\u001b[0;34m,\u001b[0m \u001b[0;34m'argpartition'\u001b[0m\u001b[0;34m,\u001b[0m \u001b[0mkth\u001b[0m\u001b[0;34m,\u001b[0m \u001b[0maxis\u001b[0m\u001b[0;34m=\u001b[0m\u001b[0maxis\u001b[0m\u001b[0;34m,\u001b[0m \u001b[0mkind\u001b[0m\u001b[0;34m=\u001b[0m\u001b[0mkind\u001b[0m\u001b[0;34m,\u001b[0m \u001b[0morder\u001b[0m\u001b[0;34m=\u001b[0m\u001b[0morder\u001b[0m\u001b[0;34m)\u001b[0m\u001b[0;34m\u001b[0m\u001b[0;34m\u001b[0m\u001b[0m\n\u001b[0m\u001b[1;32m    820\u001b[0m \u001b[0;34m\u001b[0m\u001b[0m\n\u001b[1;32m    821\u001b[0m \u001b[0;34m\u001b[0m\u001b[0m\n",
      "\u001b[0;32m~/opt/anaconda3/lib/python3.7/site-packages/numpy/core/fromnumeric.py\u001b[0m in \u001b[0;36m_wrapfunc\u001b[0;34m(obj, method, *args, **kwds)\u001b[0m\n\u001b[1;32m     59\u001b[0m \u001b[0;34m\u001b[0m\u001b[0m\n\u001b[1;32m     60\u001b[0m     \u001b[0;32mtry\u001b[0m\u001b[0;34m:\u001b[0m\u001b[0;34m\u001b[0m\u001b[0;34m\u001b[0m\u001b[0m\n\u001b[0;32m---> 61\u001b[0;31m         \u001b[0;32mreturn\u001b[0m \u001b[0mbound\u001b[0m\u001b[0;34m(\u001b[0m\u001b[0;34m*\u001b[0m\u001b[0margs\u001b[0m\u001b[0;34m,\u001b[0m \u001b[0;34m**\u001b[0m\u001b[0mkwds\u001b[0m\u001b[0;34m)\u001b[0m\u001b[0;34m\u001b[0m\u001b[0;34m\u001b[0m\u001b[0m\n\u001b[0m\u001b[1;32m     62\u001b[0m     \u001b[0;32mexcept\u001b[0m \u001b[0mTypeError\u001b[0m\u001b[0;34m:\u001b[0m\u001b[0;34m\u001b[0m\u001b[0;34m\u001b[0m\u001b[0m\n\u001b[1;32m     63\u001b[0m         \u001b[0;31m# A TypeError occurs if the object does have such a method in its\u001b[0m\u001b[0;34m\u001b[0m\u001b[0;34m\u001b[0m\u001b[0;34m\u001b[0m\u001b[0m\n",
      "\u001b[0;31mKeyboardInterrupt\u001b[0m: "
     ]
    }
   ],
   "source": [
    "# no cv version of choosing factor size\n",
    "acc_mean = np.zeros(10)\n",
    "i = 0\n",
    "for fac in np.arange(0,100,10):\n",
    "    # initialize a model\n",
    "    model = implicit.als.AlternatingLeastSquares(factors=fac)\n",
    "\n",
    "    # train the model on a sparse matrix of item/user/confidence weights\n",
    "    model.fit(track_playlist_data.T)\n",
    "\n",
    "    acc = 0\n",
    "    acc_ind = []\n",
    "    for ind in range(7473):\n",
    "        playlistid = ind\n",
    "        # recommend 10(default) tracks for a playlist\n",
    "        playlist_track = track_playlist_data.tocsr()\n",
    "        recommendations = model.recommend(playlistid, playlist_track)\n",
    "        playlist_pred = [tracks[i] for i in list(zip(*recommendations))[0] ]\n",
    "        playlist_true = [j for j in X_train.tracks[ind] if j is not None]\n",
    "        acc_ind.append(intersect_rate(playlist_true,playlist_pred))\n",
    "    acc_mean[i] = np.mean(acc_ind)\n",
    "    print(acc_mean[i])\n",
    "    i = i + 1\n"
   ]
  },
  {
   "cell_type": "code",
   "execution_count": 84,
   "metadata": {
    "collapsed": true
   },
   "outputs": [
    {
     "data": {
      "application/vnd.jupyter.widget-view+json": {
       "model_id": "0eec48d720e547db8f8432d07a147bcd",
       "version_major": 2,
       "version_minor": 0
      },
      "text/plain": [
       "HBox(children=(IntProgress(value=1, bar_style='info', max=1), HTML(value='')))"
      ]
     },
     "metadata": {},
     "output_type": "display_data"
    },
    {
     "name": "stdout",
     "output_type": "stream",
     "text": [
      "\n"
     ]
    },
    {
     "ename": "KeyboardInterrupt",
     "evalue": "",
     "output_type": "error",
     "traceback": [
      "\u001b[0;31m---------------------------------------------------------------------------\u001b[0m",
      "\u001b[0;31mKeyboardInterrupt\u001b[0m                         Traceback (most recent call last)",
      "\u001b[0;32m<ipython-input-84-a6dbc9bbe5fe>\u001b[0m in \u001b[0;36m<module>\u001b[0;34m\u001b[0m\n\u001b[1;32m     15\u001b[0m         \u001b[0;31m# recommend 10(default) tracks for a playlist\u001b[0m\u001b[0;34m\u001b[0m\u001b[0;34m\u001b[0m\u001b[0;34m\u001b[0m\u001b[0m\n\u001b[1;32m     16\u001b[0m         \u001b[0mplaylist_track\u001b[0m \u001b[0;34m=\u001b[0m \u001b[0mtrack_playlist_data\u001b[0m\u001b[0;34m.\u001b[0m\u001b[0mtocsr\u001b[0m\u001b[0;34m(\u001b[0m\u001b[0;34m)\u001b[0m\u001b[0;34m\u001b[0m\u001b[0;34m\u001b[0m\u001b[0m\n\u001b[0;32m---> 17\u001b[0;31m         \u001b[0mrecommendations\u001b[0m \u001b[0;34m=\u001b[0m \u001b[0mmodel\u001b[0m\u001b[0;34m.\u001b[0m\u001b[0mrecommend\u001b[0m\u001b[0;34m(\u001b[0m\u001b[0mplaylistid\u001b[0m\u001b[0;34m,\u001b[0m \u001b[0mplaylist_track\u001b[0m\u001b[0;34m)\u001b[0m\u001b[0;34m\u001b[0m\u001b[0;34m\u001b[0m\u001b[0m\n\u001b[0m\u001b[1;32m     18\u001b[0m         \u001b[0mplaylist_pred\u001b[0m \u001b[0;34m=\u001b[0m \u001b[0;34m[\u001b[0m\u001b[0mtracks\u001b[0m\u001b[0;34m[\u001b[0m\u001b[0mi\u001b[0m\u001b[0;34m]\u001b[0m \u001b[0;32mfor\u001b[0m \u001b[0mi\u001b[0m \u001b[0;32min\u001b[0m \u001b[0mlist\u001b[0m\u001b[0;34m(\u001b[0m\u001b[0mzip\u001b[0m\u001b[0;34m(\u001b[0m\u001b[0;34m*\u001b[0m\u001b[0mrecommendations\u001b[0m\u001b[0;34m)\u001b[0m\u001b[0;34m)\u001b[0m\u001b[0;34m[\u001b[0m\u001b[0;36m0\u001b[0m\u001b[0;34m]\u001b[0m \u001b[0;34m]\u001b[0m\u001b[0;34m\u001b[0m\u001b[0;34m\u001b[0m\u001b[0m\n\u001b[1;32m     19\u001b[0m         \u001b[0mplaylist_true\u001b[0m \u001b[0;34m=\u001b[0m \u001b[0;34m[\u001b[0m\u001b[0mj\u001b[0m \u001b[0;32mfor\u001b[0m \u001b[0mj\u001b[0m \u001b[0;32min\u001b[0m \u001b[0mX_train\u001b[0m\u001b[0;34m.\u001b[0m\u001b[0mtracks\u001b[0m\u001b[0;34m[\u001b[0m\u001b[0mind\u001b[0m\u001b[0;34m]\u001b[0m \u001b[0;32mif\u001b[0m \u001b[0mj\u001b[0m \u001b[0;32mis\u001b[0m \u001b[0;32mnot\u001b[0m \u001b[0;32mNone\u001b[0m\u001b[0;34m]\u001b[0m\u001b[0;34m\u001b[0m\u001b[0;34m\u001b[0m\u001b[0m\n",
      "\u001b[0;32mimplicit/recommender_base.pyx\u001b[0m in \u001b[0;36mimplicit.recommender_base.MatrixFactorizationBase.recommend\u001b[0;34m()\u001b[0m\n",
      "\u001b[0;32m<__array_function__ internals>\u001b[0m in \u001b[0;36margpartition\u001b[0;34m(*args, **kwargs)\u001b[0m\n",
      "\u001b[0;32m~/opt/anaconda3/lib/python3.7/site-packages/numpy/core/fromnumeric.py\u001b[0m in \u001b[0;36margpartition\u001b[0;34m(a, kth, axis, kind, order)\u001b[0m\n\u001b[1;32m    817\u001b[0m \u001b[0;34m\u001b[0m\u001b[0m\n\u001b[1;32m    818\u001b[0m     \"\"\"\n\u001b[0;32m--> 819\u001b[0;31m     \u001b[0;32mreturn\u001b[0m \u001b[0m_wrapfunc\u001b[0m\u001b[0;34m(\u001b[0m\u001b[0ma\u001b[0m\u001b[0;34m,\u001b[0m \u001b[0;34m'argpartition'\u001b[0m\u001b[0;34m,\u001b[0m \u001b[0mkth\u001b[0m\u001b[0;34m,\u001b[0m \u001b[0maxis\u001b[0m\u001b[0;34m=\u001b[0m\u001b[0maxis\u001b[0m\u001b[0;34m,\u001b[0m \u001b[0mkind\u001b[0m\u001b[0;34m=\u001b[0m\u001b[0mkind\u001b[0m\u001b[0;34m,\u001b[0m \u001b[0morder\u001b[0m\u001b[0;34m=\u001b[0m\u001b[0morder\u001b[0m\u001b[0;34m)\u001b[0m\u001b[0;34m\u001b[0m\u001b[0;34m\u001b[0m\u001b[0m\n\u001b[0m\u001b[1;32m    820\u001b[0m \u001b[0;34m\u001b[0m\u001b[0m\n\u001b[1;32m    821\u001b[0m \u001b[0;34m\u001b[0m\u001b[0m\n",
      "\u001b[0;32m~/opt/anaconda3/lib/python3.7/site-packages/numpy/core/fromnumeric.py\u001b[0m in \u001b[0;36m_wrapfunc\u001b[0;34m(obj, method, *args, **kwds)\u001b[0m\n\u001b[1;32m     59\u001b[0m \u001b[0;34m\u001b[0m\u001b[0m\n\u001b[1;32m     60\u001b[0m     \u001b[0;32mtry\u001b[0m\u001b[0;34m:\u001b[0m\u001b[0;34m\u001b[0m\u001b[0;34m\u001b[0m\u001b[0m\n\u001b[0;32m---> 61\u001b[0;31m         \u001b[0;32mreturn\u001b[0m \u001b[0mbound\u001b[0m\u001b[0;34m(\u001b[0m\u001b[0;34m*\u001b[0m\u001b[0margs\u001b[0m\u001b[0;34m,\u001b[0m \u001b[0;34m**\u001b[0m\u001b[0mkwds\u001b[0m\u001b[0;34m)\u001b[0m\u001b[0;34m\u001b[0m\u001b[0;34m\u001b[0m\u001b[0m\n\u001b[0m\u001b[1;32m     62\u001b[0m     \u001b[0;32mexcept\u001b[0m \u001b[0mTypeError\u001b[0m\u001b[0;34m:\u001b[0m\u001b[0;34m\u001b[0m\u001b[0;34m\u001b[0m\u001b[0m\n\u001b[1;32m     63\u001b[0m         \u001b[0;31m# A TypeError occurs if the object does have such a method in its\u001b[0m\u001b[0;34m\u001b[0m\u001b[0;34m\u001b[0m\u001b[0;34m\u001b[0m\u001b[0m\n",
      "\u001b[0;31mKeyboardInterrupt\u001b[0m: "
     ]
    }
   ],
   "source": [
    "# no cv version of choosing iteration size\n",
    "acc_mean = np.zeros(10)\n",
    "i = 0\n",
    "for it in np.arange(0,100,10):\n",
    "    # initialize a model\n",
    "    model = implicit.als.AlternatingLeastSquares(factors=10, iterations = it)\n",
    "    \n",
    "    # train the model on a sparse matrix of item/user/confidence weights\n",
    "    model.fit(track_playlist_data.T)\n",
    "\n",
    "    acc = 0\n",
    "    acc_ind = []\n",
    "    for ind in range(7473):\n",
    "        playlistid = ind\n",
    "        # recommend 10(default) tracks for a playlist\n",
    "        playlist_track = track_playlist_data.tocsr()\n",
    "        recommendations = model.recommend(playlistid, playlist_track)\n",
    "        playlist_pred = [tracks[i] for i in list(zip(*recommendations))[0] ]\n",
    "        playlist_true = [j for j in X_train.tracks[ind] if j is not None]\n",
    "        acc_ind.append(intersect_rate(playlist_true,playlist_pred))\n",
    "    acc_mean[i] = np.mean(acc_ind)\n",
    "    print(acc_mean[i])\n",
    "    i = i + 1\n"
   ]
  },
  {
   "cell_type": "markdown",
   "metadata": {},
   "source": [
    "# -------END---------- 辛苦了！"
   ]
  },
  {
   "cell_type": "code",
   "execution_count": 54,
   "metadata": {},
   "outputs": [],
   "source": [
    "from implicit.lmf import LogisticMatrixFactorization"
   ]
  },
  {
   "cell_type": "code",
   "execution_count": 327,
   "metadata": {
    "scrolled": true
   },
   "outputs": [
    {
     "data": {
      "application/vnd.jupyter.widget-view+json": {
       "model_id": "40dd686cf36644b58e569c32f9cdac8c",
       "version_major": 2,
       "version_minor": 0
      },
      "text/plain": [
       "HBox(children=(IntProgress(value=0, max=2), HTML(value='')))"
      ]
     },
     "metadata": {},
     "output_type": "display_data"
    },
    {
     "name": "stdout",
     "output_type": "stream",
     "text": [
      "\n"
     ]
    },
    {
     "data": {
      "application/vnd.jupyter.widget-view+json": {
       "model_id": "e88f1c9aa146473e88bbda557fa81ff5",
       "version_major": 2,
       "version_minor": 0
      },
      "text/plain": [
       "HBox(children=(IntProgress(value=0, max=2), HTML(value='')))"
      ]
     },
     "metadata": {},
     "output_type": "display_data"
    },
    {
     "name": "stdout",
     "output_type": "stream",
     "text": [
      "\n",
      "{(1, 2): 0.010438972162740898}\n",
      "{(1, 2): 0.0074946466809421835}\n"
     ]
    },
    {
     "data": {
      "application/vnd.jupyter.widget-view+json": {
       "model_id": "8b8194be6c7741b3a5fff4aa870b0520",
       "version_major": 2,
       "version_minor": 0
      },
      "text/plain": [
       "HBox(children=(IntProgress(value=0, max=7), HTML(value='')))"
      ]
     },
     "metadata": {},
     "output_type": "display_data"
    },
    {
     "name": "stdout",
     "output_type": "stream",
     "text": [
      "\n"
     ]
    },
    {
     "data": {
      "application/vnd.jupyter.widget-view+json": {
       "model_id": "7a384749d06b47cba899d80979241ed0",
       "version_major": 2,
       "version_minor": 0
      },
      "text/plain": [
       "HBox(children=(IntProgress(value=0, max=7), HTML(value='')))"
      ]
     },
     "metadata": {},
     "output_type": "display_data"
    },
    {
     "name": "stdout",
     "output_type": "stream",
     "text": [
      "\n",
      "{(1, 2): 0.010438972162740898, (1, 7): 0.2323340471092077}\n",
      "{(1, 2): 0.0074946466809421835, (1, 7): 0.1846895074946467}\n"
     ]
    },
    {
     "data": {
      "application/vnd.jupyter.widget-view+json": {
       "model_id": "90525a2785474ab2acfdee4fc71a64b4",
       "version_major": 2,
       "version_minor": 0
      },
      "text/plain": [
       "HBox(children=(IntProgress(value=0, max=12), HTML(value='')))"
      ]
     },
     "metadata": {},
     "output_type": "display_data"
    },
    {
     "name": "stdout",
     "output_type": "stream",
     "text": [
      "\n"
     ]
    },
    {
     "data": {
      "application/vnd.jupyter.widget-view+json": {
       "model_id": "13af90707f9343dbaa73ba1d551f5449",
       "version_major": 2,
       "version_minor": 0
      },
      "text/plain": [
       "HBox(children=(IntProgress(value=0, max=12), HTML(value='')))"
      ]
     },
     "metadata": {},
     "output_type": "display_data"
    },
    {
     "name": "stdout",
     "output_type": "stream",
     "text": [
      "\n",
      "{(1, 2): 0.010438972162740898, (1, 7): 0.2323340471092077, (1, 12): 0.3301659528907923}\n",
      "{(1, 2): 0.0074946466809421835, (1, 7): 0.1846895074946467, (1, 12): 0.21680942184154176}\n"
     ]
    },
    {
     "data": {
      "application/vnd.jupyter.widget-view+json": {
       "model_id": "39b4df578d664a5f98d9b06259022c5c",
       "version_major": 2,
       "version_minor": 0
      },
      "text/plain": [
       "HBox(children=(IntProgress(value=0, max=17), HTML(value='')))"
      ]
     },
     "metadata": {},
     "output_type": "display_data"
    },
    {
     "name": "stdout",
     "output_type": "stream",
     "text": [
      "\n"
     ]
    },
    {
     "data": {
      "application/vnd.jupyter.widget-view+json": {
       "model_id": "a5fa693f1c0c41c29a09333662bb1d5c",
       "version_major": 2,
       "version_minor": 0
      },
      "text/plain": [
       "HBox(children=(IntProgress(value=0, max=17), HTML(value='')))"
      ]
     },
     "metadata": {},
     "output_type": "display_data"
    },
    {
     "name": "stdout",
     "output_type": "stream",
     "text": [
      "\n",
      "{(1, 2): 0.010438972162740898, (1, 7): 0.2323340471092077, (1, 12): 0.3301659528907923, (1, 17): 0.2977783725910064}\n",
      "{(1, 2): 0.0074946466809421835, (1, 7): 0.1846895074946467, (1, 12): 0.21680942184154176, (1, 17): 0.21921841541755888}\n"
     ]
    },
    {
     "data": {
      "application/vnd.jupyter.widget-view+json": {
       "model_id": "06379c0f30704b78b29742cb198e14a3",
       "version_major": 2,
       "version_minor": 0
      },
      "text/plain": [
       "HBox(children=(IntProgress(value=0, max=2), HTML(value='')))"
      ]
     },
     "metadata": {},
     "output_type": "display_data"
    },
    {
     "name": "stdout",
     "output_type": "stream",
     "text": [
      "\n"
     ]
    },
    {
     "data": {
      "application/vnd.jupyter.widget-view+json": {
       "model_id": "f2047bca95c84537b42787571f89c799",
       "version_major": 2,
       "version_minor": 0
      },
      "text/plain": [
       "HBox(children=(IntProgress(value=0, max=2), HTML(value='')))"
      ]
     },
     "metadata": {},
     "output_type": "display_data"
    },
    {
     "name": "stdout",
     "output_type": "stream",
     "text": [
      "\n",
      "{(1, 2): 0.010438972162740898, (1, 7): 0.2323340471092077, (1, 12): 0.3301659528907923, (1, 17): 0.2977783725910064, (11, 2): 0.011241970021413276}\n",
      "{(1, 2): 0.0074946466809421835, (1, 7): 0.1846895074946467, (1, 12): 0.21680942184154176, (1, 17): 0.21921841541755888, (11, 2): 0.00588865096359743}\n"
     ]
    },
    {
     "data": {
      "application/vnd.jupyter.widget-view+json": {
       "model_id": "6b6352f977b8415c9ff48f2aa991df1e",
       "version_major": 2,
       "version_minor": 0
      },
      "text/plain": [
       "HBox(children=(IntProgress(value=0, max=7), HTML(value='')))"
      ]
     },
     "metadata": {},
     "output_type": "display_data"
    },
    {
     "name": "stdout",
     "output_type": "stream",
     "text": [
      "\n"
     ]
    },
    {
     "data": {
      "application/vnd.jupyter.widget-view+json": {
       "model_id": "1b5fb054d5bf46e78b53d1476d6e254c",
       "version_major": 2,
       "version_minor": 0
      },
      "text/plain": [
       "HBox(children=(IntProgress(value=0, max=7), HTML(value='')))"
      ]
     },
     "metadata": {},
     "output_type": "display_data"
    },
    {
     "name": "stdout",
     "output_type": "stream",
     "text": [
      "\n",
      "{(1, 2): 0.010438972162740898, (1, 7): 0.2323340471092077, (1, 12): 0.3301659528907923, (1, 17): 0.2977783725910064, (11, 2): 0.011241970021413276, (11, 7): 0.3418094218415417}\n",
      "{(1, 2): 0.0074946466809421835, (1, 7): 0.1846895074946467, (1, 12): 0.21680942184154176, (1, 17): 0.21921841541755888, (11, 2): 0.00588865096359743, (11, 7): 0.06705032119914346}\n"
     ]
    },
    {
     "data": {
      "application/vnd.jupyter.widget-view+json": {
       "model_id": "adfbe230b5244150801b1ae4ff6c1709",
       "version_major": 2,
       "version_minor": 0
      },
      "text/plain": [
       "HBox(children=(IntProgress(value=0, max=12), HTML(value='')))"
      ]
     },
     "metadata": {},
     "output_type": "display_data"
    },
    {
     "name": "stdout",
     "output_type": "stream",
     "text": [
      "\n"
     ]
    },
    {
     "data": {
      "application/vnd.jupyter.widget-view+json": {
       "model_id": "ecf5c21dd56349b09f5f9116c8354c9e",
       "version_major": 2,
       "version_minor": 0
      },
      "text/plain": [
       "HBox(children=(IntProgress(value=0, max=12), HTML(value='')))"
      ]
     },
     "metadata": {},
     "output_type": "display_data"
    },
    {
     "name": "stdout",
     "output_type": "stream",
     "text": [
      "\n",
      "{(1, 2): 0.010438972162740898, (1, 7): 0.2323340471092077, (1, 12): 0.3301659528907923, (1, 17): 0.2977783725910064, (11, 2): 0.011241970021413276, (11, 7): 0.3418094218415417, (11, 12): 0.7896145610278373}\n",
      "{(1, 2): 0.0074946466809421835, (1, 7): 0.1846895074946467, (1, 12): 0.21680942184154176, (1, 17): 0.21921841541755888, (11, 2): 0.00588865096359743, (11, 7): 0.06705032119914346, (11, 12): 0.10532655246252677}\n"
     ]
    },
    {
     "data": {
      "application/vnd.jupyter.widget-view+json": {
       "model_id": "eb5b8976ed0f44c68b0c9f41de135e9c",
       "version_major": 2,
       "version_minor": 0
      },
      "text/plain": [
       "HBox(children=(IntProgress(value=0, max=17), HTML(value='')))"
      ]
     },
     "metadata": {},
     "output_type": "display_data"
    },
    {
     "name": "stdout",
     "output_type": "stream",
     "text": [
      "\n"
     ]
    },
    {
     "data": {
      "application/vnd.jupyter.widget-view+json": {
       "model_id": "1c6f1956385447ea958a08c42f955830",
       "version_major": 2,
       "version_minor": 0
      },
      "text/plain": [
       "HBox(children=(IntProgress(value=0, max=17), HTML(value='')))"
      ]
     },
     "metadata": {},
     "output_type": "display_data"
    },
    {
     "name": "stdout",
     "output_type": "stream",
     "text": [
      "\n",
      "{(1, 2): 0.010438972162740898, (1, 7): 0.2323340471092077, (1, 12): 0.3301659528907923, (1, 17): 0.2977783725910064, (11, 2): 0.011241970021413276, (11, 7): 0.3418094218415417, (11, 12): 0.7896145610278373, (11, 17): 0.916220556745182}\n",
      "{(1, 2): 0.0074946466809421835, (1, 7): 0.1846895074946467, (1, 12): 0.21680942184154176, (1, 17): 0.21921841541755888, (11, 2): 0.00588865096359743, (11, 7): 0.06705032119914346, (11, 12): 0.10532655246252677, (11, 17): 0.09850107066381156}\n"
     ]
    },
    {
     "data": {
      "application/vnd.jupyter.widget-view+json": {
       "model_id": "8dbf1d754bd943a3a57955b85a4b9280",
       "version_major": 2,
       "version_minor": 0
      },
      "text/plain": [
       "HBox(children=(IntProgress(value=0, max=2), HTML(value='')))"
      ]
     },
     "metadata": {},
     "output_type": "display_data"
    },
    {
     "name": "stdout",
     "output_type": "stream",
     "text": [
      "\n"
     ]
    },
    {
     "data": {
      "application/vnd.jupyter.widget-view+json": {
       "model_id": "ccceac94e0bf4d618e2e70f77b02aefd",
       "version_major": 2,
       "version_minor": 0
      },
      "text/plain": [
       "HBox(children=(IntProgress(value=0, max=2), HTML(value='')))"
      ]
     },
     "metadata": {},
     "output_type": "display_data"
    },
    {
     "name": "stdout",
     "output_type": "stream",
     "text": [
      "\n",
      "{(1, 2): 0.010438972162740898, (1, 7): 0.2323340471092077, (1, 12): 0.3301659528907923, (1, 17): 0.2977783725910064, (11, 2): 0.011241970021413276, (11, 7): 0.3418094218415417, (11, 12): 0.7896145610278373, (11, 17): 0.916220556745182, (21, 2): 0.009234475374732334}\n",
      "{(1, 2): 0.0074946466809421835, (1, 7): 0.1846895074946467, (1, 12): 0.21680942184154176, (1, 17): 0.21921841541755888, (11, 2): 0.00588865096359743, (11, 7): 0.06705032119914346, (11, 12): 0.10532655246252677, (11, 17): 0.09850107066381156, (21, 2): 0.005487152034261242}\n"
     ]
    },
    {
     "data": {
      "application/vnd.jupyter.widget-view+json": {
       "model_id": "cc9d0c59fc85402aa374cecfb4ae8530",
       "version_major": 2,
       "version_minor": 0
      },
      "text/plain": [
       "HBox(children=(IntProgress(value=0, max=7), HTML(value='')))"
      ]
     },
     "metadata": {},
     "output_type": "display_data"
    },
    {
     "name": "stdout",
     "output_type": "stream",
     "text": [
      "\n"
     ]
    },
    {
     "data": {
      "application/vnd.jupyter.widget-view+json": {
       "model_id": "3fdcae1b70d84ebc88f3dab75cfcdc68",
       "version_major": 2,
       "version_minor": 0
      },
      "text/plain": [
       "HBox(children=(IntProgress(value=0, max=7), HTML(value='')))"
      ]
     },
     "metadata": {},
     "output_type": "display_data"
    },
    {
     "name": "stdout",
     "output_type": "stream",
     "text": [
      "\n",
      "{(1, 2): 0.010438972162740898, (1, 7): 0.2323340471092077, (1, 12): 0.3301659528907923, (1, 17): 0.2977783725910064, (11, 2): 0.011241970021413276, (11, 7): 0.3418094218415417, (11, 12): 0.7896145610278373, (11, 17): 0.916220556745182, (21, 2): 0.009234475374732334, (21, 7): 0.3645610278372591}\n",
      "{(1, 2): 0.0074946466809421835, (1, 7): 0.1846895074946467, (1, 12): 0.21680942184154176, (1, 17): 0.21921841541755888, (11, 2): 0.00588865096359743, (11, 7): 0.06705032119914346, (11, 12): 0.10532655246252677, (11, 17): 0.09850107066381156, (21, 2): 0.005487152034261242, (21, 7): 0.03238758029978587}\n"
     ]
    },
    {
     "data": {
      "application/vnd.jupyter.widget-view+json": {
       "model_id": "19e0efeea35942fe92eae8bca0cd7af8",
       "version_major": 2,
       "version_minor": 0
      },
      "text/plain": [
       "HBox(children=(IntProgress(value=0, max=12), HTML(value='')))"
      ]
     },
     "metadata": {},
     "output_type": "display_data"
    },
    {
     "name": "stdout",
     "output_type": "stream",
     "text": [
      "\n"
     ]
    },
    {
     "data": {
      "application/vnd.jupyter.widget-view+json": {
       "model_id": "6ee92fed7ba74ab8a42d6a5b08c069a6",
       "version_major": 2,
       "version_minor": 0
      },
      "text/plain": [
       "HBox(children=(IntProgress(value=0, max=12), HTML(value='')))"
      ]
     },
     "metadata": {},
     "output_type": "display_data"
    },
    {
     "name": "stdout",
     "output_type": "stream",
     "text": [
      "\n",
      "{(1, 2): 0.010438972162740898, (1, 7): 0.2323340471092077, (1, 12): 0.3301659528907923, (1, 17): 0.2977783725910064, (11, 2): 0.011241970021413276, (11, 7): 0.3418094218415417, (11, 12): 0.7896145610278373, (11, 17): 0.916220556745182, (21, 2): 0.009234475374732334, (21, 7): 0.3645610278372591, (21, 12): 1.0673179871520342}\n",
      "{(1, 2): 0.0074946466809421835, (1, 7): 0.1846895074946467, (1, 12): 0.21680942184154176, (1, 17): 0.21921841541755888, (11, 2): 0.00588865096359743, (11, 7): 0.06705032119914346, (11, 12): 0.10532655246252677, (11, 17): 0.09850107066381156, (21, 2): 0.005487152034261242, (21, 7): 0.03238758029978587, (21, 12): 0.06972698072805139}\n"
     ]
    },
    {
     "data": {
      "application/vnd.jupyter.widget-view+json": {
       "model_id": "7c3b9255f5ab426bb0f8dd3d7dfbc65f",
       "version_major": 2,
       "version_minor": 0
      },
      "text/plain": [
       "HBox(children=(IntProgress(value=0, max=17), HTML(value='')))"
      ]
     },
     "metadata": {},
     "output_type": "display_data"
    },
    {
     "name": "stdout",
     "output_type": "stream",
     "text": [
      "\n"
     ]
    },
    {
     "data": {
      "application/vnd.jupyter.widget-view+json": {
       "model_id": "a32c9cc018684463ac02309945ae8aa7",
       "version_major": 2,
       "version_minor": 0
      },
      "text/plain": [
       "HBox(children=(IntProgress(value=0, max=17), HTML(value='')))"
      ]
     },
     "metadata": {},
     "output_type": "display_data"
    },
    {
     "name": "stdout",
     "output_type": "stream",
     "text": [
      "\n",
      "{(1, 2): 0.010438972162740898, (1, 7): 0.2323340471092077, (1, 12): 0.3301659528907923, (1, 17): 0.2977783725910064, (11, 2): 0.011241970021413276, (11, 7): 0.3418094218415417, (11, 12): 0.7896145610278373, (11, 17): 0.916220556745182, (21, 2): 0.009234475374732334, (21, 7): 0.3645610278372591, (21, 12): 1.0673179871520342, (21, 17): 1.2556209850107067}\n",
      "{(1, 2): 0.0074946466809421835, (1, 7): 0.1846895074946467, (1, 12): 0.21680942184154176, (1, 17): 0.21921841541755888, (11, 2): 0.00588865096359743, (11, 7): 0.06705032119914346, (11, 12): 0.10532655246252677, (11, 17): 0.09850107066381156, (21, 2): 0.005487152034261242, (21, 7): 0.03238758029978587, (21, 12): 0.06972698072805139, (21, 17): 0.07146680942184155}\n"
     ]
    },
    {
     "data": {
      "application/vnd.jupyter.widget-view+json": {
       "model_id": "34afbcf99c414b84a63fde61e5293f94",
       "version_major": 2,
       "version_minor": 0
      },
      "text/plain": [
       "HBox(children=(IntProgress(value=0, max=2), HTML(value='')))"
      ]
     },
     "metadata": {},
     "output_type": "display_data"
    },
    {
     "name": "stdout",
     "output_type": "stream",
     "text": [
      "\n"
     ]
    },
    {
     "data": {
      "application/vnd.jupyter.widget-view+json": {
       "model_id": "fde02a0349274960bebab503d42ca06d",
       "version_major": 2,
       "version_minor": 0
      },
      "text/plain": [
       "HBox(children=(IntProgress(value=0, max=2), HTML(value='')))"
      ]
     },
     "metadata": {},
     "output_type": "display_data"
    },
    {
     "name": "stdout",
     "output_type": "stream",
     "text": [
      "\n",
      "{(1, 2): 0.010438972162740898, (1, 7): 0.2323340471092077, (1, 12): 0.3301659528907923, (1, 17): 0.2977783725910064, (11, 2): 0.011241970021413276, (11, 7): 0.3418094218415417, (11, 12): 0.7896145610278373, (11, 17): 0.916220556745182, (21, 2): 0.009234475374732334, (21, 7): 0.3645610278372591, (21, 12): 1.0673179871520342, (21, 17): 1.2556209850107067, (31, 2): 0.01003747323340471}\n",
      "{(1, 2): 0.0074946466809421835, (1, 7): 0.1846895074946467, (1, 12): 0.21680942184154176, (1, 17): 0.21921841541755888, (11, 2): 0.00588865096359743, (11, 7): 0.06705032119914346, (11, 12): 0.10532655246252677, (11, 17): 0.09850107066381156, (21, 2): 0.005487152034261242, (21, 7): 0.03238758029978587, (21, 12): 0.06972698072805139, (21, 17): 0.07146680942184155, (31, 2): 0.005620985010706638}\n"
     ]
    },
    {
     "data": {
      "application/vnd.jupyter.widget-view+json": {
       "model_id": "6e319fc94f3b49b1a7d0626cfdb475a7",
       "version_major": 2,
       "version_minor": 0
      },
      "text/plain": [
       "HBox(children=(IntProgress(value=0, max=7), HTML(value='')))"
      ]
     },
     "metadata": {},
     "output_type": "display_data"
    },
    {
     "name": "stdout",
     "output_type": "stream",
     "text": [
      "\n"
     ]
    },
    {
     "data": {
      "application/vnd.jupyter.widget-view+json": {
       "model_id": "ababc93fbac94ebe9cb414a2cfcc76f7",
       "version_major": 2,
       "version_minor": 0
      },
      "text/plain": [
       "HBox(children=(IntProgress(value=0, max=7), HTML(value='')))"
      ]
     },
     "metadata": {},
     "output_type": "display_data"
    },
    {
     "name": "stdout",
     "output_type": "stream",
     "text": [
      "\n",
      "{(1, 2): 0.010438972162740898, (1, 7): 0.2323340471092077, (1, 12): 0.3301659528907923, (1, 17): 0.2977783725910064, (11, 2): 0.011241970021413276, (11, 7): 0.3418094218415417, (11, 12): 0.7896145610278373, (11, 17): 0.916220556745182, (21, 2): 0.009234475374732334, (21, 7): 0.3645610278372591, (21, 12): 1.0673179871520342, (21, 17): 1.2556209850107067, (31, 2): 0.01003747323340471, (31, 7): 0.44994646680942185}\n",
      "{(1, 2): 0.0074946466809421835, (1, 7): 0.1846895074946467, (1, 12): 0.21680942184154176, (1, 17): 0.21921841541755888, (11, 2): 0.00588865096359743, (11, 7): 0.06705032119914346, (11, 12): 0.10532655246252677, (11, 17): 0.09850107066381156, (21, 2): 0.005487152034261242, (21, 7): 0.03238758029978587, (21, 12): 0.06972698072805139, (21, 17): 0.07146680942184155, (31, 2): 0.005620985010706638, (31, 7): 0.03332441113490364}\n"
     ]
    },
    {
     "data": {
      "application/vnd.jupyter.widget-view+json": {
       "model_id": "f4e499c337fb4e63a29c1813dec255fc",
       "version_major": 2,
       "version_minor": 0
      },
      "text/plain": [
       "HBox(children=(IntProgress(value=0, max=12), HTML(value='')))"
      ]
     },
     "metadata": {},
     "output_type": "display_data"
    },
    {
     "name": "stdout",
     "output_type": "stream",
     "text": [
      "\n"
     ]
    },
    {
     "data": {
      "application/vnd.jupyter.widget-view+json": {
       "model_id": "6a6f5233f1524a42a1c44b4cdeeb5a5d",
       "version_major": 2,
       "version_minor": 0
      },
      "text/plain": [
       "HBox(children=(IntProgress(value=0, max=12), HTML(value='')))"
      ]
     },
     "metadata": {},
     "output_type": "display_data"
    },
    {
     "name": "stdout",
     "output_type": "stream",
     "text": [
      "\n",
      "{(1, 2): 0.010438972162740898, (1, 7): 0.2323340471092077, (1, 12): 0.3301659528907923, (1, 17): 0.2977783725910064, (11, 2): 0.011241970021413276, (11, 7): 0.3418094218415417, (11, 12): 0.7896145610278373, (11, 17): 0.916220556745182, (21, 2): 0.009234475374732334, (21, 7): 0.3645610278372591, (21, 12): 1.0673179871520342, (21, 17): 1.2556209850107067, (31, 2): 0.01003747323340471, (31, 7): 0.44994646680942185, (31, 12): 1.3205299785867237}\n",
      "{(1, 2): 0.0074946466809421835, (1, 7): 0.1846895074946467, (1, 12): 0.21680942184154176, (1, 17): 0.21921841541755888, (11, 2): 0.00588865096359743, (11, 7): 0.06705032119914346, (11, 12): 0.10532655246252677, (11, 17): 0.09850107066381156, (21, 2): 0.005487152034261242, (21, 7): 0.03238758029978587, (21, 12): 0.06972698072805139, (21, 17): 0.07146680942184155, (31, 2): 0.005620985010706638, (31, 7): 0.03332441113490364, (31, 12): 0.061161670235546035}\n"
     ]
    },
    {
     "data": {
      "application/vnd.jupyter.widget-view+json": {
       "model_id": "568e4bdd9ecd4764a1c15feef4f85198",
       "version_major": 2,
       "version_minor": 0
      },
      "text/plain": [
       "HBox(children=(IntProgress(value=0, max=17), HTML(value='')))"
      ]
     },
     "metadata": {},
     "output_type": "display_data"
    },
    {
     "name": "stdout",
     "output_type": "stream",
     "text": [
      "\n"
     ]
    },
    {
     "data": {
      "application/vnd.jupyter.widget-view+json": {
       "model_id": "2ab5e859b70345a2b3f5e13e1bedd405",
       "version_major": 2,
       "version_minor": 0
      },
      "text/plain": [
       "HBox(children=(IntProgress(value=0, max=17), HTML(value='')))"
      ]
     },
     "metadata": {},
     "output_type": "display_data"
    },
    {
     "name": "stdout",
     "output_type": "stream",
     "text": [
      "\n",
      "{(1, 2): 0.010438972162740898, (1, 7): 0.2323340471092077, (1, 12): 0.3301659528907923, (1, 17): 0.2977783725910064, (11, 2): 0.011241970021413276, (11, 7): 0.3418094218415417, (11, 12): 0.7896145610278373, (11, 17): 0.916220556745182, (21, 2): 0.009234475374732334, (21, 7): 0.3645610278372591, (21, 12): 1.0673179871520342, (21, 17): 1.2556209850107067, (31, 2): 0.01003747323340471, (31, 7): 0.44994646680942185, (31, 12): 1.3205299785867237, (31, 17): 1.495583511777302}\n",
      "{(1, 2): 0.0074946466809421835, (1, 7): 0.1846895074946467, (1, 12): 0.21680942184154176, (1, 17): 0.21921841541755888, (11, 2): 0.00588865096359743, (11, 7): 0.06705032119914346, (11, 12): 0.10532655246252677, (11, 17): 0.09850107066381156, (21, 2): 0.005487152034261242, (21, 7): 0.03238758029978587, (21, 12): 0.06972698072805139, (21, 17): 0.07146680942184155, (31, 2): 0.005620985010706638, (31, 7): 0.03332441113490364, (31, 12): 0.061161670235546035, (31, 17): 0.06718415417558887}\n"
     ]
    },
    {
     "data": {
      "application/vnd.jupyter.widget-view+json": {
       "model_id": "15d46f8f4a5143ebb3f4a9bc9fff4379",
       "version_major": 2,
       "version_minor": 0
      },
      "text/plain": [
       "HBox(children=(IntProgress(value=0, max=2), HTML(value='')))"
      ]
     },
     "metadata": {},
     "output_type": "display_data"
    },
    {
     "name": "stdout",
     "output_type": "stream",
     "text": [
      "\n"
     ]
    },
    {
     "data": {
      "application/vnd.jupyter.widget-view+json": {
       "model_id": "5e058d527ef84b64b56d228e4bbe5cdc",
       "version_major": 2,
       "version_minor": 0
      },
      "text/plain": [
       "HBox(children=(IntProgress(value=0, max=2), HTML(value='')))"
      ]
     },
     "metadata": {},
     "output_type": "display_data"
    },
    {
     "name": "stdout",
     "output_type": "stream",
     "text": [
      "\n",
      "{(1, 2): 0.010438972162740898, (1, 7): 0.2323340471092077, (1, 12): 0.3301659528907923, (1, 17): 0.2977783725910064, (11, 2): 0.011241970021413276, (11, 7): 0.3418094218415417, (11, 12): 0.7896145610278373, (11, 17): 0.916220556745182, (21, 2): 0.009234475374732334, (21, 7): 0.3645610278372591, (21, 12): 1.0673179871520342, (21, 17): 1.2556209850107067, (31, 2): 0.01003747323340471, (31, 7): 0.44994646680942185, (31, 12): 1.3205299785867237, (31, 17): 1.495583511777302, (41, 2): 0.011777301927194861}\n",
      "{(1, 2): 0.0074946466809421835, (1, 7): 0.1846895074946467, (1, 12): 0.21680942184154176, (1, 17): 0.21921841541755888, (11, 2): 0.00588865096359743, (11, 7): 0.06705032119914346, (11, 12): 0.10532655246252677, (11, 17): 0.09850107066381156, (21, 2): 0.005487152034261242, (21, 7): 0.03238758029978587, (21, 12): 0.06972698072805139, (21, 17): 0.07146680942184155, (31, 2): 0.005620985010706638, (31, 7): 0.03332441113490364, (31, 12): 0.061161670235546035, (31, 17): 0.06718415417558887, (41, 2): 0.005085653104925054}\n"
     ]
    },
    {
     "data": {
      "application/vnd.jupyter.widget-view+json": {
       "model_id": "8c08a085551345579a7497e94c654671",
       "version_major": 2,
       "version_minor": 0
      },
      "text/plain": [
       "HBox(children=(IntProgress(value=0, max=7), HTML(value='')))"
      ]
     },
     "metadata": {},
     "output_type": "display_data"
    },
    {
     "name": "stdout",
     "output_type": "stream",
     "text": [
      "\n"
     ]
    },
    {
     "data": {
      "application/vnd.jupyter.widget-view+json": {
       "model_id": "1c046a9a53fd4567829f74bafb5f1424",
       "version_major": 2,
       "version_minor": 0
      },
      "text/plain": [
       "HBox(children=(IntProgress(value=0, max=7), HTML(value='')))"
      ]
     },
     "metadata": {},
     "output_type": "display_data"
    },
    {
     "name": "stdout",
     "output_type": "stream",
     "text": [
      "\n",
      "{(1, 2): 0.010438972162740898, (1, 7): 0.2323340471092077, (1, 12): 0.3301659528907923, (1, 17): 0.2977783725910064, (11, 2): 0.011241970021413276, (11, 7): 0.3418094218415417, (11, 12): 0.7896145610278373, (11, 17): 0.916220556745182, (21, 2): 0.009234475374732334, (21, 7): 0.3645610278372591, (21, 12): 1.0673179871520342, (21, 17): 1.2556209850107067, (31, 2): 0.01003747323340471, (31, 7): 0.44994646680942185, (31, 12): 1.3205299785867237, (31, 17): 1.495583511777302, (41, 2): 0.011777301927194861, (41, 7): 0.5428265524625268}\n",
      "{(1, 2): 0.0074946466809421835, (1, 7): 0.1846895074946467, (1, 12): 0.21680942184154176, (1, 17): 0.21921841541755888, (11, 2): 0.00588865096359743, (11, 7): 0.06705032119914346, (11, 12): 0.10532655246252677, (11, 17): 0.09850107066381156, (21, 2): 0.005487152034261242, (21, 7): 0.03238758029978587, (21, 12): 0.06972698072805139, (21, 17): 0.07146680942184155, (31, 2): 0.005620985010706638, (31, 7): 0.03332441113490364, (31, 12): 0.061161670235546035, (31, 17): 0.06718415417558887, (41, 2): 0.005085653104925054, (41, 7): 0.024892933618843684}\n"
     ]
    },
    {
     "data": {
      "application/vnd.jupyter.widget-view+json": {
       "model_id": "72bd685a506e4a6cba005b917333061c",
       "version_major": 2,
       "version_minor": 0
      },
      "text/plain": [
       "HBox(children=(IntProgress(value=0, max=12), HTML(value='')))"
      ]
     },
     "metadata": {},
     "output_type": "display_data"
    },
    {
     "name": "stdout",
     "output_type": "stream",
     "text": [
      "\n"
     ]
    },
    {
     "data": {
      "application/vnd.jupyter.widget-view+json": {
       "model_id": "76e8853903584cbd97d34aeef7d626b9",
       "version_major": 2,
       "version_minor": 0
      },
      "text/plain": [
       "HBox(children=(IntProgress(value=0, max=12), HTML(value='')))"
      ]
     },
     "metadata": {},
     "output_type": "display_data"
    },
    {
     "name": "stdout",
     "output_type": "stream",
     "text": [
      "\n",
      "{(1, 2): 0.010438972162740898, (1, 7): 0.2323340471092077, (1, 12): 0.3301659528907923, (1, 17): 0.2977783725910064, (11, 2): 0.011241970021413276, (11, 7): 0.3418094218415417, (11, 12): 0.7896145610278373, (11, 17): 0.916220556745182, (21, 2): 0.009234475374732334, (21, 7): 0.3645610278372591, (21, 12): 1.0673179871520342, (21, 17): 1.2556209850107067, (31, 2): 0.01003747323340471, (31, 7): 0.44994646680942185, (31, 12): 1.3205299785867237, (31, 17): 1.495583511777302, (41, 2): 0.011777301927194861, (41, 7): 0.5428265524625268, (41, 12): 1.6245985010706638}\n",
      "{(1, 2): 0.0074946466809421835, (1, 7): 0.1846895074946467, (1, 12): 0.21680942184154176, (1, 17): 0.21921841541755888, (11, 2): 0.00588865096359743, (11, 7): 0.06705032119914346, (11, 12): 0.10532655246252677, (11, 17): 0.09850107066381156, (21, 2): 0.005487152034261242, (21, 7): 0.03238758029978587, (21, 12): 0.06972698072805139, (21, 17): 0.07146680942184155, (31, 2): 0.005620985010706638, (31, 7): 0.03332441113490364, (31, 12): 0.061161670235546035, (31, 17): 0.06718415417558887, (41, 2): 0.005085653104925054, (41, 7): 0.024892933618843684, (41, 12): 0.06316916488222699}\n"
     ]
    },
    {
     "data": {
      "application/vnd.jupyter.widget-view+json": {
       "model_id": "4efe13d11753437082665d44075e609f",
       "version_major": 2,
       "version_minor": 0
      },
      "text/plain": [
       "HBox(children=(IntProgress(value=0, max=17), HTML(value='')))"
      ]
     },
     "metadata": {},
     "output_type": "display_data"
    },
    {
     "name": "stdout",
     "output_type": "stream",
     "text": [
      "\n"
     ]
    },
    {
     "data": {
      "application/vnd.jupyter.widget-view+json": {
       "model_id": "4d25d2875f3247e8b53473976893fc20",
       "version_major": 2,
       "version_minor": 0
      },
      "text/plain": [
       "HBox(children=(IntProgress(value=0, max=17), HTML(value='')))"
      ]
     },
     "metadata": {},
     "output_type": "display_data"
    },
    {
     "name": "stdout",
     "output_type": "stream",
     "text": [
      "\n",
      "{(1, 2): 0.010438972162740898, (1, 7): 0.2323340471092077, (1, 12): 0.3301659528907923, (1, 17): 0.2977783725910064, (11, 2): 0.011241970021413276, (11, 7): 0.3418094218415417, (11, 12): 0.7896145610278373, (11, 17): 0.916220556745182, (21, 2): 0.009234475374732334, (21, 7): 0.3645610278372591, (21, 12): 1.0673179871520342, (21, 17): 1.2556209850107067, (31, 2): 0.01003747323340471, (31, 7): 0.44994646680942185, (31, 12): 1.3205299785867237, (31, 17): 1.495583511777302, (41, 2): 0.011777301927194861, (41, 7): 0.5428265524625268, (41, 12): 1.6245985010706638, (41, 17): 1.7893468950749465}\n",
      "{(1, 2): 0.0074946466809421835, (1, 7): 0.1846895074946467, (1, 12): 0.21680942184154176, (1, 17): 0.21921841541755888, (11, 2): 0.00588865096359743, (11, 7): 0.06705032119914346, (11, 12): 0.10532655246252677, (11, 17): 0.09850107066381156, (21, 2): 0.005487152034261242, (21, 7): 0.03238758029978587, (21, 12): 0.06972698072805139, (21, 17): 0.07146680942184155, (31, 2): 0.005620985010706638, (31, 7): 0.03332441113490364, (31, 12): 0.061161670235546035, (31, 17): 0.06718415417558887, (41, 2): 0.005085653104925054, (41, 7): 0.024892933618843684, (41, 12): 0.06316916488222699, (41, 17): 0.05982334047109208}\n"
     ]
    }
   ],
   "source": [
    "# choosing facts, fact should be smaller than 4\n",
    "iters = range(1,20,4)\n",
    "facts = range(1,50,10)\n",
    "acc_val_iter_log = {}\n",
    "acc_train_iter_log = {}\n",
    "\n",
    "for fac in facts:\n",
    "    for it in iters:\n",
    "        acc_val_it = []\n",
    "        acc_train_it = []\n",
    "        for cv_ind in range(cv):\n",
    "            ind = [j for j in range(cv) if j != cv_ind]\n",
    "            total_ind = np.concatenate([train_cv_ind[k] for k in ind] )\n",
    "            X = track_playlist_data[total_ind]\n",
    "            y = X_train.tracks[total_ind]\n",
    "            X_test = track_playlist_data[train_cv_ind[cv_ind]]\n",
    "            y_test = X_train.tracks[train_cv_ind[cv_ind]]\n",
    "            model_mf = LogisticMatrixFactorization(factors = fac,iterations = it)\n",
    "            # train the model on a sparse matrix of item/user/confidence weights\n",
    "            model_mf.fit(X.T)\n",
    "            acc_val_it.append(score(model_mf,X_test,y_test))\n",
    "            acc_train_it.append(score(model_mf,X,y))\n",
    "        acc_val_iter_log[(fac,it)] = np.mean(acc_val_it)\n",
    "        acc_train_iter_log[(fac,it)] = np.mean(acc_train_it)\n",
    "        print(acc_train_iter_log)\n",
    "        print(acc_val_iter_log)\n",
    "  "
   ]
  },
  {
   "cell_type": "code",
   "execution_count": 336,
   "metadata": {},
   "outputs": [
    {
     "data": {
      "application/vnd.jupyter.widget-view+json": {
       "model_id": "f538ab018e824b8a9146a53e01ef9f61",
       "version_major": 2,
       "version_minor": 0
      },
      "text/plain": [
       "HBox(children=(IntProgress(value=0, max=1), HTML(value='')))"
      ]
     },
     "metadata": {},
     "output_type": "display_data"
    },
    {
     "name": "stdout",
     "output_type": "stream",
     "text": [
      "\n"
     ]
    },
    {
     "data": {
      "application/vnd.jupyter.widget-view+json": {
       "model_id": "e3cc8a05c3ea4b5fa4e7ef7befb6c49c",
       "version_major": 2,
       "version_minor": 0
      },
      "text/plain": [
       "HBox(children=(IntProgress(value=0, max=1), HTML(value='')))"
      ]
     },
     "metadata": {},
     "output_type": "display_data"
    },
    {
     "name": "stdout",
     "output_type": "stream",
     "text": [
      "\n",
      "{(1, 1): 0.019405781584582442}\n",
      "{(1, 1): 0.015792291220556746}\n"
     ]
    },
    {
     "data": {
      "application/vnd.jupyter.widget-view+json": {
       "model_id": "4d2fdf44833d410c8c958fc4ae71c983",
       "version_major": 2,
       "version_minor": 0
      },
      "text/plain": [
       "HBox(children=(IntProgress(value=0, max=11), HTML(value='')))"
      ]
     },
     "metadata": {},
     "output_type": "display_data"
    },
    {
     "name": "stdout",
     "output_type": "stream",
     "text": [
      "\n"
     ]
    },
    {
     "data": {
      "application/vnd.jupyter.widget-view+json": {
       "model_id": "fb13393491ec46f98ee4089cba34fc27",
       "version_major": 2,
       "version_minor": 0
      },
      "text/plain": [
       "HBox(children=(IntProgress(value=0, max=11), HTML(value='')))"
      ]
     },
     "metadata": {},
     "output_type": "display_data"
    },
    {
     "name": "stdout",
     "output_type": "stream",
     "text": [
      "\n",
      "{(1, 1): 0.019405781584582442, (1, 11): 0.3183886509635975}\n",
      "{(1, 1): 0.015792291220556746, (1, 11): 0.21292826552462527}\n"
     ]
    },
    {
     "data": {
      "application/vnd.jupyter.widget-view+json": {
       "model_id": "ecebcd6424d44d188f89dc09c512a04a",
       "version_major": 2,
       "version_minor": 0
      },
      "text/plain": [
       "HBox(children=(IntProgress(value=0, max=21), HTML(value='')))"
      ]
     },
     "metadata": {},
     "output_type": "display_data"
    },
    {
     "name": "stdout",
     "output_type": "stream",
     "text": [
      "\n"
     ]
    },
    {
     "data": {
      "application/vnd.jupyter.widget-view+json": {
       "model_id": "1df1de2cad834e3dbd3c8d79a7113a1a",
       "version_major": 2,
       "version_minor": 0
      },
      "text/plain": [
       "HBox(children=(IntProgress(value=0, max=21), HTML(value='')))"
      ]
     },
     "metadata": {},
     "output_type": "display_data"
    },
    {
     "name": "stdout",
     "output_type": "stream",
     "text": [
      "\n",
      "{(1, 1): 0.019405781584582442, (1, 11): 0.3183886509635975, (1, 21): 0.346627408993576}\n",
      "{(1, 1): 0.015792291220556746, (1, 11): 0.21292826552462527, (1, 21): 0.20931477516059957}\n"
     ]
    },
    {
     "data": {
      "application/vnd.jupyter.widget-view+json": {
       "model_id": "0563a6110f0242bd8308d1aedf706a46",
       "version_major": 2,
       "version_minor": 0
      },
      "text/plain": [
       "HBox(children=(IntProgress(value=0, max=31), HTML(value='')))"
      ]
     },
     "metadata": {},
     "output_type": "display_data"
    },
    {
     "name": "stdout",
     "output_type": "stream",
     "text": [
      "\n"
     ]
    },
    {
     "data": {
      "application/vnd.jupyter.widget-view+json": {
       "model_id": "a1f2e42f83094abc901c02fe561d503c",
       "version_major": 2,
       "version_minor": 0
      },
      "text/plain": [
       "HBox(children=(IntProgress(value=0, max=31), HTML(value='')))"
      ]
     },
     "metadata": {},
     "output_type": "display_data"
    },
    {
     "name": "stdout",
     "output_type": "stream",
     "text": [
      "\n",
      "{(1, 1): 0.019405781584582442, (1, 11): 0.3183886509635975, (1, 21): 0.346627408993576, (1, 31): 0.4076552462526767}\n",
      "{(1, 1): 0.015792291220556746, (1, 11): 0.21292826552462527, (1, 21): 0.20931477516059957, (1, 31): 0.21721092077087795}\n"
     ]
    },
    {
     "data": {
      "application/vnd.jupyter.widget-view+json": {
       "model_id": "cbfe8c92b8d64586ac64c89854935699",
       "version_major": 2,
       "version_minor": 0
      },
      "text/plain": [
       "HBox(children=(IntProgress(value=0, max=41), HTML(value='')))"
      ]
     },
     "metadata": {},
     "output_type": "display_data"
    },
    {
     "name": "stdout",
     "output_type": "stream",
     "text": [
      "\n"
     ]
    },
    {
     "data": {
      "application/vnd.jupyter.widget-view+json": {
       "model_id": "5515512e2ef548d6b0566c61676e7518",
       "version_major": 2,
       "version_minor": 0
      },
      "text/plain": [
       "HBox(children=(IntProgress(value=0, max=41), HTML(value='')))"
      ]
     },
     "metadata": {},
     "output_type": "display_data"
    },
    {
     "name": "stdout",
     "output_type": "stream",
     "text": [
      "\n",
      "{(1, 1): 0.019405781584582442, (1, 11): 0.3183886509635975, (1, 21): 0.346627408993576, (1, 31): 0.4076552462526767, (1, 41): 0.4330835117773019}\n",
      "{(1, 1): 0.015792291220556746, (1, 11): 0.21292826552462527, (1, 21): 0.20931477516059957, (1, 31): 0.21721092077087795, (1, 41): 0.20208779443254818}\n"
     ]
    },
    {
     "data": {
      "application/vnd.jupyter.widget-view+json": {
       "model_id": "3778015a14814f9b90dd410b5c41e00e",
       "version_major": 2,
       "version_minor": 0
      },
      "text/plain": [
       "HBox(children=(IntProgress(value=0, max=1), HTML(value='')))"
      ]
     },
     "metadata": {},
     "output_type": "display_data"
    },
    {
     "name": "stdout",
     "output_type": "stream",
     "text": [
      "\n"
     ]
    },
    {
     "data": {
      "application/vnd.jupyter.widget-view+json": {
       "model_id": "cf3a3d64bcc34f1a9af21b8348368197",
       "version_major": 2,
       "version_minor": 0
      },
      "text/plain": [
       "HBox(children=(IntProgress(value=0, max=1), HTML(value='')))"
      ]
     },
     "metadata": {},
     "output_type": "display_data"
    },
    {
     "name": "stdout",
     "output_type": "stream",
     "text": [
      "\n",
      "{(1, 1): 0.019405781584582442, (1, 11): 0.3183886509635975, (1, 21): 0.346627408993576, (1, 31): 0.4076552462526767, (1, 41): 0.4330835117773019, (2, 1): 0.0173982869379015}\n",
      "{(1, 1): 0.015792291220556746, (1, 11): 0.21292826552462527, (1, 21): 0.20931477516059957, (1, 31): 0.21721092077087795, (1, 41): 0.20208779443254818, (2, 1): 0.014989293361884367}\n"
     ]
    },
    {
     "data": {
      "application/vnd.jupyter.widget-view+json": {
       "model_id": "b0c438899a3648ee9fbfe45f420ed625",
       "version_major": 2,
       "version_minor": 0
      },
      "text/plain": [
       "HBox(children=(IntProgress(value=0, max=11), HTML(value='')))"
      ]
     },
     "metadata": {},
     "output_type": "display_data"
    },
    {
     "name": "stdout",
     "output_type": "stream",
     "text": [
      "\n"
     ]
    },
    {
     "data": {
      "application/vnd.jupyter.widget-view+json": {
       "model_id": "0134a1f09465467a95a73c1a812b8031",
       "version_major": 2,
       "version_minor": 0
      },
      "text/plain": [
       "HBox(children=(IntProgress(value=0, max=11), HTML(value='')))"
      ]
     },
     "metadata": {},
     "output_type": "display_data"
    },
    {
     "name": "stdout",
     "output_type": "stream",
     "text": [
      "\n",
      "{(1, 1): 0.019405781584582442, (1, 11): 0.3183886509635975, (1, 21): 0.346627408993576, (1, 31): 0.4076552462526767, (1, 41): 0.4330835117773019, (2, 1): 0.0173982869379015, (2, 11): 0.3713865096359743}\n",
      "{(1, 1): 0.015792291220556746, (1, 11): 0.21292826552462527, (1, 21): 0.20931477516059957, (1, 31): 0.21721092077087795, (1, 41): 0.20208779443254818, (2, 1): 0.014989293361884367, (2, 11): 0.2042291220556745}\n"
     ]
    },
    {
     "data": {
      "application/vnd.jupyter.widget-view+json": {
       "model_id": "d7ba2160bea44c338714917fe701dd79",
       "version_major": 2,
       "version_minor": 0
      },
      "text/plain": [
       "HBox(children=(IntProgress(value=0, max=21), HTML(value='')))"
      ]
     },
     "metadata": {},
     "output_type": "display_data"
    },
    {
     "name": "stdout",
     "output_type": "stream",
     "text": [
      "\n"
     ]
    },
    {
     "data": {
      "application/vnd.jupyter.widget-view+json": {
       "model_id": "f0e4ab0533a64982946d6b88f06073c3",
       "version_major": 2,
       "version_minor": 0
      },
      "text/plain": [
       "HBox(children=(IntProgress(value=0, max=21), HTML(value='')))"
      ]
     },
     "metadata": {},
     "output_type": "display_data"
    },
    {
     "name": "stdout",
     "output_type": "stream",
     "text": [
      "\n",
      "{(1, 1): 0.019405781584582442, (1, 11): 0.3183886509635975, (1, 21): 0.346627408993576, (1, 31): 0.4076552462526767, (1, 41): 0.4330835117773019, (2, 1): 0.0173982869379015, (2, 11): 0.3713865096359743, (2, 21): 0.42425053533190576}\n",
      "{(1, 1): 0.015792291220556746, (1, 11): 0.21292826552462527, (1, 21): 0.20931477516059957, (1, 31): 0.21721092077087795, (1, 41): 0.20208779443254818, (2, 1): 0.014989293361884367, (2, 11): 0.2042291220556745, (2, 21): 0.20436295503211993}\n"
     ]
    },
    {
     "data": {
      "application/vnd.jupyter.widget-view+json": {
       "model_id": "310975ae6e964b4dbe77fa9e0c5feae4",
       "version_major": 2,
       "version_minor": 0
      },
      "text/plain": [
       "HBox(children=(IntProgress(value=0, max=31), HTML(value='')))"
      ]
     },
     "metadata": {},
     "output_type": "display_data"
    },
    {
     "name": "stdout",
     "output_type": "stream",
     "text": [
      "\n"
     ]
    },
    {
     "data": {
      "application/vnd.jupyter.widget-view+json": {
       "model_id": "4111af0a4fef41a5842e02b891271db8",
       "version_major": 2,
       "version_minor": 0
      },
      "text/plain": [
       "HBox(children=(IntProgress(value=0, max=31), HTML(value='')))"
      ]
     },
     "metadata": {},
     "output_type": "display_data"
    },
    {
     "name": "stdout",
     "output_type": "stream",
     "text": [
      "\n",
      "{(1, 1): 0.019405781584582442, (1, 11): 0.3183886509635975, (1, 21): 0.346627408993576, (1, 31): 0.4076552462526767, (1, 41): 0.4330835117773019, (2, 1): 0.0173982869379015, (2, 11): 0.3713865096359743, (2, 21): 0.42425053533190576, (2, 31): 0.5190042826552462}\n",
      "{(1, 1): 0.015792291220556746, (1, 11): 0.21292826552462527, (1, 21): 0.20931477516059957, (1, 31): 0.21721092077087795, (1, 41): 0.20208779443254818, (2, 1): 0.014989293361884367, (2, 11): 0.2042291220556745, (2, 21): 0.20436295503211993, (2, 31): 0.18910599571734477}\n"
     ]
    },
    {
     "data": {
      "application/vnd.jupyter.widget-view+json": {
       "model_id": "8a3204bd1d03443280d94886538f9e4a",
       "version_major": 2,
       "version_minor": 0
      },
      "text/plain": [
       "HBox(children=(IntProgress(value=0, max=41), HTML(value='')))"
      ]
     },
     "metadata": {},
     "output_type": "display_data"
    },
    {
     "name": "stdout",
     "output_type": "stream",
     "text": [
      "\n"
     ]
    },
    {
     "data": {
      "application/vnd.jupyter.widget-view+json": {
       "model_id": "28cc861fa22e4ea8970aa3920dd6b4ff",
       "version_major": 2,
       "version_minor": 0
      },
      "text/plain": [
       "HBox(children=(IntProgress(value=0, max=41), HTML(value='')))"
      ]
     },
     "metadata": {},
     "output_type": "display_data"
    },
    {
     "name": "stdout",
     "output_type": "stream",
     "text": [
      "\n",
      "{(1, 1): 0.019405781584582442, (1, 11): 0.3183886509635975, (1, 21): 0.346627408993576, (1, 31): 0.4076552462526767, (1, 41): 0.4330835117773019, (2, 1): 0.0173982869379015, (2, 11): 0.3713865096359743, (2, 21): 0.42425053533190576, (2, 31): 0.5190042826552462, (2, 41): 0.4958511777301927}\n",
      "{(1, 1): 0.015792291220556746, (1, 11): 0.21292826552462527, (1, 21): 0.20931477516059957, (1, 31): 0.21721092077087795, (1, 41): 0.20208779443254818, (2, 1): 0.014989293361884367, (2, 11): 0.2042291220556745, (2, 21): 0.20436295503211993, (2, 31): 0.18910599571734477, (2, 41): 0.18857066381156318}\n"
     ]
    },
    {
     "data": {
      "application/vnd.jupyter.widget-view+json": {
       "model_id": "de6f3634939d4f99b69305e20b4f1f9d",
       "version_major": 2,
       "version_minor": 0
      },
      "text/plain": [
       "HBox(children=(IntProgress(value=0, max=1), HTML(value='')))"
      ]
     },
     "metadata": {},
     "output_type": "display_data"
    },
    {
     "name": "stdout",
     "output_type": "stream",
     "text": [
      "\n"
     ]
    },
    {
     "data": {
      "application/vnd.jupyter.widget-view+json": {
       "model_id": "8296345c93e643d6b1214644c1e63eeb",
       "version_major": 2,
       "version_minor": 0
      },
      "text/plain": [
       "HBox(children=(IntProgress(value=0, max=1), HTML(value='')))"
      ]
     },
     "metadata": {},
     "output_type": "display_data"
    },
    {
     "name": "stdout",
     "output_type": "stream",
     "text": [
      "\n",
      "{(1, 1): 0.019405781584582442, (1, 11): 0.3183886509635975, (1, 21): 0.346627408993576, (1, 31): 0.4076552462526767, (1, 41): 0.4330835117773019, (2, 1): 0.0173982869379015, (2, 11): 0.3713865096359743, (2, 21): 0.42425053533190576, (2, 31): 0.5190042826552462, (2, 41): 0.4958511777301927, (3, 1): 0.012044967880085654}\n",
      "{(1, 1): 0.015792291220556746, (1, 11): 0.21292826552462527, (1, 21): 0.20931477516059957, (1, 31): 0.21721092077087795, (1, 41): 0.20208779443254818, (2, 1): 0.014989293361884367, (2, 11): 0.2042291220556745, (2, 21): 0.20436295503211993, (2, 31): 0.18910599571734477, (2, 41): 0.18857066381156318, (3, 1): 0.008431477516059957}\n"
     ]
    },
    {
     "data": {
      "application/vnd.jupyter.widget-view+json": {
       "model_id": "7a429e40257b419ab64c449971ed572b",
       "version_major": 2,
       "version_minor": 0
      },
      "text/plain": [
       "HBox(children=(IntProgress(value=0, max=11), HTML(value='')))"
      ]
     },
     "metadata": {},
     "output_type": "display_data"
    },
    {
     "name": "stdout",
     "output_type": "stream",
     "text": [
      "\n"
     ]
    },
    {
     "data": {
      "application/vnd.jupyter.widget-view+json": {
       "model_id": "5191f41866654480ba55b6ffb2d801c3",
       "version_major": 2,
       "version_minor": 0
      },
      "text/plain": [
       "HBox(children=(IntProgress(value=0, max=11), HTML(value='')))"
      ]
     },
     "metadata": {},
     "output_type": "display_data"
    },
    {
     "name": "stdout",
     "output_type": "stream",
     "text": [
      "\n",
      "{(1, 1): 0.019405781584582442, (1, 11): 0.3183886509635975, (1, 21): 0.346627408993576, (1, 31): 0.4076552462526767, (1, 41): 0.4330835117773019, (2, 1): 0.0173982869379015, (2, 11): 0.3713865096359743, (2, 21): 0.42425053533190576, (2, 31): 0.5190042826552462, (2, 41): 0.4958511777301927, (3, 1): 0.012044967880085654, (3, 11): 0.42251070663811563}\n",
      "{(1, 1): 0.015792291220556746, (1, 11): 0.21292826552462527, (1, 21): 0.20931477516059957, (1, 31): 0.21721092077087795, (1, 41): 0.20208779443254818, (2, 1): 0.014989293361884367, (2, 11): 0.2042291220556745, (2, 21): 0.20436295503211993, (2, 31): 0.18910599571734477, (2, 41): 0.18857066381156318, (3, 1): 0.008431477516059957, (3, 11): 0.18830299785867238}\n"
     ]
    },
    {
     "data": {
      "application/vnd.jupyter.widget-view+json": {
       "model_id": "4ccf9c553e86496ba321e1daeb3432c2",
       "version_major": 2,
       "version_minor": 0
      },
      "text/plain": [
       "HBox(children=(IntProgress(value=0, max=21), HTML(value='')))"
      ]
     },
     "metadata": {},
     "output_type": "display_data"
    },
    {
     "name": "stdout",
     "output_type": "stream",
     "text": [
      "\n"
     ]
    },
    {
     "data": {
      "application/vnd.jupyter.widget-view+json": {
       "model_id": "6b6d764c25b14df5a55d5e5f3ded640b",
       "version_major": 2,
       "version_minor": 0
      },
      "text/plain": [
       "HBox(children=(IntProgress(value=0, max=21), HTML(value='')))"
      ]
     },
     "metadata": {},
     "output_type": "display_data"
    },
    {
     "name": "stdout",
     "output_type": "stream",
     "text": [
      "\n",
      "{(1, 1): 0.019405781584582442, (1, 11): 0.3183886509635975, (1, 21): 0.346627408993576, (1, 31): 0.4076552462526767, (1, 41): 0.4330835117773019, (2, 1): 0.0173982869379015, (2, 11): 0.3713865096359743, (2, 21): 0.42425053533190576, (2, 31): 0.5190042826552462, (2, 41): 0.4958511777301927, (3, 1): 0.012044967880085654, (3, 11): 0.42251070663811563, (3, 21): 0.5594218415417559}\n",
      "{(1, 1): 0.015792291220556746, (1, 11): 0.21292826552462527, (1, 21): 0.20931477516059957, (1, 31): 0.21721092077087795, (1, 41): 0.20208779443254818, (2, 1): 0.014989293361884367, (2, 11): 0.2042291220556745, (2, 21): 0.20436295503211993, (2, 31): 0.18910599571734477, (2, 41): 0.18857066381156318, (3, 1): 0.008431477516059957, (3, 11): 0.18830299785867238, (3, 21): 0.1770610278372591}\n"
     ]
    },
    {
     "data": {
      "application/vnd.jupyter.widget-view+json": {
       "model_id": "4d4643aa50734453ac92d187d4c58e37",
       "version_major": 2,
       "version_minor": 0
      },
      "text/plain": [
       "HBox(children=(IntProgress(value=0, max=31), HTML(value='')))"
      ]
     },
     "metadata": {},
     "output_type": "display_data"
    },
    {
     "name": "stdout",
     "output_type": "stream",
     "text": [
      "\n"
     ]
    },
    {
     "data": {
      "application/vnd.jupyter.widget-view+json": {
       "model_id": "9902959836b04e43a2884cdb9f6fe660",
       "version_major": 2,
       "version_minor": 0
      },
      "text/plain": [
       "HBox(children=(IntProgress(value=0, max=31), HTML(value='')))"
      ]
     },
     "metadata": {},
     "output_type": "display_data"
    },
    {
     "name": "stdout",
     "output_type": "stream",
     "text": [
      "\n",
      "{(1, 1): 0.019405781584582442, (1, 11): 0.3183886509635975, (1, 21): 0.346627408993576, (1, 31): 0.4076552462526767, (1, 41): 0.4330835117773019, (2, 1): 0.0173982869379015, (2, 11): 0.3713865096359743, (2, 21): 0.42425053533190576, (2, 31): 0.5190042826552462, (2, 41): 0.4958511777301927, (3, 1): 0.012044967880085654, (3, 11): 0.42251070663811563, (3, 21): 0.5594218415417559, (3, 31): 0.6150963597430408}\n",
      "{(1, 1): 0.015792291220556746, (1, 11): 0.21292826552462527, (1, 21): 0.20931477516059957, (1, 31): 0.21721092077087795, (1, 41): 0.20208779443254818, (2, 1): 0.014989293361884367, (2, 11): 0.2042291220556745, (2, 21): 0.20436295503211993, (2, 31): 0.18910599571734477, (2, 41): 0.18857066381156318, (3, 1): 0.008431477516059957, (3, 11): 0.18830299785867238, (3, 21): 0.1770610278372591, (3, 31): 0.17625802997858672}\n"
     ]
    },
    {
     "data": {
      "application/vnd.jupyter.widget-view+json": {
       "model_id": "63204c940c474a569ed7f1b618b76859",
       "version_major": 2,
       "version_minor": 0
      },
      "text/plain": [
       "HBox(children=(IntProgress(value=0, max=41), HTML(value='')))"
      ]
     },
     "metadata": {},
     "output_type": "display_data"
    },
    {
     "name": "stdout",
     "output_type": "stream",
     "text": [
      "\n"
     ]
    },
    {
     "data": {
      "application/vnd.jupyter.widget-view+json": {
       "model_id": "76b4df9482ad4cd0b499f72d191b6a07",
       "version_major": 2,
       "version_minor": 0
      },
      "text/plain": [
       "HBox(children=(IntProgress(value=0, max=41), HTML(value='')))"
      ]
     },
     "metadata": {},
     "output_type": "display_data"
    },
    {
     "name": "stdout",
     "output_type": "stream",
     "text": [
      "\n",
      "{(1, 1): 0.019405781584582442, (1, 11): 0.3183886509635975, (1, 21): 0.346627408993576, (1, 31): 0.4076552462526767, (1, 41): 0.4330835117773019, (2, 1): 0.0173982869379015, (2, 11): 0.3713865096359743, (2, 21): 0.42425053533190576, (2, 31): 0.5190042826552462, (2, 41): 0.4958511777301927, (3, 1): 0.012044967880085654, (3, 11): 0.42251070663811563, (3, 21): 0.5594218415417559, (3, 31): 0.6150963597430408, (3, 41): 0.6146948608137045}\n",
      "{(1, 1): 0.015792291220556746, (1, 11): 0.21292826552462527, (1, 21): 0.20931477516059957, (1, 31): 0.21721092077087795, (1, 41): 0.20208779443254818, (2, 1): 0.014989293361884367, (2, 11): 0.2042291220556745, (2, 21): 0.20436295503211993, (2, 31): 0.18910599571734477, (2, 41): 0.18857066381156318, (3, 1): 0.008431477516059957, (3, 11): 0.18830299785867238, (3, 21): 0.1770610278372591, (3, 31): 0.17625802997858672, (3, 41): 0.1666220556745182}\n"
     ]
    }
   ],
   "source": [
    "# choosing iters, iter should be 10\n",
    "acc_val_iter_log = {}\n",
    "acc_train_iter_log = {}\n",
    "\n",
    "iters = range(1,50,10)\n",
    "for fac in range(1,4):\n",
    "    for it in iters:\n",
    "        acc_val_it = []\n",
    "        acc_train_it = []\n",
    "        for cv_ind in range(cv):\n",
    "            ind = [j for j in range(cv) if j != cv_ind]\n",
    "            total_ind = np.concatenate([train_cv_ind[k] for k in ind] )\n",
    "            X = track_playlist_data[total_ind]\n",
    "            y = X_train.tracks[total_ind]\n",
    "            X_test = track_playlist_data[train_cv_ind[cv_ind]]\n",
    "            y_test = X_train.tracks[train_cv_ind[cv_ind]]\n",
    "            model_mf = LogisticMatrixFactorization(factors = fac,iterations = it)\n",
    "            # train the model on a sparse matrix of item/user/confidence weights\n",
    "            model_mf.fit(X.T)\n",
    "            acc_val_it.append(score(model_mf,X_test,y_test))\n",
    "            acc_train_it.append(score(model_mf,X,y))\n",
    "        acc_val_iter_log[(fac,it)] = np.mean(acc_val_it)\n",
    "        acc_train_iter_log[(fac,it)] = np.mean(acc_train_it)\n",
    "        print(acc_train_iter_log)\n",
    "        print(acc_val_iter_log)\n",
    "  "
   ]
  },
  {
   "cell_type": "code",
   "execution_count": 311,
   "metadata": {},
   "outputs": [
    {
     "data": {
      "application/vnd.jupyter.widget-view+json": {
       "model_id": "842a14d6eb06496e92f9f91cd81fdd2a",
       "version_major": 2,
       "version_minor": 0
      },
      "text/plain": [
       "HBox(children=(IntProgress(value=0, max=30), HTML(value='')))"
      ]
     },
     "metadata": {},
     "output_type": "display_data"
    },
    {
     "name": "stdout",
     "output_type": "stream",
     "text": [
      "\n"
     ]
    },
    {
     "data": {
      "application/vnd.jupyter.widget-view+json": {
       "model_id": "200b525cfa644a30a482e45c181c6b21",
       "version_major": 2,
       "version_minor": 0
      },
      "text/plain": [
       "HBox(children=(IntProgress(value=0, max=30), HTML(value='')))"
      ]
     },
     "metadata": {},
     "output_type": "display_data"
    },
    {
     "name": "stdout",
     "output_type": "stream",
     "text": [
      "\n",
      "[1.00950214 0.         0.         0.         0.        ]\n",
      "[0.09261242 0.         0.         0.         0.        ]\n"
     ]
    },
    {
     "data": {
      "application/vnd.jupyter.widget-view+json": {
       "model_id": "8310e94503684242be7176a73c748c67",
       "version_major": 2,
       "version_minor": 0
      },
      "text/plain": [
       "HBox(children=(IntProgress(value=0, max=30), HTML(value='')))"
      ]
     },
     "metadata": {},
     "output_type": "display_data"
    },
    {
     "name": "stdout",
     "output_type": "stream",
     "text": [
      "\n"
     ]
    },
    {
     "data": {
      "application/vnd.jupyter.widget-view+json": {
       "model_id": "1da926c47d6545a2ab57aeae3c36754d",
       "version_major": 2,
       "version_minor": 0
      },
      "text/plain": [
       "HBox(children=(IntProgress(value=0, max=30), HTML(value='')))"
      ]
     },
     "metadata": {},
     "output_type": "display_data"
    },
    {
     "name": "stdout",
     "output_type": "stream",
     "text": [
      "\n",
      "[1.00950214 1.42880086 0.         0.         0.        ]\n",
      "[0.09261242 0.05861884 0.         0.         0.        ]\n"
     ]
    },
    {
     "data": {
      "application/vnd.jupyter.widget-view+json": {
       "model_id": "1cd64e57e2d1427ca5b03bfa2b7f7fd0",
       "version_major": 2,
       "version_minor": 0
      },
      "text/plain": [
       "HBox(children=(IntProgress(value=0, max=30), HTML(value='')))"
      ]
     },
     "metadata": {},
     "output_type": "display_data"
    },
    {
     "name": "stdout",
     "output_type": "stream",
     "text": [
      "\n"
     ]
    },
    {
     "data": {
      "application/vnd.jupyter.widget-view+json": {
       "model_id": "28e2c19156bc4f5da0b2bf3b3e80ee6c",
       "version_major": 2,
       "version_minor": 0
      },
      "text/plain": [
       "HBox(children=(IntProgress(value=0, max=30), HTML(value='')))"
      ]
     },
     "metadata": {},
     "output_type": "display_data"
    },
    {
     "name": "stdout",
     "output_type": "stream",
     "text": [
      "\n",
      "[1.00950214 1.42880086 1.86777302 0.         0.        ]\n",
      "[0.09261242 0.05861884 0.04858137 0.         0.        ]\n"
     ]
    },
    {
     "data": {
      "application/vnd.jupyter.widget-view+json": {
       "model_id": "7022ff49a2924f0dae7e5dfdf97b312b",
       "version_major": 2,
       "version_minor": 0
      },
      "text/plain": [
       "HBox(children=(IntProgress(value=0, max=30), HTML(value='')))"
      ]
     },
     "metadata": {},
     "output_type": "display_data"
    },
    {
     "name": "stdout",
     "output_type": "stream",
     "text": [
      "\n"
     ]
    },
    {
     "data": {
      "application/vnd.jupyter.widget-view+json": {
       "model_id": "5a08e485545740259891715fd1cf10ac",
       "version_major": 2,
       "version_minor": 0
      },
      "text/plain": [
       "HBox(children=(IntProgress(value=0, max=30), HTML(value='')))"
      ]
     },
     "metadata": {},
     "output_type": "display_data"
    },
    {
     "name": "stdout",
     "output_type": "stream",
     "text": [
      "\n",
      "[1.00950214 1.42880086 1.86777302 1.29724304 0.        ]\n",
      "[0.09261242 0.05861884 0.04858137 0.02997859 0.        ]\n"
     ]
    },
    {
     "data": {
      "application/vnd.jupyter.widget-view+json": {
       "model_id": "10012ed57d5846d2b67e91bd75ad3b1c",
       "version_major": 2,
       "version_minor": 0
      },
      "text/plain": [
       "HBox(children=(IntProgress(value=0, max=30), HTML(value='')))"
      ]
     },
     "metadata": {},
     "output_type": "display_data"
    },
    {
     "name": "stdout",
     "output_type": "stream",
     "text": [
      "\n"
     ]
    },
    {
     "data": {
      "application/vnd.jupyter.widget-view+json": {
       "model_id": "8d3470ac27504fa782a5bcf7be9a0059",
       "version_major": 2,
       "version_minor": 0
      },
      "text/plain": [
       "HBox(children=(IntProgress(value=0, max=30), HTML(value='')))"
      ]
     },
     "metadata": {},
     "output_type": "display_data"
    },
    {
     "name": "stdout",
     "output_type": "stream",
     "text": [
      "\n",
      "[1.00950214 1.42880086 1.86777302 1.29724304 4.24210385]\n",
      "[0.09261242 0.05861884 0.04858137 0.02997859 0.05915418]\n"
     ]
    }
   ],
   "source": [
    "acc_val_fact_log = np.zeros(5)\n",
    "acc_train_fact_log = np.zeros(5)\n",
    "i = 0\n",
    "for fac in facts:\n",
    "    acc_val_fac = []\n",
    "    acc_train_fac = []\n",
    "    for cv_ind in range(cv):\n",
    "        ind = [j for j in range(cv) if j != cv_ind]\n",
    "        total_ind = np.concatenate([train_cv_ind[k] for k in ind] )\n",
    "        X = track_playlist_data[total_ind]\n",
    "        y = X_train.tracks[total_ind]\n",
    "        X_test = track_playlist_data[train_cv_ind[cv_ind]]\n",
    "        y_test = X_train.tracks[train_cv_ind[cv_ind]]\n",
    "        model_mf = LogisticMatrixFactorization(factors = fac)\n",
    "        # train the model on a sparse matrix of item/user/confidence weights\n",
    "        model_mf.fit(X.T)\n",
    "        acc_val_fac.append(score(model_mf,X_test,y_test))\n",
    "        acc_train_fac.append(score(model_mf,X,y))\n",
    "    acc_val_fact_log[i] = np.mean(acc_val_fac)\n",
    "    acc_train_fact_log[i] = np.mean(acc_train_fac)\n",
    "    print(acc_train_fact_log)\n",
    "    print(acc_val_fact_log)\n",
    "    i = i + 1    "
   ]
  },
  {
   "cell_type": "code",
   "execution_count": 312,
   "metadata": {},
   "outputs": [
    {
     "data": {
      "image/png": "[encoded data removed]",
      "text/plain": [
       "<Figure size 432x288 with 1 Axes>"
      ]
     },
     "metadata": {
      "needs_background": "light"
     },
     "output_type": "display_data"
    }
   ],
   "source": [
    "plt.plot(np.arange(1,50, 10),acc_val_fact_log, label = 'validation')\n",
    "plt.plot(np.arange(1,50, 10),acc_train_fact_log, label = 'train')\n",
    "plt.xlabel('factor size')\n",
    "plt.ylabel('accuracy')\n",
    "plt.title('Choosing the factor size - Logistic')\n",
    "plt.legend()\n",
    "plt.show()"
   ]
  },
  {
   "cell_type": "code",
   "execution_count": 316,
   "metadata": {},
   "outputs": [
    {
     "data": {
      "application/vnd.jupyter.widget-view+json": {
       "model_id": "6b6335fd01874284ba1dff9c2fcedc0e",
       "version_major": 2,
       "version_minor": 0
      },
      "text/plain": [
       "HBox(children=(IntProgress(value=0, max=1), HTML(value='')))"
      ]
     },
     "metadata": {},
     "output_type": "display_data"
    },
    {
     "name": "stdout",
     "output_type": "stream",
     "text": [
      "\n"
     ]
    },
    {
     "data": {
      "application/vnd.jupyter.widget-view+json": {
       "model_id": "fed63c768d3c47a48a72b0f440adb464",
       "version_major": 2,
       "version_minor": 0
      },
      "text/plain": [
       "HBox(children=(IntProgress(value=0, max=1), HTML(value='')))"
      ]
     },
     "metadata": {},
     "output_type": "display_data"
    },
    {
     "name": "stdout",
     "output_type": "stream",
     "text": [
      "\n",
      "[0.01191113 0.         0.         0.         0.        ]\n",
      "[0.00896681 0.         0.         0.         0.        ]\n"
     ]
    },
    {
     "data": {
      "application/vnd.jupyter.widget-view+json": {
       "model_id": "884a9dbd056e4e028fe24cb0684734df",
       "version_major": 2,
       "version_minor": 0
      },
      "text/plain": [
       "HBox(children=(IntProgress(value=0, max=11), HTML(value='')))"
      ]
     },
     "metadata": {},
     "output_type": "display_data"
    },
    {
     "name": "stdout",
     "output_type": "stream",
     "text": [
      "\n"
     ]
    },
    {
     "data": {
      "application/vnd.jupyter.widget-view+json": {
       "model_id": "ea2728cefbc94ec49d3c2c9adfab2189",
       "version_major": 2,
       "version_minor": 0
      },
      "text/plain": [
       "HBox(children=(IntProgress(value=0, max=11), HTML(value='')))"
      ]
     },
     "metadata": {},
     "output_type": "display_data"
    },
    {
     "name": "stdout",
     "output_type": "stream",
     "text": [
      "\n",
      "[0.01191113 0.501606   0.         0.         0.        ]\n",
      "[0.00896681 0.16715739 0.         0.         0.        ]\n"
     ]
    },
    {
     "data": {
      "application/vnd.jupyter.widget-view+json": {
       "model_id": "446be59aacae4173b2f41dffe938d5b9",
       "version_major": 2,
       "version_minor": 0
      },
      "text/plain": [
       "HBox(children=(IntProgress(value=0, max=21), HTML(value='')))"
      ]
     },
     "metadata": {},
     "output_type": "display_data"
    },
    {
     "name": "stdout",
     "output_type": "stream",
     "text": [
      "\n"
     ]
    },
    {
     "data": {
      "application/vnd.jupyter.widget-view+json": {
       "model_id": "c15736f655fb44eaa34f2bacbb075dab",
       "version_major": 2,
       "version_minor": 0
      },
      "text/plain": [
       "HBox(children=(IntProgress(value=0, max=21), HTML(value='')))"
      ]
     },
     "metadata": {},
     "output_type": "display_data"
    },
    {
     "name": "stdout",
     "output_type": "stream",
     "text": [
      "\n",
      "[0.01191113 0.501606   0.7134636  0.         0.        ]\n",
      "[0.00896681 0.16715739 0.14079229 0.         0.        ]\n"
     ]
    },
    {
     "data": {
      "application/vnd.jupyter.widget-view+json": {
       "model_id": "2d5196f475ac40669df75afe1ba70649",
       "version_major": 2,
       "version_minor": 0
      },
      "text/plain": [
       "HBox(children=(IntProgress(value=0, max=31), HTML(value='')))"
      ]
     },
     "metadata": {},
     "output_type": "display_data"
    },
    {
     "name": "stdout",
     "output_type": "stream",
     "text": [
      "\n"
     ]
    },
    {
     "data": {
      "application/vnd.jupyter.widget-view+json": {
       "model_id": "5cd54512209b49e8b50cdeb492c49c40",
       "version_major": 2,
       "version_minor": 0
      },
      "text/plain": [
       "HBox(children=(IntProgress(value=0, max=31), HTML(value='')))"
      ]
     },
     "metadata": {},
     "output_type": "display_data"
    },
    {
     "name": "stdout",
     "output_type": "stream",
     "text": [
      "\n",
      "[0.01191113 0.501606   0.7134636  0.79135439 0.        ]\n",
      "[0.00896681 0.16715739 0.14079229 0.11844218 0.        ]\n"
     ]
    },
    {
     "data": {
      "application/vnd.jupyter.widget-view+json": {
       "model_id": "f03bd34e9ea34801bfec48f794e680cb",
       "version_major": 2,
       "version_minor": 0
      },
      "text/plain": [
       "HBox(children=(IntProgress(value=0, max=41), HTML(value='')))"
      ]
     },
     "metadata": {},
     "output_type": "display_data"
    },
    {
     "name": "stdout",
     "output_type": "stream",
     "text": [
      "\n"
     ]
    },
    {
     "data": {
      "application/vnd.jupyter.widget-view+json": {
       "model_id": "5f49c9b3c3554deaae5c67f480a7f27e",
       "version_major": 2,
       "version_minor": 0
      },
      "text/plain": [
       "HBox(children=(IntProgress(value=0, max=41), HTML(value='')))"
      ]
     },
     "metadata": {},
     "output_type": "display_data"
    },
    {
     "name": "stdout",
     "output_type": "stream",
     "text": [
      "\n",
      "[0.01191113 0.501606   0.7134636  0.79135439 0.79028373]\n",
      "[0.00896681 0.16715739 0.14079229 0.11844218 0.11589936]\n"
     ]
    }
   ],
   "source": [
    "acc_val_iter_log = np.zeros(5)\n",
    "acc_train_iter_log = np.zeros(5)\n",
    "i = 0\n",
    "for it in iters:\n",
    "    acc_val_it = []\n",
    "    acc_train_it = []\n",
    "    for cv_ind in range(cv):\n",
    "        ind = [j for j in range(cv) if j != cv_ind]\n",
    "        total_ind = np.concatenate([train_cv_ind[k] for k in ind] )\n",
    "        X = track_playlist_data[total_ind]\n",
    "        y = X_train.tracks[total_ind]\n",
    "        X_test = track_playlist_data[train_cv_ind[cv_ind]]\n",
    "        y_test = X_train.tracks[train_cv_ind[cv_ind]]\n",
    "        model_mf = LogisticMatrixFactorization(factors = 5,iterations = it)\n",
    "        # train the model on a sparse matrix of item/user/confidence weights\n",
    "        model_mf.fit(X.T)\n",
    "        acc_val_it.append(score(model_mf,X_test,y_test))\n",
    "        acc_train_it.append(score(model_mf,X,y))\n",
    "    acc_val_iter_log[i] = np.mean(acc_val_it)\n",
    "    acc_train_iter_log[i] = np.mean(acc_train_it)\n",
    "    print(acc_train_iter_log)\n",
    "    print(acc_val_iter_log)\n",
    "    i = i + 1    "
   ]
  },
  {
   "cell_type": "code",
   "execution_count": 317,
   "metadata": {},
   "outputs": [
    {
     "data": {
      "image/png": "[encoded data removed]",
      "text/plain": [
       "<Figure size 432x288 with 1 Axes>"
      ]
     },
     "metadata": {
      "needs_background": "light"
     },
     "output_type": "display_data"
    }
   ],
   "source": [
    "plt.plot(np.arange(1,50, 10),acc_val_iter_log, label = 'validation')\n",
    "plt.plot(np.arange(1,50, 10),acc_train_iter_log, label = 'train')\n",
    "plt.xlabel('iteration size')\n",
    "plt.ylabel('accuracy')\n",
    "plt.title('Choosing the iteration size - Logistic')\n",
    "plt.legend()\n",
    "plt.show()"
   ]
  },
  {
   "cell_type": "code",
   "execution_count": 332,
   "metadata": {},
   "outputs": [
    {
     "data": {
      "application/vnd.jupyter.widget-view+json": {
       "model_id": "2490b01cd6d84d648a80fd91774cd189",
       "version_major": 2,
       "version_minor": 0
      },
      "text/plain": [
       "HBox(children=(IntProgress(value=0, max=50), HTML(value='')))"
      ]
     },
     "metadata": {},
     "output_type": "display_data"
    },
    {
     "name": "stdout",
     "output_type": "stream",
     "text": [
      "\n"
     ]
    }
   ],
   "source": [
    "# initialize a model\n",
    "model_mf = LogisticMatrixFactorization(factors = 1, iterations = 50)\n",
    "\n",
    "# train the model on a sparse matrix of item/user/confidence weights\n",
    "model_mf.fit(track_playlist_data.T)\n",
    "    \n",
    "acc = 0\n",
    "acc_ind = []\n",
    "for ind in range(7473):\n",
    "    playlistid = ind\n",
    "    # recommend 10(default) tracks for a playlist\n",
    "    playlist_track = track_playlist_data.T\n",
    "    recommendations = model_mf.recommend(playlistid, playlist_track)\n",
    "    playlist_pred = [tracks[i] for i in list(zip(*recommendations))[0] ]\n",
    "    playlist_true = [j for j in X_train.tracks[playlistid] if j is not None]\n",
    "    acc_ind.append(intersect_rate(playlist_true,playlist_pred))"
   ]
  },
  {
   "cell_type": "code",
   "execution_count": 409,
   "metadata": {},
   "outputs": [
    {
     "data": {
      "application/vnd.jupyter.widget-view+json": {
       "model_id": "2a6101a011e54fc3bd2b8cdffec956c6",
       "version_major": 2,
       "version_minor": 0
      },
      "text/plain": [
       "HBox(children=(IntProgress(value=0, max=11), HTML(value='')))"
      ]
     },
     "metadata": {},
     "output_type": "display_data"
    },
    {
     "name": "stdout",
     "output_type": "stream",
     "text": [
      "\n",
      "Overall test accuracy of LogMF:  0.22495049504950496\n"
     ]
    }
   ],
   "source": [
    "# initialize a model\n",
    "model_mf = LogisticMatrixFactorization(factors = 1, iterations = 11)\n",
    "\n",
    "# train the model on a sparse matrix of item/user/confidence weights\n",
    "model_mf.fit(track_playlist_data.T)\n",
    "\n",
    "acc = 0\n",
    "acc_ind = []\n",
    "for ind in range(len(X_test)):\n",
    "    playlistid = ind\n",
    "    # recommend 10(default) tracks for a playlist\n",
    "    playlist_track = track_playlist_data_test.T\n",
    "    recommendations = model_mf.recommend(playlistid, playlist_track)\n",
    "    playlist_pred = [tracks[i] for i in list(zip(*recommendations))[0]]\n",
    "    playlist_true = [j for j in X_test.tracks[playlistid] if j is not None]\n",
    "    acc_ind.append(intersect_rate(playlist_true,playlist_pred))\n",
    "print('Overall test accuracy of LogMF: ', np.mean(acc_ind))"
   ]
  },
  {
   "cell_type": "markdown",
   "metadata": {},
   "source": [
    "# -------End of Logistic MF"
   ]
  },
  {
   "cell_type": "code",
   "execution_count": 26,
   "metadata": {
    "scrolled": true
   },
   "outputs": [
    {
     "name": "stdout",
     "output_type": "stream",
     "text": [
      "  (0, 1)\t2.0\n",
      "  (0, 2)\t1.5\n",
      "  (0, 3)\t1.33333333\n",
      "  (0, 4)\t1.25\n",
      "  (0, 5)\t1.2\n",
      "  (1, 2)\t2.0\n",
      "  (1, 3)\t1.5\n",
      "  (1, 4)\t1.33333333\n",
      "  (1, 5)\t1.25\n",
      "  (2, 3)\t2.0\n",
      "  (2, 4)\t1.5\n",
      "  (2, 5)\t1.33333333\n",
      "  (3, 4)\t2.0\n",
      "  (3, 5)\t1.5\n",
      "  (4, 5)\t2.0\n",
      "  (6, 7)\t2.0\n",
      "  (6, 8)\t1.5\n",
      "  (6, 9)\t1.33333333\n",
      "  (6, 10)\t1.25\n",
      "  (6, 11)\t1.2\n",
      "  (7, 8)\t2.0\n",
      "  (7, 9)\t1.5\n",
      "  (7, 10)\t1.33333333\n",
      "  (7, 11)\t1.25\n",
      "  (8, 9)\t2.0\n",
      "  (8, 10)\t1.5\n",
      "  (8, 11)\t1.33333333\n",
      "  (9, 10)\t2.0\n",
      "  (9, 11)\t1.5\n",
      "  (10, 11)\t2.0\n"
     ]
    }
   ],
   "source": [
    "# show how the csr_matrix works\n",
    "raw = [[0.0, 2.0, 1.5, 1.33333333, 1.25, 1.2, 0.0, 0.0, 0.0, 0.0, 0.0, 0.0],\n",
    "               [0.0, 0.0, 2.0, 1.5, 1.33333333, 1.25, 0.0, 0.0, 0.0, 0.0, 0.0, 0.0],\n",
    "               [0.0, 0.0, 0.0, 2.0, 1.5, 1.33333333, 0.0, 0.0, 0.0, 0.0, 0.0, 0.0],\n",
    "               [0.0, 0.0, 0.0, 0.0, 2.0, 1.5, 0.0, 0.0, 0.0, 0.0, 0.0, 0.0],\n",
    "               [0.0, 0.0, 0.0, 0.0, 0.0, 2.0, 0.0, 0.0, 0.0, 0.0, 0.0, 0.0],\n",
    "               [0.0, 0.0, 0.0, 0.0, 0.0, 0.0, 0.0, 0.0, 0.0, 0.0, 0.0, 0.0],\n",
    "               [0.0, 0.0, 0.0, 0.0, 0.0, 0.0, 0.0, 2.0, 1.5, 1.33333333, 1.25, 1.2],\n",
    "               [0.0, 0.0, 0.0, 0.0, 0.0, 0.0, 0.0, 0.0, 2.0, 1.5, 1.33333333, 1.25],\n",
    "               [0.0, 0.0, 0.0, 0.0, 0.0, 0.0, 0.0, 0.0, 0.0, 2.0, 1.5, 1.33333333],\n",
    "               [0.0, 0.0, 0.0, 0.0, 0.0, 0.0, 0.0, 0.0, 0.0, 0.0, 2.0, 1.5],\n",
    "               [0.0, 0.0, 0.0, 0.0, 0.0, 0.0, 0.0, 0.0, 0.0, 0.0, 0.0, 2.0],\n",
    "               [0.0, 0.0, 0.0, 0.0, 0.0, 0.0, 0.0, 0.0, 0.0, 0.0, 0.0, 0.0]]\n",
    "counts = csr_matrix(raw, dtype=np.float64)\n",
    "print(counts)"
   ]
  },
  {
   "cell_type": "code",
   "execution_count": 57,
   "metadata": {},
   "outputs": [
    {
     "data": {
      "application/vnd.jupyter.widget-view+json": {
       "model_id": "0f5e77e8959b4ae5a805e00ce6d504fe",
       "version_major": 2,
       "version_minor": 0
      },
      "text/plain": [
       "HBox(children=(IntProgress(value=0, max=50), HTML(value='')))"
      ]
     },
     "metadata": {},
     "output_type": "display_data"
    },
    {
     "name": "stdout",
     "output_type": "stream",
     "text": [
      "\n"
     ]
    },
    {
     "data": {
      "application/vnd.jupyter.widget-view+json": {
       "model_id": "f77f2f28ed624464a5b633b0ead99ef1",
       "version_major": 2,
       "version_minor": 0
      },
      "text/plain": [
       "HBox(children=(IntProgress(value=0, max=50), HTML(value='')))"
      ]
     },
     "metadata": {},
     "output_type": "display_data"
    },
    {
     "name": "stdout",
     "output_type": "stream",
     "text": [
      "\n"
     ]
    },
    {
     "data": {
      "application/vnd.jupyter.widget-view+json": {
       "model_id": "7b089f49c029470dac81e84c39032a58",
       "version_major": 2,
       "version_minor": 0
      },
      "text/plain": [
       "HBox(children=(IntProgress(value=0, max=50), HTML(value='')))"
      ]
     },
     "metadata": {},
     "output_type": "display_data"
    },
    {
     "name": "stdout",
     "output_type": "stream",
     "text": [
      "\n"
     ]
    },
    {
     "data": {
      "application/vnd.jupyter.widget-view+json": {
       "model_id": "9ce7c299780849c6b82d351cc2439187",
       "version_major": 2,
       "version_minor": 0
      },
      "text/plain": [
       "HBox(children=(IntProgress(value=0, max=50), HTML(value='')))"
      ]
     },
     "metadata": {},
     "output_type": "display_data"
    },
    {
     "name": "stdout",
     "output_type": "stream",
     "text": [
      "\n"
     ]
    },
    {
     "data": {
      "application/vnd.jupyter.widget-view+json": {
       "model_id": "0a2172e721174ed8b55f78c8e3c2c6a2",
       "version_major": 2,
       "version_minor": 0
      },
      "text/plain": [
       "HBox(children=(IntProgress(value=0, max=50), HTML(value='')))"
      ]
     },
     "metadata": {},
     "output_type": "display_data"
    },
    {
     "name": "stdout",
     "output_type": "stream",
     "text": [
      "\n"
     ]
    }
   ],
   "source": [
    "#bayesian does not work very well in general\n",
    "\n",
    "from implicit.bpr import BayesianPersonalizedRanking\n",
    "acc_mean = np.zeros(5)\n",
    "i = 0\n",
    "for lr in [0.001,0.01,0.05,0.1,1]:\n",
    "    # initialize a model\n",
    "    model_bay = BayesianPersonalizedRanking(factors = 30, iterations = 50, learning_rate = lr)\n",
    "\n",
    "    # train the model on a sparse matrix of item/user/confidence weights\n",
    "    model_bay.fit(track_playlist_data.T)\n",
    "\n",
    "    acc = 0\n",
    "    acc_ind = []\n",
    "    for ind in range(7473):\n",
    "        playlistid = ind\n",
    "        # recommend 10(default) tracks for a playlist\n",
    "        playlist_track = track_playlist_data.tocsr()\n",
    "        recommendations = model_bay.recommend(playlistid, playlist_track)\n",
    "        playlist_pred = [tracks[i] for i in list(zip(*recommendations))[0] ]\n",
    "        playlist_true = [j for j in X_train.tracks[0] if j is not None]\n",
    "        acc_ind.append(intersect_rate(playlist_true,playlist_pred))\n",
    "    acc_mean[i] = np.mean(acc_ind)\n",
    "    print(acc_mean[i])\n",
    "    i = i + 1"
   ]
  },
  {
   "cell_type": "code",
   "execution_count": 58,
   "metadata": {},
   "outputs": [
    {
     "data": {
      "image/png": "[encoded data removed]",
      "text/plain": [
       "<Figure size 432x288 with 1 Axes>"
      ]
     },
     "metadata": {
      "needs_background": "light"
     },
     "output_type": "display_data"
    }
   ],
   "source": [
    "plt.plot([0.001,0.01,0.05,0.1,1],acc_mean)\n",
    "plt.xlabel('learning rate')\n",
    "plt.ylabel('accuracy')\n",
    "plt.title('Choosing the learning rate')\n",
    "plt.show()"
   ]
  },
  {
   "cell_type": "code",
   "execution_count": 64,
   "metadata": {},
   "outputs": [
    {
     "data": {
      "application/vnd.jupyter.widget-view+json": {
       "model_id": "60393e2140f047f3966046175e345707",
       "version_major": 2,
       "version_minor": 0
      },
      "text/plain": [
       "HBox(children=(IntProgress(value=0), HTML(value='')))"
      ]
     },
     "metadata": {},
     "output_type": "display_data"
    },
    {
     "name": "stdout",
     "output_type": "stream",
     "text": [
      "\n"
     ]
    }
   ],
   "source": [
    " # initialize a model\n",
    "model_bay = BayesianPersonalizedRanking(factors = 30,iterations = 100, learning_rate = 0.01,verify_negative_samples = True)\n",
    "\n",
    "    # train the model on a sparse matrix of item/user/confidence weights\n",
    "model_bay.fit(track_playlist_data.T)\n",
    "acc = 0\n",
    "acc_ind = []\n",
    "for ind in range(7473):\n",
    "    playlistid = ind\n",
    "    # recommend 10(default) tracks for a playlist\n",
    "    playlist_track = track_playlist_data.tocsr()\n",
    "    recommendations = model_bay.recommend(playlistid, playlist_track)\n",
    "    playlist_pred = [tracks[i] for i in list(zip(*recommendations))[0] ]\n",
    "    playlist_true = [j for j in X_train.tracks[0] if j is not None]\n",
    "    acc_ind.append(intersect_rate(playlist_true,playlist_pred))"
   ]
  },
  {
   "cell_type": "code",
   "execution_count": 65,
   "metadata": {
    "collapsed": true
   },
   "outputs": [
    {
     "name": "stdout",
     "output_type": "stream",
     "text": [
      "Overall accuracy of Bayesian Personalized Ranking:  0.026763013515321826\n"
     ]
    }
   ],
   "source": [
    "print('Overall accuracy of Bayesian Personalized Ranking: ', np.mean(acc_ind))"
   ]
  },
  {
   "cell_type": "code",
   "execution_count": 414,
   "metadata": {},
   "outputs": [
    {
     "data": {
      "application/vnd.jupyter.widget-view+json": {
       "model_id": "9b3ed5695a7b45f492106f35e2415cbb",
       "version_major": 2,
       "version_minor": 0
      },
      "text/plain": [
       "HBox(children=(IntProgress(value=0, max=20), HTML(value='')))"
      ]
     },
     "metadata": {},
     "output_type": "display_data"
    },
    {
     "name": "stdout",
     "output_type": "stream",
     "text": [
      "\n",
      "Overall test accuracy of LogMF:  0.044356435643564354\n"
     ]
    }
   ],
   "source": [
    "# initialize a model\n",
    "model_bay = BayesianPersonalizedRanking(factors = 10,iterations = 20,learning_rate = 0.01, verify_negative_samples = True)\n",
    "\n",
    "# train the model on a sparse matrix of item/user/confidence weights\n",
    "model_bay.fit(track_playlist_data.T)\n",
    "\n",
    "acc = 0\n",
    "acc_ind = []\n",
    "for ind in range(len(X_test)):\n",
    "    playlistid = ind\n",
    "    # recommend 10(default) tracks for a playlist\n",
    "    playlist_track = track_playlist_data_test.T\n",
    "    recommendations = model_bay.recommend(playlistid, playlist_track)\n",
    "    playlist_pred = [tracks[i] for i in list(zip(*recommendations))[0]]\n",
    "    playlist_true = [j for j in X_test.tracks[playlistid] if j is not None]\n",
    "    acc_ind.append(intersect_rate(playlist_true,playlist_pred))\n",
    "print('Overall test accuracy of LogMF: ', np.mean(acc_ind))"
   ]
  }
 ],
 "metadata": {
  "kernelspec": {
   "display_name": "Python 3",
   "language": "python",
   "name": "python3"
  },
  "language_info": {
   "codemirror_mode": {
    "name": "ipython",
    "version": 3
   },
   "file_extension": ".py",
   "mimetype": "text/x-python",
   "name": "python",
   "nbconvert_exporter": "python",
   "pygments_lexer": "ipython3",
   "version": "3.7.4"
  }
 },
 "nbformat": 4,
 "nbformat_minor": 2
}
