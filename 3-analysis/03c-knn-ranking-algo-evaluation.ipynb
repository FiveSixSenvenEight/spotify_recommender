{
 "cells": [
  {
   "cell_type": "code",
   "execution_count": 1,
   "metadata": {},
   "outputs": [],
   "source": [
    "import sys\n",
    "sys.path.append(\"../\")\n",
    "from utils import *"
   ]
  },
  {
   "cell_type": "code",
   "execution_count": 2,
   "metadata": {},
   "outputs": [
    {
     "name": "stdout",
     "output_type": "stream",
     "text": [
      "7473\n",
      "2525\n"
     ]
    }
   ],
   "source": [
    "# Read in original labels\n",
    "with open(data_path + \"train_test_data.pkl\", \"rb\") as f:\n",
    "    X_train, y_train, X_test, y_test = pickle.load(f)\n",
    "    \n",
    "# Convert to lists\n",
    "y_train = list(y_train.values())\n",
    "print(len(y_train))\n",
    "y_test = list(y_test.values())\n",
    "print(len(y_test))"
   ]
  },
  {
   "cell_type": "code",
   "execution_count": 3,
   "metadata": {},
   "outputs": [
    {
     "name": "stdout",
     "output_type": "stream",
     "text": [
      "7473\n",
      "2525\n"
     ]
    }
   ],
   "source": [
    "# Read in original predictions\n",
    "with open(data_path + 'train_data_predictions_knn_ranking.pkl', 'rb') as f:\n",
    "    train_data_predictions = pickle.load(f)\n",
    "print(len(train_data_predictions))\n",
    "\n",
    "# Read in original predictions\n",
    "with open(data_path + 'all_data_predictions_knn_ranking.pkl', 'rb') as f:\n",
    "    all_data_predictions = pickle.load(f)\n",
    "all_data_predictions = all_data_predictions[-len(y_test):]\n",
    "print(len(all_data_predictions))"
   ]
  },
  {
   "cell_type": "markdown",
   "metadata": {},
   "source": [
    "# Performance Evaluation "
   ]
  },
  {
   "cell_type": "code",
   "execution_count": 4,
   "metadata": {},
   "outputs": [
    {
     "name": "stdout",
     "output_type": "stream",
     "text": [
      "Average overlap score for training is 0.773317\n",
      "Average overlap score for testing is 0.795644\n"
     ]
    }
   ],
   "source": [
    "avg_overlap_score_train = np.mean([overlap_score(a,b) for a,b in zip(train_data_predictions, y_train)])\n",
    "avg_overlap_score_test = np.mean([overlap_score(a,b) for a,b in zip(all_data_predictions, y_test)])\n",
    "\n",
    "print(f\"Average overlap score for training is {avg_overlap_score_train:.6f}\")\n",
    "print(f\"Average overlap score for testing is {avg_overlap_score_test:.6f}\")"
   ]
  },
  {
   "cell_type": "code",
   "execution_count": 5,
   "metadata": {},
   "outputs": [
    {
     "name": "stdout",
     "output_type": "stream",
     "text": [
      "Average r-precision score for training is 0.077091\n",
      "Average r-precision score for testing is 0.079406\n"
     ]
    }
   ],
   "source": [
    "avg_rp_score_train = np.mean([r_precision(a,b) for a,b in zip(train_data_predictions, y_train)])\n",
    "avg_rp_score_test = np.mean([r_precision(a,b) for a,b in zip(all_data_predictions, y_test)])\n",
    "\n",
    "print(f\"Average r-precision score for training is {avg_rp_score_train:.6f}\")\n",
    "print(f\"Average r-precision score for testing is {avg_rp_score_test:.6f}\")"
   ]
  },
  {
   "cell_type": "code",
   "execution_count": 6,
   "metadata": {},
   "outputs": [
    {
     "name": "stdout",
     "output_type": "stream",
     "text": [
      "Average DCG score for training is 0.399314\n",
      "Average DCG score for testing is 0.415306\n"
     ]
    }
   ],
   "source": [
    "avg_dcg_score_train = np.mean([dcg(a,b) for a,b in zip(train_data_predictions, y_train)])\n",
    "avg_dcg_score_test = np.mean([dcg(a,b) for a,b in zip(all_data_predictions, y_test)])\n",
    "\n",
    "print(f\"Average DCG score for training is {avg_dcg_score_train:.6f}\")\n",
    "print(f\"Average DCG score for testing is {avg_dcg_score_test:.6f}\")"
   ]
  },
  {
   "cell_type": "code",
   "execution_count": null,
   "metadata": {},
   "outputs": [],
   "source": []
  }
 ],
 "metadata": {
  "kernelspec": {
   "display_name": "Python 3",
   "language": "python",
   "name": "python3"
  },
  "language_info": {
   "codemirror_mode": {
    "name": "ipython",
    "version": 3
   },
   "file_extension": ".py",
   "mimetype": "text/x-python",
   "name": "python",
   "nbconvert_exporter": "python",
   "pygments_lexer": "ipython3",
   "version": "3.6.7"
  }
 },
 "nbformat": 4,
 "nbformat_minor": 2
}
