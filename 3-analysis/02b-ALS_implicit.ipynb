{
 "cells": [
  {
   "cell_type": "code",
   "execution_count": 2,
   "metadata": {},
   "outputs": [],
   "source": [
    "from utils import *"
   ]
  },
  {
   "cell_type": "code",
   "execution_count": 86,
   "metadata": {},
   "outputs": [],
   "source": [
    "import pickle\n",
    "import pandas as pd\n",
    "from scipy.sparse import csr_matrix\n",
    "import numpy as np\n",
    "import matplotlib.pyplot as plt\n",
    "from sklearn.model_selection import cross_val_score\n",
    "from sklearn import metrics\n",
    "import random\n",
    "import timeit"
   ]
  },
  {
   "cell_type": "code",
   "execution_count": 4,
   "metadata": {},
   "outputs": [],
   "source": [
    "with open( \"train_test_data.pkl\", \"rb\") as f:\n",
    "    X_train, y_train, X_test, y_test = pickle.load(f)"
   ]
  },
  {
   "cell_type": "code",
   "execution_count": 5,
   "metadata": {},
   "outputs": [],
   "source": [
    "X_train = pd.DataFrame(X_train.values(),index = X_train.keys()) # convert from dict to pd DataFrame\n",
    "X_train['tracks'] = X_train.values.tolist() #stack all columns into one\n",
    "X_train = X_train[['tracks']]"
   ]
  },
  {
   "cell_type": "code",
   "execution_count": 7,
   "metadata": {},
   "outputs": [
    {
     "data": {
      "text/plain": [
       "(7473, 101217)"
      ]
     },
     "execution_count": 7,
     "metadata": {},
     "output_type": "execute_result"
    }
   ],
   "source": [
    "# create one hot encoding for all the train X_all_onehot.shapetracks\n",
    "X_train_onehot = pd.get_dummies(pd.DataFrame(X_train['tracks'].values.tolist()), prefix='', prefix_sep='').groupby(axis=1, level=0).max()\n",
    "X_train_onehot = X_train_onehot.set_index(X_train.index)\n",
    "X_train_onehot.shape #7473 101217"
   ]
  },
  {
   "cell_type": "code",
   "execution_count": 9,
   "metadata": {},
   "outputs": [],
   "source": [
    "tracks = list(X_train_onehot.columns) #all the tracks appear in the X_train"
   ]
  },
  {
   "cell_type": "code",
   "execution_count": 10,
   "metadata": {},
   "outputs": [],
   "source": [
    "track_playlist_data = csr_matrix(X_train_onehot) #prepare the data matrix for the implicit package"
   ]
  },
  {
   "cell_type": "code",
   "execution_count": 12,
   "metadata": {},
   "outputs": [
    {
     "data": {
      "text/html": [
       "<div>\n",
       "<style scoped>\n",
       "    .dataframe tbody tr th:only-of-type {\n",
       "        vertical-align: middle;\n",
       "    }\n",
       "\n",
       "    .dataframe tbody tr th {\n",
       "        vertical-align: top;\n",
       "    }\n",
       "\n",
       "    .dataframe thead th {\n",
       "        text-align: right;\n",
       "    }\n",
       "</style>\n",
       "<table border=\"1\" class=\"dataframe\">\n",
       "  <thead>\n",
       "    <tr style=\"text-align: right;\">\n",
       "      <th></th>\n",
       "      <th>tracks</th>\n",
       "    </tr>\n",
       "  </thead>\n",
       "  <tbody>\n",
       "    <tr>\n",
       "      <td>323_381</td>\n",
       "      <td>[spotify:track:6WhzFzROw3aq3rPWjgYlxr, spotify...</td>\n",
       "    </tr>\n",
       "    <tr>\n",
       "      <td>323_507</td>\n",
       "      <td>[spotify:track:7DD1ojeTUwnW65g5QuZw7X, spotify...</td>\n",
       "    </tr>\n",
       "    <tr>\n",
       "      <td>323_543</td>\n",
       "      <td>[spotify:track:61LtVmmkGr8P9I2tSPvdpf, spotify...</td>\n",
       "    </tr>\n",
       "    <tr>\n",
       "      <td>323_570</td>\n",
       "      <td>[spotify:track:0r9knJtQ6VVpX324mtkLcX, spotify...</td>\n",
       "    </tr>\n",
       "    <tr>\n",
       "      <td>323_682</td>\n",
       "      <td>[spotify:track:5vIu19A3EEdHgFM4Cba6F4, spotify...</td>\n",
       "    </tr>\n",
       "  </tbody>\n",
       "</table>\n",
       "</div>"
      ],
      "text/plain": [
       "                                                    tracks\n",
       "323_381  [spotify:track:6WhzFzROw3aq3rPWjgYlxr, spotify...\n",
       "323_507  [spotify:track:7DD1ojeTUwnW65g5QuZw7X, spotify...\n",
       "323_543  [spotify:track:61LtVmmkGr8P9I2tSPvdpf, spotify...\n",
       "323_570  [spotify:track:0r9knJtQ6VVpX324mtkLcX, spotify...\n",
       "323_682  [spotify:track:5vIu19A3EEdHgFM4Cba6F4, spotify..."
      ]
     },
     "execution_count": 12,
     "metadata": {},
     "output_type": "execute_result"
    }
   ],
   "source": [
    "X_train.head()"
   ]
  },
  {
   "cell_type": "code",
   "execution_count": 66,
   "metadata": {},
   "outputs": [],
   "source": [
    "def overlap_score(tracks, pred_tracks, test_size = 10):\n",
    "    ''' Computes the overlap score for tracks and pred_tracks. \n",
    "        returns #overlap'''\n",
    "    return sum([a in tracks for a in pred_tracks])\n",
    "\n",
    "def avg_overlap(true_dict, pred):\n",
    "    ''' Returns the accuracy score given true_label and pred'''\n",
    "    avg_overlap = np.mean([overlap_score(a, b) for a,b in zip(true_dict.values(), pred)])    \n",
    "    return avg_overlap\n",
    "\n",
    "def dcg(predictions, labels, test_size = 100):\n",
    "    ''' Calculates the discounted cumulative gain for prediction and labels. \n",
    "        Inputs:\n",
    "            Prediction: list of predictions \n",
    "            labels: list of actual labels\n",
    "            test_size: size of each of the two sets'''\n",
    "    zero_one_label = [predictions[i] in labels for i in range(len(predictions))]\n",
    "    zero_one_label = [zero_one_label[i]/np.log2(i+2) for i in range(len(zero_one_label))]\n",
    "    return np.sum(zero_one_label)"
   ]
  },
  {
   "cell_type": "code",
   "execution_count": 17,
   "metadata": {},
   "outputs": [],
   "source": [
    "#create cv index\n",
    "cv = 2\n",
    "l = X_train.shape[0]\n",
    "def chunks(l, n):\n",
    "    # For item i in a range that is a length of l,\n",
    "    for i in range(0, l, l//n):\n",
    "        # Create an index range for l of n items:\n",
    "        linspace = np.linspace(i,i+(l//n),(l//n))\n",
    "        index = [int(j) for j in list(linspace)]\n",
    "        yield index     \n",
    "train_cv_ind = list(chunks(l,cv)) # create a list of 2 indices for the cv"
   ]
  },
  {
   "cell_type": "code",
   "execution_count": 97,
   "metadata": {},
   "outputs": [
    {
     "data": {
      "application/vnd.jupyter.widget-view+json": {
       "model_id": "37de625b79724ac180aac1da7d3e877a",
       "version_major": 2,
       "version_minor": 0
      },
      "text/plain": [
       "HBox(children=(IntProgress(value=0, max=1), HTML(value='')))"
      ]
     },
     "metadata": {},
     "output_type": "display_data"
    },
    {
     "name": "stdout",
     "output_type": "stream",
     "text": [
      "\n"
     ]
    },
    {
     "data": {
      "application/vnd.jupyter.widget-view+json": {
       "model_id": "49acbe425d7147c9bece0d79f1d42b90",
       "version_major": 2,
       "version_minor": 0
      },
      "text/plain": [
       "HBox(children=(IntProgress(value=0, max=1), HTML(value='')))"
      ]
     },
     "metadata": {},
     "output_type": "display_data"
    },
    {
     "name": "stdout",
     "output_type": "stream",
     "text": [
      "\n"
     ]
    },
    {
     "data": {
      "application/vnd.jupyter.widget-view+json": {
       "model_id": "9e0b2f559944477798ae0595d6b0a5d9",
       "version_major": 2,
       "version_minor": 0
      },
      "text/plain": [
       "HBox(children=(IntProgress(value=0, max=1), HTML(value='')))"
      ]
     },
     "metadata": {},
     "output_type": "display_data"
    },
    {
     "name": "stdout",
     "output_type": "stream",
     "text": [
      "\n"
     ]
    },
    {
     "data": {
      "application/vnd.jupyter.widget-view+json": {
       "model_id": "0f4090c8b6f947e8b6dbbdb890fa32ca",
       "version_major": 2,
       "version_minor": 0
      },
      "text/plain": [
       "HBox(children=(IntProgress(value=0, max=1), HTML(value='')))"
      ]
     },
     "metadata": {},
     "output_type": "display_data"
    },
    {
     "name": "stdout",
     "output_type": "stream",
     "text": [
      "\n",
      "{(50, 1): 0.14079229122055675}\n",
      "{(50, 1): 0.04630620985010707}\n"
     ]
    },
    {
     "data": {
      "application/vnd.jupyter.widget-view+json": {
       "model_id": "e6607765e47848d4b0179abff2830e22",
       "version_major": 2,
       "version_minor": 0
      },
      "text/plain": [
       "HBox(children=(IntProgress(value=0, max=7), HTML(value='')))"
      ]
     },
     "metadata": {},
     "output_type": "display_data"
    },
    {
     "name": "stdout",
     "output_type": "stream",
     "text": [
      "\n"
     ]
    },
    {
     "data": {
      "application/vnd.jupyter.widget-view+json": {
       "model_id": "02b210fcca784362b19e298afb85428f",
       "version_major": 2,
       "version_minor": 0
      },
      "text/plain": [
       "HBox(children=(IntProgress(value=0, max=7), HTML(value='')))"
      ]
     },
     "metadata": {},
     "output_type": "display_data"
    },
    {
     "name": "stdout",
     "output_type": "stream",
     "text": [
      "\n"
     ]
    },
    {
     "data": {
      "application/vnd.jupyter.widget-view+json": {
       "model_id": "e594428c781d462887f66b7c07e27451",
       "version_major": 2,
       "version_minor": 0
      },
      "text/plain": [
       "HBox(children=(IntProgress(value=0, max=7), HTML(value='')))"
      ]
     },
     "metadata": {},
     "output_type": "display_data"
    },
    {
     "name": "stdout",
     "output_type": "stream",
     "text": [
      "\n"
     ]
    },
    {
     "data": {
      "application/vnd.jupyter.widget-view+json": {
       "model_id": "a731b833462c46869f5aa102dac0ce97",
       "version_major": 2,
       "version_minor": 0
      },
      "text/plain": [
       "HBox(children=(IntProgress(value=0, max=7), HTML(value='')))"
      ]
     },
     "metadata": {},
     "output_type": "display_data"
    },
    {
     "name": "stdout",
     "output_type": "stream",
     "text": [
      "\n",
      "{(50, 1): 0.14079229122055675, (50, 7): 0.6179068522483939}\n",
      "{(50, 1): 0.04630620985010707, (50, 7): 0.046440042826552466}\n"
     ]
    },
    {
     "data": {
      "application/vnd.jupyter.widget-view+json": {
       "model_id": "fab4cc16efa348e1b97e8673d826a884",
       "version_major": 2,
       "version_minor": 0
      },
      "text/plain": [
       "HBox(children=(IntProgress(value=0, max=13), HTML(value='')))"
      ]
     },
     "metadata": {},
     "output_type": "display_data"
    },
    {
     "name": "stdout",
     "output_type": "stream",
     "text": [
      "\n"
     ]
    },
    {
     "data": {
      "application/vnd.jupyter.widget-view+json": {
       "model_id": "86250107898a48579da425a11c321010",
       "version_major": 2,
       "version_minor": 0
      },
      "text/plain": [
       "HBox(children=(IntProgress(value=0, max=13), HTML(value='')))"
      ]
     },
     "metadata": {},
     "output_type": "display_data"
    },
    {
     "name": "stdout",
     "output_type": "stream",
     "text": [
      "\n"
     ]
    },
    {
     "data": {
      "application/vnd.jupyter.widget-view+json": {
       "model_id": "fe70b24f15ad4c02b5b225b734cfa4c6",
       "version_major": 2,
       "version_minor": 0
      },
      "text/plain": [
       "HBox(children=(IntProgress(value=0, max=13), HTML(value='')))"
      ]
     },
     "metadata": {},
     "output_type": "display_data"
    },
    {
     "name": "stdout",
     "output_type": "stream",
     "text": [
      "\n"
     ]
    },
    {
     "data": {
      "application/vnd.jupyter.widget-view+json": {
       "model_id": "fc8710dac04543099ec64df7297aad1b",
       "version_major": 2,
       "version_minor": 0
      },
      "text/plain": [
       "HBox(children=(IntProgress(value=0, max=13), HTML(value='')))"
      ]
     },
     "metadata": {},
     "output_type": "display_data"
    },
    {
     "name": "stdout",
     "output_type": "stream",
     "text": [
      "\n",
      "{(50, 1): 0.14079229122055675, (50, 7): 0.6179068522483939, (50, 13): 0.6270074946466809}\n",
      "{(50, 1): 0.04630620985010707, (50, 7): 0.046440042826552466, (50, 13): 0.055406852248394006}\n"
     ]
    },
    {
     "data": {
      "application/vnd.jupyter.widget-view+json": {
       "model_id": "537485adbeb34898a8292de768409192",
       "version_major": 2,
       "version_minor": 0
      },
      "text/plain": [
       "HBox(children=(IntProgress(value=0, max=19), HTML(value='')))"
      ]
     },
     "metadata": {},
     "output_type": "display_data"
    },
    {
     "name": "stdout",
     "output_type": "stream",
     "text": [
      "\n"
     ]
    },
    {
     "data": {
      "application/vnd.jupyter.widget-view+json": {
       "model_id": "6a32cfd308cb4a28b4ef27ec08efb22e",
       "version_major": 2,
       "version_minor": 0
      },
      "text/plain": [
       "HBox(children=(IntProgress(value=0, max=19), HTML(value='')))"
      ]
     },
     "metadata": {},
     "output_type": "display_data"
    },
    {
     "name": "stdout",
     "output_type": "stream",
     "text": [
      "\n"
     ]
    },
    {
     "data": {
      "application/vnd.jupyter.widget-view+json": {
       "model_id": "bdcf5f665f914b5ea586769de48933a1",
       "version_major": 2,
       "version_minor": 0
      },
      "text/plain": [
       "HBox(children=(IntProgress(value=0, max=19), HTML(value='')))"
      ]
     },
     "metadata": {},
     "output_type": "display_data"
    },
    {
     "name": "stdout",
     "output_type": "stream",
     "text": [
      "\n"
     ]
    },
    {
     "data": {
      "application/vnd.jupyter.widget-view+json": {
       "model_id": "1d16a6304fde43798a5459fe365e443e",
       "version_major": 2,
       "version_minor": 0
      },
      "text/plain": [
       "HBox(children=(IntProgress(value=0, max=19), HTML(value='')))"
      ]
     },
     "metadata": {},
     "output_type": "display_data"
    },
    {
     "name": "stdout",
     "output_type": "stream",
     "text": [
      "\n",
      "{(50, 1): 0.14079229122055675, (50, 7): 0.6179068522483939, (50, 13): 0.6270074946466809, (50, 19): 0.6208511777301927}\n",
      "{(50, 1): 0.04630620985010707, (50, 7): 0.046440042826552466, (50, 13): 0.055406852248394006, (50, 19): 0.048982869379014984}\n"
     ]
    },
    {
     "data": {
      "application/vnd.jupyter.widget-view+json": {
       "model_id": "b7212214d8984dc390a43e7c32b950ab",
       "version_major": 2,
       "version_minor": 0
      },
      "text/plain": [
       "HBox(children=(IntProgress(value=0, max=1), HTML(value='')))"
      ]
     },
     "metadata": {},
     "output_type": "display_data"
    },
    {
     "name": "stdout",
     "output_type": "stream",
     "text": [
      "\n"
     ]
    },
    {
     "data": {
      "application/vnd.jupyter.widget-view+json": {
       "model_id": "0039b425ac134a3885a065c9e7d24b18",
       "version_major": 2,
       "version_minor": 0
      },
      "text/plain": [
       "HBox(children=(IntProgress(value=0, max=1), HTML(value='')))"
      ]
     },
     "metadata": {},
     "output_type": "display_data"
    },
    {
     "name": "stdout",
     "output_type": "stream",
     "text": [
      "\n"
     ]
    },
    {
     "data": {
      "application/vnd.jupyter.widget-view+json": {
       "model_id": "dcb3225f2dd9482d83eeab11f485a257",
       "version_major": 2,
       "version_minor": 0
      },
      "text/plain": [
       "HBox(children=(IntProgress(value=0, max=1), HTML(value='')))"
      ]
     },
     "metadata": {},
     "output_type": "display_data"
    },
    {
     "name": "stdout",
     "output_type": "stream",
     "text": [
      "\n"
     ]
    },
    {
     "data": {
      "application/vnd.jupyter.widget-view+json": {
       "model_id": "22334b1ecc7f4ebf8bdd8f63b1016af0",
       "version_major": 2,
       "version_minor": 0
      },
      "text/plain": [
       "HBox(children=(IntProgress(value=0, max=1), HTML(value='')))"
      ]
     },
     "metadata": {},
     "output_type": "display_data"
    },
    {
     "name": "stdout",
     "output_type": "stream",
     "text": [
      "\n",
      "{(50, 1): 0.14079229122055675, (50, 7): 0.6179068522483939, (50, 13): 0.6270074946466809, (50, 19): 0.6208511777301927, (100, 1): 0.1876338329764454}\n",
      "{(50, 1): 0.04630620985010707, (50, 7): 0.046440042826552466, (50, 13): 0.055406852248394006, (50, 19): 0.048982869379014984, (100, 1): 0.04202355460385439}\n"
     ]
    },
    {
     "data": {
      "application/vnd.jupyter.widget-view+json": {
       "model_id": "da43f89347314420ba19012a0f41ae5c",
       "version_major": 2,
       "version_minor": 0
      },
      "text/plain": [
       "HBox(children=(IntProgress(value=0, max=7), HTML(value='')))"
      ]
     },
     "metadata": {},
     "output_type": "display_data"
    },
    {
     "name": "stdout",
     "output_type": "stream",
     "text": [
      "\n"
     ]
    },
    {
     "data": {
      "application/vnd.jupyter.widget-view+json": {
       "model_id": "e05b9505891a4a8eb51ec9bf1e7dbe4d",
       "version_major": 2,
       "version_minor": 0
      },
      "text/plain": [
       "HBox(children=(IntProgress(value=0, max=7), HTML(value='')))"
      ]
     },
     "metadata": {},
     "output_type": "display_data"
    },
    {
     "name": "stdout",
     "output_type": "stream",
     "text": [
      "\n"
     ]
    },
    {
     "data": {
      "application/vnd.jupyter.widget-view+json": {
       "model_id": "14c317d4e85c4531a6d19e7b261b412e",
       "version_major": 2,
       "version_minor": 0
      },
      "text/plain": [
       "HBox(children=(IntProgress(value=0, max=7), HTML(value='')))"
      ]
     },
     "metadata": {},
     "output_type": "display_data"
    },
    {
     "name": "stdout",
     "output_type": "stream",
     "text": [
      "\n"
     ]
    },
    {
     "data": {
      "application/vnd.jupyter.widget-view+json": {
       "model_id": "fadd3dd6028a46408c0448091f38a779",
       "version_major": 2,
       "version_minor": 0
      },
      "text/plain": [
       "HBox(children=(IntProgress(value=0, max=7), HTML(value='')))"
      ]
     },
     "metadata": {},
     "output_type": "display_data"
    },
    {
     "name": "stdout",
     "output_type": "stream",
     "text": [
      "\n",
      "{(50, 1): 0.14079229122055675, (50, 7): 0.6179068522483939, (50, 13): 0.6270074946466809, (50, 19): 0.6208511777301927, (100, 1): 0.1876338329764454, (100, 7): 0.646948608137045}\n",
      "{(50, 1): 0.04630620985010707, (50, 7): 0.046440042826552466, (50, 13): 0.055406852248394006, (50, 19): 0.048982869379014984, (100, 1): 0.04202355460385439, (100, 7): 0.06049250535331906}\n"
     ]
    },
    {
     "data": {
      "application/vnd.jupyter.widget-view+json": {
       "model_id": "bfaa22ef48af4fdca1a7795c5ef96ae5",
       "version_major": 2,
       "version_minor": 0
      },
      "text/plain": [
       "HBox(children=(IntProgress(value=0, max=13), HTML(value='')))"
      ]
     },
     "metadata": {},
     "output_type": "display_data"
    },
    {
     "name": "stdout",
     "output_type": "stream",
     "text": [
      "\n"
     ]
    },
    {
     "data": {
      "application/vnd.jupyter.widget-view+json": {
       "model_id": "08db2e28831e48558381966bf7ec1850",
       "version_major": 2,
       "version_minor": 0
      },
      "text/plain": [
       "HBox(children=(IntProgress(value=0, max=13), HTML(value='')))"
      ]
     },
     "metadata": {},
     "output_type": "display_data"
    },
    {
     "name": "stdout",
     "output_type": "stream",
     "text": [
      "\n"
     ]
    },
    {
     "data": {
      "application/vnd.jupyter.widget-view+json": {
       "model_id": "70b4f815ab61480d93ed011dd866e171",
       "version_major": 2,
       "version_minor": 0
      },
      "text/plain": [
       "HBox(children=(IntProgress(value=0, max=13), HTML(value='')))"
      ]
     },
     "metadata": {},
     "output_type": "display_data"
    },
    {
     "name": "stdout",
     "output_type": "stream",
     "text": [
      "\n"
     ]
    },
    {
     "data": {
      "application/vnd.jupyter.widget-view+json": {
       "model_id": "dfda9ea7dc9b4113a44517010c3c1cf9",
       "version_major": 2,
       "version_minor": 0
      },
      "text/plain": [
       "HBox(children=(IntProgress(value=0, max=13), HTML(value='')))"
      ]
     },
     "metadata": {},
     "output_type": "display_data"
    },
    {
     "name": "stdout",
     "output_type": "stream",
     "text": [
      "\n",
      "{(50, 1): 0.14079229122055675, (50, 7): 0.6179068522483939, (50, 13): 0.6270074946466809, (50, 19): 0.6208511777301927, (100, 1): 0.1876338329764454, (100, 7): 0.646948608137045, (100, 13): 0.644271948608137}\n",
      "{(50, 1): 0.04630620985010707, (50, 7): 0.046440042826552466, (50, 13): 0.055406852248394006, (50, 19): 0.048982869379014984, (100, 1): 0.04202355460385439, (100, 7): 0.06049250535331906, (100, 13): 0.04135438972162741}\n"
     ]
    },
    {
     "data": {
      "application/vnd.jupyter.widget-view+json": {
       "model_id": "1435df55ef7b49d9b82e8f707753ffcd",
       "version_major": 2,
       "version_minor": 0
      },
      "text/plain": [
       "HBox(children=(IntProgress(value=0, max=19), HTML(value='')))"
      ]
     },
     "metadata": {},
     "output_type": "display_data"
    },
    {
     "name": "stdout",
     "output_type": "stream",
     "text": [
      "\n"
     ]
    },
    {
     "data": {
      "application/vnd.jupyter.widget-view+json": {
       "model_id": "96d5c865ea404ecf89947441595f161e",
       "version_major": 2,
       "version_minor": 0
      },
      "text/plain": [
       "HBox(children=(IntProgress(value=0, max=19), HTML(value='')))"
      ]
     },
     "metadata": {},
     "output_type": "display_data"
    },
    {
     "name": "stdout",
     "output_type": "stream",
     "text": [
      "\n"
     ]
    },
    {
     "data": {
      "application/vnd.jupyter.widget-view+json": {
       "model_id": "e454549e82824d2aabadc4fe08ceb311",
       "version_major": 2,
       "version_minor": 0
      },
      "text/plain": [
       "HBox(children=(IntProgress(value=0, max=19), HTML(value='')))"
      ]
     },
     "metadata": {},
     "output_type": "display_data"
    },
    {
     "name": "stdout",
     "output_type": "stream",
     "text": [
      "\n"
     ]
    },
    {
     "data": {
      "application/vnd.jupyter.widget-view+json": {
       "model_id": "4391dbcabd07493b813ba674308c0030",
       "version_major": 2,
       "version_minor": 0
      },
      "text/plain": [
       "HBox(children=(IntProgress(value=0, max=19), HTML(value='')))"
      ]
     },
     "metadata": {},
     "output_type": "display_data"
    },
    {
     "name": "stdout",
     "output_type": "stream",
     "text": [
      "\n",
      "{(50, 1): 0.14079229122055675, (50, 7): 0.6179068522483939, (50, 13): 0.6270074946466809, (50, 19): 0.6208511777301927, (100, 1): 0.1876338329764454, (100, 7): 0.646948608137045, (100, 13): 0.644271948608137, (100, 19): 0.6399892933618844}\n",
      "{(50, 1): 0.04630620985010707, (50, 7): 0.046440042826552466, (50, 13): 0.055406852248394006, (50, 19): 0.048982869379014984, (100, 1): 0.04202355460385439, (100, 7): 0.06049250535331906, (100, 13): 0.04135438972162741, (100, 19): 0.0555406852248394}\n"
     ]
    },
    {
     "data": {
      "application/vnd.jupyter.widget-view+json": {
       "model_id": "34bb3126232d41efb66cd66579d2b498",
       "version_major": 2,
       "version_minor": 0
      },
      "text/plain": [
       "HBox(children=(IntProgress(value=0, max=1), HTML(value='')))"
      ]
     },
     "metadata": {},
     "output_type": "display_data"
    },
    {
     "name": "stdout",
     "output_type": "stream",
     "text": [
      "\n"
     ]
    },
    {
     "data": {
      "application/vnd.jupyter.widget-view+json": {
       "model_id": "e4444c6869464dc58738f7f86f1aa74a",
       "version_major": 2,
       "version_minor": 0
      },
      "text/plain": [
       "HBox(children=(IntProgress(value=0, max=1), HTML(value='')))"
      ]
     },
     "metadata": {},
     "output_type": "display_data"
    },
    {
     "name": "stdout",
     "output_type": "stream",
     "text": [
      "\n"
     ]
    },
    {
     "data": {
      "application/vnd.jupyter.widget-view+json": {
       "model_id": "6d722b60cc354d2fa4e715f53ce692f0",
       "version_major": 2,
       "version_minor": 0
      },
      "text/plain": [
       "HBox(children=(IntProgress(value=0, max=1), HTML(value='')))"
      ]
     },
     "metadata": {},
     "output_type": "display_data"
    },
    {
     "name": "stdout",
     "output_type": "stream",
     "text": [
      "\n"
     ]
    },
    {
     "data": {
      "application/vnd.jupyter.widget-view+json": {
       "model_id": "2231517619794c41b4850ed0056259c9",
       "version_major": 2,
       "version_minor": 0
      },
      "text/plain": [
       "HBox(children=(IntProgress(value=0, max=1), HTML(value='')))"
      ]
     },
     "metadata": {},
     "output_type": "display_data"
    },
    {
     "name": "stdout",
     "output_type": "stream",
     "text": [
      "\n",
      "{(50, 1): 0.14079229122055675, (50, 7): 0.6179068522483939, (50, 13): 0.6270074946466809, (50, 19): 0.6208511777301927, (100, 1): 0.1876338329764454, (100, 7): 0.646948608137045, (100, 13): 0.644271948608137, (100, 19): 0.6399892933618844, (150, 1): 0.21761241970021414}\n",
      "{(50, 1): 0.04630620985010707, (50, 7): 0.046440042826552466, (50, 13): 0.055406852248394006, (50, 19): 0.048982869379014984, (100, 1): 0.04202355460385439, (100, 7): 0.06049250535331906, (100, 13): 0.04135438972162741, (100, 19): 0.0555406852248394, (150, 1): 0.04470021413276232}\n"
     ]
    },
    {
     "data": {
      "application/vnd.jupyter.widget-view+json": {
       "model_id": "e9242a39b91c4d159c11ea506702ce25",
       "version_major": 2,
       "version_minor": 0
      },
      "text/plain": [
       "HBox(children=(IntProgress(value=0, max=7), HTML(value='')))"
      ]
     },
     "metadata": {},
     "output_type": "display_data"
    },
    {
     "name": "stdout",
     "output_type": "stream",
     "text": [
      "\n"
     ]
    },
    {
     "data": {
      "application/vnd.jupyter.widget-view+json": {
       "model_id": "272c6a5aba404b46b0a8ee2a1feeb929",
       "version_major": 2,
       "version_minor": 0
      },
      "text/plain": [
       "HBox(children=(IntProgress(value=0, max=7), HTML(value='')))"
      ]
     },
     "metadata": {},
     "output_type": "display_data"
    },
    {
     "name": "stdout",
     "output_type": "stream",
     "text": [
      "\n"
     ]
    },
    {
     "data": {
      "application/vnd.jupyter.widget-view+json": {
       "model_id": "3bdde368e7174a0f8de02fe2846393e0",
       "version_major": 2,
       "version_minor": 0
      },
      "text/plain": [
       "HBox(children=(IntProgress(value=0, max=7), HTML(value='')))"
      ]
     },
     "metadata": {},
     "output_type": "display_data"
    },
    {
     "name": "stdout",
     "output_type": "stream",
     "text": [
      "\n"
     ]
    },
    {
     "data": {
      "application/vnd.jupyter.widget-view+json": {
       "model_id": "9373761f2aa544f99d4c8ff59288470a",
       "version_major": 2,
       "version_minor": 0
      },
      "text/plain": [
       "HBox(children=(IntProgress(value=0, max=7), HTML(value='')))"
      ]
     },
     "metadata": {},
     "output_type": "display_data"
    },
    {
     "name": "stdout",
     "output_type": "stream",
     "text": [
      "\n",
      "{(50, 1): 0.14079229122055675, (50, 7): 0.6179068522483939, (50, 13): 0.6270074946466809, (50, 19): 0.6208511777301927, (100, 1): 0.1876338329764454, (100, 7): 0.646948608137045, (100, 13): 0.644271948608137, (100, 19): 0.6399892933618844, (150, 1): 0.21761241970021414, (150, 7): 0.6535064239828694}\n",
      "{(50, 1): 0.04630620985010707, (50, 7): 0.046440042826552466, (50, 13): 0.055406852248394006, (50, 19): 0.048982869379014984, (100, 1): 0.04202355460385439, (100, 7): 0.06049250535331906, (100, 13): 0.04135438972162741, (100, 19): 0.0555406852248394, (150, 1): 0.04470021413276232, (150, 7): 0.05058886509635974}\n"
     ]
    },
    {
     "data": {
      "application/vnd.jupyter.widget-view+json": {
       "model_id": "b8c86837f798483bbd415b82a6feaf02",
       "version_major": 2,
       "version_minor": 0
      },
      "text/plain": [
       "HBox(children=(IntProgress(value=0, max=13), HTML(value='')))"
      ]
     },
     "metadata": {},
     "output_type": "display_data"
    },
    {
     "name": "stdout",
     "output_type": "stream",
     "text": [
      "\n"
     ]
    },
    {
     "data": {
      "application/vnd.jupyter.widget-view+json": {
       "model_id": "7c4373825fff4042a7035ed7a4752aa4",
       "version_major": 2,
       "version_minor": 0
      },
      "text/plain": [
       "HBox(children=(IntProgress(value=0, max=13), HTML(value='')))"
      ]
     },
     "metadata": {},
     "output_type": "display_data"
    },
    {
     "name": "stdout",
     "output_type": "stream",
     "text": [
      "\n"
     ]
    },
    {
     "data": {
      "application/vnd.jupyter.widget-view+json": {
       "model_id": "d2a5e8ae4fd74d5ea7b929cdb58e22a3",
       "version_major": 2,
       "version_minor": 0
      },
      "text/plain": [
       "HBox(children=(IntProgress(value=0, max=13), HTML(value='')))"
      ]
     },
     "metadata": {},
     "output_type": "display_data"
    },
    {
     "name": "stdout",
     "output_type": "stream",
     "text": [
      "\n"
     ]
    },
    {
     "data": {
      "application/vnd.jupyter.widget-view+json": {
       "model_id": "d876941bc250416ab97dd57bd8902c24",
       "version_major": 2,
       "version_minor": 0
      },
      "text/plain": [
       "HBox(children=(IntProgress(value=0, max=13), HTML(value='')))"
      ]
     },
     "metadata": {},
     "output_type": "display_data"
    },
    {
     "name": "stdout",
     "output_type": "stream",
     "text": [
      "\n",
      "{(50, 1): 0.14079229122055675, (50, 7): 0.6179068522483939, (50, 13): 0.6270074946466809, (50, 19): 0.6208511777301927, (100, 1): 0.1876338329764454, (100, 7): 0.646948608137045, (100, 13): 0.644271948608137, (100, 19): 0.6399892933618844, (150, 1): 0.21761241970021414, (150, 7): 0.6535064239828694, (150, 13): 0.6403907922912205}\n",
      "{(50, 1): 0.04630620985010707, (50, 7): 0.046440042826552466, (50, 13): 0.055406852248394006, (50, 19): 0.048982869379014984, (100, 1): 0.04202355460385439, (100, 7): 0.06049250535331906, (100, 13): 0.04135438972162741, (100, 19): 0.0555406852248394, (150, 1): 0.04470021413276232, (150, 7): 0.05058886509635974, (150, 13): 0.048313704496788006}\n"
     ]
    },
    {
     "data": {
      "application/vnd.jupyter.widget-view+json": {
       "model_id": "3e6c55b27a5d4dbe91ce00188a2975ba",
       "version_major": 2,
       "version_minor": 0
      },
      "text/plain": [
       "HBox(children=(IntProgress(value=0, max=19), HTML(value='')))"
      ]
     },
     "metadata": {},
     "output_type": "display_data"
    },
    {
     "name": "stdout",
     "output_type": "stream",
     "text": [
      "\n"
     ]
    },
    {
     "data": {
      "application/vnd.jupyter.widget-view+json": {
       "model_id": "77c049d8f2534a15bed1ec45908fec42",
       "version_major": 2,
       "version_minor": 0
      },
      "text/plain": [
       "HBox(children=(IntProgress(value=0, max=19), HTML(value='')))"
      ]
     },
     "metadata": {},
     "output_type": "display_data"
    },
    {
     "name": "stdout",
     "output_type": "stream",
     "text": [
      "\n"
     ]
    },
    {
     "data": {
      "application/vnd.jupyter.widget-view+json": {
       "model_id": "01ad1bc5022540d08e99b10a4268c90c",
       "version_major": 2,
       "version_minor": 0
      },
      "text/plain": [
       "HBox(children=(IntProgress(value=0, max=19), HTML(value='')))"
      ]
     },
     "metadata": {},
     "output_type": "display_data"
    },
    {
     "name": "stdout",
     "output_type": "stream",
     "text": [
      "\n"
     ]
    },
    {
     "data": {
      "application/vnd.jupyter.widget-view+json": {
       "model_id": "a3fc64d554b242448cc0dc5908bf15e8",
       "version_major": 2,
       "version_minor": 0
      },
      "text/plain": [
       "HBox(children=(IntProgress(value=0, max=19), HTML(value='')))"
      ]
     },
     "metadata": {},
     "output_type": "display_data"
    },
    {
     "name": "stdout",
     "output_type": "stream",
     "text": [
      "\n",
      "{(50, 1): 0.14079229122055675, (50, 7): 0.6179068522483939, (50, 13): 0.6270074946466809, (50, 19): 0.6208511777301927, (100, 1): 0.1876338329764454, (100, 7): 0.646948608137045, (100, 13): 0.644271948608137, (100, 19): 0.6399892933618844, (150, 1): 0.21761241970021414, (150, 7): 0.6535064239828694, (150, 13): 0.6403907922912205, (150, 19): 0.6429336188436832}\n",
      "{(50, 1): 0.04630620985010707, (50, 7): 0.046440042826552466, (50, 13): 0.055406852248394006, (50, 19): 0.048982869379014984, (100, 1): 0.04202355460385439, (100, 7): 0.06049250535331906, (100, 13): 0.04135438972162741, (100, 19): 0.0555406852248394, (150, 1): 0.04470021413276232, (150, 7): 0.05058886509635974, (150, 13): 0.048313704496788006, (150, 19): 0.05085653104925054}\n"
     ]
    },
    {
     "data": {
      "application/vnd.jupyter.widget-view+json": {
       "model_id": "f220eeaa43234c09939042534c028174",
       "version_major": 2,
       "version_minor": 0
      },
      "text/plain": [
       "HBox(children=(IntProgress(value=0, max=1), HTML(value='')))"
      ]
     },
     "metadata": {},
     "output_type": "display_data"
    },
    {
     "name": "stdout",
     "output_type": "stream",
     "text": [
      "\n"
     ]
    },
    {
     "data": {
      "application/vnd.jupyter.widget-view+json": {
       "model_id": "5673506de64946b3a8d507c24cb647b5",
       "version_major": 2,
       "version_minor": 0
      },
      "text/plain": [
       "HBox(children=(IntProgress(value=0, max=1), HTML(value='')))"
      ]
     },
     "metadata": {},
     "output_type": "display_data"
    },
    {
     "name": "stdout",
     "output_type": "stream",
     "text": [
      "\n"
     ]
    },
    {
     "data": {
      "application/vnd.jupyter.widget-view+json": {
       "model_id": "842865de56b749558afea0d64e58c37d",
       "version_major": 2,
       "version_minor": 0
      },
      "text/plain": [
       "HBox(children=(IntProgress(value=0, max=1), HTML(value='')))"
      ]
     },
     "metadata": {},
     "output_type": "display_data"
    },
    {
     "name": "stdout",
     "output_type": "stream",
     "text": [
      "\n"
     ]
    },
    {
     "data": {
      "application/vnd.jupyter.widget-view+json": {
       "model_id": "4f1e3ffb64644fff88a8956285b6b647",
       "version_major": 2,
       "version_minor": 0
      },
      "text/plain": [
       "HBox(children=(IntProgress(value=0, max=1), HTML(value='')))"
      ]
     },
     "metadata": {},
     "output_type": "display_data"
    },
    {
     "name": "stdout",
     "output_type": "stream",
     "text": [
      "\n",
      "{(50, 1): 0.14079229122055675, (50, 7): 0.6179068522483939, (50, 13): 0.6270074946466809, (50, 19): 0.6208511777301927, (100, 1): 0.1876338329764454, (100, 7): 0.646948608137045, (100, 13): 0.644271948608137, (100, 19): 0.6399892933618844, (150, 1): 0.21761241970021414, (150, 7): 0.6535064239828694, (150, 13): 0.6403907922912205, (150, 19): 0.6429336188436832, (200, 1): 0.24745717344753748}\n",
      "{(50, 1): 0.04630620985010707, (50, 7): 0.046440042826552466, (50, 13): 0.055406852248394006, (50, 19): 0.048982869379014984, (100, 1): 0.04202355460385439, (100, 7): 0.06049250535331906, (100, 13): 0.04135438972162741, (100, 19): 0.0555406852248394, (150, 1): 0.04470021413276232, (150, 7): 0.05058886509635974, (150, 13): 0.048313704496788006, (150, 19): 0.05085653104925054, (200, 1): 0.03894539614561028}\n"
     ]
    },
    {
     "data": {
      "application/vnd.jupyter.widget-view+json": {
       "model_id": "550953a862ed4e8a99928289e2a1cbe4",
       "version_major": 2,
       "version_minor": 0
      },
      "text/plain": [
       "HBox(children=(IntProgress(value=0, max=7), HTML(value='')))"
      ]
     },
     "metadata": {},
     "output_type": "display_data"
    },
    {
     "name": "stdout",
     "output_type": "stream",
     "text": [
      "\n"
     ]
    },
    {
     "data": {
      "application/vnd.jupyter.widget-view+json": {
       "model_id": "d165a9684134488f8d69b09abc527cfe",
       "version_major": 2,
       "version_minor": 0
      },
      "text/plain": [
       "HBox(children=(IntProgress(value=0, max=7), HTML(value='')))"
      ]
     },
     "metadata": {},
     "output_type": "display_data"
    },
    {
     "name": "stdout",
     "output_type": "stream",
     "text": [
      "\n"
     ]
    },
    {
     "data": {
      "application/vnd.jupyter.widget-view+json": {
       "model_id": "32628a0ed73449228f4e10b128229ab5",
       "version_major": 2,
       "version_minor": 0
      },
      "text/plain": [
       "HBox(children=(IntProgress(value=0, max=7), HTML(value='')))"
      ]
     },
     "metadata": {},
     "output_type": "display_data"
    },
    {
     "name": "stdout",
     "output_type": "stream",
     "text": [
      "\n"
     ]
    },
    {
     "data": {
      "application/vnd.jupyter.widget-view+json": {
       "model_id": "f8ede73a36104aa78387bb3fd66933e5",
       "version_major": 2,
       "version_minor": 0
      },
      "text/plain": [
       "HBox(children=(IntProgress(value=0, max=7), HTML(value='')))"
      ]
     },
     "metadata": {},
     "output_type": "display_data"
    },
    {
     "name": "stdout",
     "output_type": "stream",
     "text": [
      "\n",
      "{(50, 1): 0.14079229122055675, (50, 7): 0.6179068522483939, (50, 13): 0.6270074946466809, (50, 19): 0.6208511777301927, (100, 1): 0.1876338329764454, (100, 7): 0.646948608137045, (100, 13): 0.644271948608137, (100, 19): 0.6399892933618844, (150, 1): 0.21761241970021414, (150, 7): 0.6535064239828694, (150, 13): 0.6403907922912205, (150, 19): 0.6429336188436832, (200, 1): 0.24745717344753748, (200, 7): 0.6498929336188437}\n",
      "{(50, 1): 0.04630620985010707, (50, 7): 0.046440042826552466, (50, 13): 0.055406852248394006, (50, 19): 0.048982869379014984, (100, 1): 0.04202355460385439, (100, 7): 0.06049250535331906, (100, 13): 0.04135438972162741, (100, 19): 0.0555406852248394, (150, 1): 0.04470021413276232, (150, 7): 0.05058886509635974, (150, 13): 0.048313704496788006, (150, 19): 0.05085653104925054, (200, 1): 0.03894539614561028, (200, 7): 0.04349571734475374}\n"
     ]
    },
    {
     "data": {
      "application/vnd.jupyter.widget-view+json": {
       "model_id": "1b558cfe14854a7f98766563222be296",
       "version_major": 2,
       "version_minor": 0
      },
      "text/plain": [
       "HBox(children=(IntProgress(value=0, max=13), HTML(value='')))"
      ]
     },
     "metadata": {},
     "output_type": "display_data"
    },
    {
     "name": "stdout",
     "output_type": "stream",
     "text": [
      "\n"
     ]
    },
    {
     "data": {
      "application/vnd.jupyter.widget-view+json": {
       "model_id": "66cbb7570d894362969792106f1429f1",
       "version_major": 2,
       "version_minor": 0
      },
      "text/plain": [
       "HBox(children=(IntProgress(value=0, max=13), HTML(value='')))"
      ]
     },
     "metadata": {},
     "output_type": "display_data"
    },
    {
     "name": "stdout",
     "output_type": "stream",
     "text": [
      "\n"
     ]
    },
    {
     "data": {
      "application/vnd.jupyter.widget-view+json": {
       "model_id": "ec090736b88942d795facab7e3aa6735",
       "version_major": 2,
       "version_minor": 0
      },
      "text/plain": [
       "HBox(children=(IntProgress(value=0, max=13), HTML(value='')))"
      ]
     },
     "metadata": {},
     "output_type": "display_data"
    },
    {
     "name": "stdout",
     "output_type": "stream",
     "text": [
      "\n"
     ]
    },
    {
     "data": {
      "application/vnd.jupyter.widget-view+json": {
       "model_id": "ef51e444d04b466ab4a82befdcee588a",
       "version_major": 2,
       "version_minor": 0
      },
      "text/plain": [
       "HBox(children=(IntProgress(value=0, max=13), HTML(value='')))"
      ]
     },
     "metadata": {},
     "output_type": "display_data"
    },
    {
     "name": "stdout",
     "output_type": "stream",
     "text": [
      "\n",
      "{(50, 1): 0.14079229122055675, (50, 7): 0.6179068522483939, (50, 13): 0.6270074946466809, (50, 19): 0.6208511777301927, (100, 1): 0.1876338329764454, (100, 7): 0.646948608137045, (100, 13): 0.644271948608137, (100, 19): 0.6399892933618844, (150, 1): 0.21761241970021414, (150, 7): 0.6535064239828694, (150, 13): 0.6403907922912205, (150, 19): 0.6429336188436832, (200, 1): 0.24745717344753748, (200, 7): 0.6498929336188437, (200, 13): 0.6383832976445396}\n",
      "{(50, 1): 0.04630620985010707, (50, 7): 0.046440042826552466, (50, 13): 0.055406852248394006, (50, 19): 0.048982869379014984, (100, 1): 0.04202355460385439, (100, 7): 0.06049250535331906, (100, 13): 0.04135438972162741, (100, 19): 0.0555406852248394, (150, 1): 0.04470021413276232, (150, 7): 0.05058886509635974, (150, 13): 0.048313704496788006, (150, 19): 0.05085653104925054, (200, 1): 0.03894539614561028, (200, 7): 0.04349571734475374, (200, 13): 0.051659528907922914}\n"
     ]
    },
    {
     "data": {
      "application/vnd.jupyter.widget-view+json": {
       "model_id": "880ced5743ec407884845b08555fbd0d",
       "version_major": 2,
       "version_minor": 0
      },
      "text/plain": [
       "HBox(children=(IntProgress(value=0, max=19), HTML(value='')))"
      ]
     },
     "metadata": {},
     "output_type": "display_data"
    },
    {
     "name": "stdout",
     "output_type": "stream",
     "text": [
      "\n"
     ]
    },
    {
     "data": {
      "application/vnd.jupyter.widget-view+json": {
       "model_id": "8cae6bf74ad64f1a90ccc256ae7af08d",
       "version_major": 2,
       "version_minor": 0
      },
      "text/plain": [
       "HBox(children=(IntProgress(value=0, max=19), HTML(value='')))"
      ]
     },
     "metadata": {},
     "output_type": "display_data"
    },
    {
     "name": "stdout",
     "output_type": "stream",
     "text": [
      "\n"
     ]
    },
    {
     "data": {
      "application/vnd.jupyter.widget-view+json": {
       "model_id": "085f2dcc6cc74e20986d5d453fd300d2",
       "version_major": 2,
       "version_minor": 0
      },
      "text/plain": [
       "HBox(children=(IntProgress(value=0, max=19), HTML(value='')))"
      ]
     },
     "metadata": {},
     "output_type": "display_data"
    },
    {
     "name": "stdout",
     "output_type": "stream",
     "text": [
      "\n"
     ]
    },
    {
     "data": {
      "application/vnd.jupyter.widget-view+json": {
       "model_id": "47dc02b1bb154e898dd2681d6ffbc2d9",
       "version_major": 2,
       "version_minor": 0
      },
      "text/plain": [
       "HBox(children=(IntProgress(value=0, max=19), HTML(value='')))"
      ]
     },
     "metadata": {},
     "output_type": "display_data"
    },
    {
     "name": "stdout",
     "output_type": "stream",
     "text": [
      "\n",
      "{(50, 1): 0.14079229122055675, (50, 7): 0.6179068522483939, (50, 13): 0.6270074946466809, (50, 19): 0.6208511777301927, (100, 1): 0.1876338329764454, (100, 7): 0.646948608137045, (100, 13): 0.644271948608137, (100, 19): 0.6399892933618844, (150, 1): 0.21761241970021414, (150, 7): 0.6535064239828694, (150, 13): 0.6403907922912205, (150, 19): 0.6429336188436832, (200, 1): 0.24745717344753748, (200, 7): 0.6498929336188437, (200, 13): 0.6383832976445396, (200, 19): 0.6402569593147751}\n",
      "{(50, 1): 0.04630620985010707, (50, 7): 0.046440042826552466, (50, 13): 0.055406852248394006, (50, 19): 0.048982869379014984, (100, 1): 0.04202355460385439, (100, 7): 0.06049250535331906, (100, 13): 0.04135438972162741, (100, 19): 0.0555406852248394, (150, 1): 0.04470021413276232, (150, 7): 0.05058886509635974, (150, 13): 0.048313704496788006, (150, 19): 0.05085653104925054, (200, 1): 0.03894539614561028, (200, 7): 0.04349571734475374, (200, 13): 0.051659528907922914, (200, 19): 0.04590471092077088}\n"
     ]
    }
   ],
   "source": [
    "import implicit\n",
    "# choosing factor size and iteration size\n",
    "iters = range(1,20,6)\n",
    "facts = range(50,250,50)\n",
    "overlap_val_iter = {}\n",
    "overlap_train_iter = {}\n",
    "\n",
    "for fac in facts:\n",
    "    for it in iters:\n",
    "        # the following two lists will store the overlap score for each fold\n",
    "        overlap_val_cv = []\n",
    "        overlap_train_cv = []\n",
    "        for cv_ind in range(cv):\n",
    "            ind = [j for j in range(cv) if j != cv_ind]\n",
    "            # save the training indices to total_ind\n",
    "            total_ind = np.concatenate([train_cv_ind[k] for k in ind] )\n",
    "            X = track_playlist_data[total_ind]\n",
    "            # save the validation indices to val_ind\n",
    "            val_ind = train_cv_ind[cv_ind]\n",
    "            X_val = track_playlist_data[val_ind]\n",
    "            \n",
    "            # fit the training data\n",
    "            model_mf = implicit.als.AlternatingLeastSquares(factors = fac,iterations = it)\n",
    "            model_mf.fit(X.T)\n",
    "            \n",
    "            prec = []\n",
    "            # loop for each playlist in the training data and calculate the overlap score between the true tracks and predictions\n",
    "            for pl in range(len(total_ind)):\n",
    "                playlistid = pl\n",
    "                # use the model_mf to recommend 10 tracks for playlistid \n",
    "                recommendations = model_mf.recommend(playlistid, X,filter_already_liked_items = True)\n",
    "                playlist_pred = [tracks[i] for i in list(zip(*recommendations))[0]]\n",
    "                # get the dictionary key for the playlist with id total_ind[pl] from y_train\n",
    "                key = list(y_train.keys())[total_ind[pl]]\n",
    "                # get the true tracks from y_train\n",
    "                playlist_true = y_train[key]\n",
    "                prec.append(overlap_score(playlist_true,playlist_pred)) \n",
    "            overlap_train_cv.append(np.mean(prec))\n",
    "            \n",
    "            \n",
    "            \n",
    "            model_val = implicit.als.AlternatingLeastSquares(factors = fac,iterations = it)\n",
    "            model_val.fit(X_val.T)\n",
    "            # rank the tracks for the validation playlists by multiplying the user_factors from the validation data\n",
    "            # and the item_factors from the training data\n",
    "            recommendations_val = model_val.user_factors@model_mf.item_factors.T\n",
    "            prec_val = []\n",
    "            \n",
    "            # loop for each playlist in the validation data and calculate the overlap score between the true tracks and predictions\n",
    "            for pl in range(len(val_ind)):\n",
    "                playlistid = pl\n",
    "                # recommend the top 10 tracks that have the highest score for the playlist with id pl\n",
    "                recommendations = recommendations_val[pl].argsort()[-10:][::-1]\n",
    "                playlist_pred = [tracks[i] for i in recommendations]\n",
    "                # get the dictionary key for the playlist with id val_ind[pl] from y_train\n",
    "                key = list(y_train.keys())[val_ind[pl]]\n",
    "                # get the true tracks from y_val (y_train[key])\n",
    "                playlist_true = y_train[key]\n",
    "                prec_val.append(overlap_score(playlist_true,playlist_pred))\n",
    "            overlap_val_cv.append(np.mean(prec_val))\n",
    "\n",
    "        overlap_train_iter[(fac,it)] = np.mean(overlap_train_cv)\n",
    "        overlap_val_iter[(fac,it)] = np.mean(overlap_val_cv)\n",
    "        print(overlap_train_iter)\n",
    "        print(overlap_val_iter)\n",
    "        \n"
   ]
  },
  {
   "cell_type": "code",
   "execution_count": 103,
   "metadata": {},
   "outputs": [
    {
     "data": {
      "application/vnd.jupyter.widget-view+json": {
       "model_id": "e8641a0a634a477c8e44ffd8459e0dd9",
       "version_major": 2,
       "version_minor": 0
      },
      "text/plain": [
       "HBox(children=(IntProgress(value=0, max=13), HTML(value='')))"
      ]
     },
     "metadata": {},
     "output_type": "display_data"
    },
    {
     "name": "stdout",
     "output_type": "stream",
     "text": [
      "\n",
      "Overall overlap score of ALS:  0.4902984076006958\n",
      "Overall dcg of ALS:  0.23334265807457652\n",
      "Time(s):  18.53966950299946\n"
     ]
    }
   ],
   "source": [
    "# import time to calculate the run time for this algorithm\n",
    "start = timeit.default_timer()\n",
    "\n",
    "model = implicit.als.AlternatingLeastSquares(factors=50, iterations = 13)\n",
    "\n",
    "# train the model on a sparse matrix of item/user/confidence weights\n",
    "model.fit(track_playlist_data.T)\n",
    "\n",
    "\n",
    "r_pred = []\n",
    "overlap = []\n",
    "dcg_score = []\n",
    "\n",
    "for ind in range(len(X_train)):\n",
    "    playlistid = ind\n",
    "    playlist_track = track_playlist_data.T\n",
    "    # recommend 10 tracks for the playlist with id playlistid\n",
    "    recommendations = model.recommend(playlistid, playlist_track,filter_already_liked_items = True)\n",
    "    # match the index of the track with the track names\n",
    "    playlist_pred = [tracks[i] for i in list(zip(*recommendations))[0]]\n",
    "    # get the dictionary key for the playlistid from y_train\n",
    "    key = list(y_train.keys())[ind]\n",
    "    # get the true tracks from y_train\n",
    "    playlist_true = y_train[key]\n",
    "\n",
    "    overlap.append(overlap_score(playlist_true,playlist_pred))\n",
    "    dcg_score.append(dcg(playlist_pred,playlist_true))\n",
    "\n",
    "print('Overall overlap score of ALS: ', np.mean(overlap))\n",
    "print('Overall dcg of ALS: ', np.mean(dcg_score))\n",
    "\n",
    "stop = timeit.default_timer()\n",
    "\n",
    "print('Time(s): ', stop - start) "
   ]
  },
  {
   "cell_type": "code",
   "execution_count": null,
   "metadata": {},
   "outputs": [],
   "source": []
  }
 ],
 "metadata": {
  "kernelspec": {
   "display_name": "Python 3",
   "language": "python",
   "name": "python3"
  },
  "language_info": {
   "codemirror_mode": {
    "name": "ipython",
    "version": 3
   },
   "file_extension": ".py",
   "mimetype": "text/x-python",
   "name": "python",
   "nbconvert_exporter": "python",
   "pygments_lexer": "ipython3",
   "version": "3.7.4"
  }
 },
 "nbformat": 4,
 "nbformat_minor": 2
}
