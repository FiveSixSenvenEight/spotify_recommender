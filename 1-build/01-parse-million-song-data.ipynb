{
 "cells": [
  {
   "cell_type": "code",
   "execution_count": 1,
   "metadata": {},
   "outputs": [],
   "source": [
    "import sys\n",
    "sys.path.append(\"../\")\n",
    "from utils import *"
   ]
  },
  {
   "cell_type": "code",
   "execution_count": 28,
   "metadata": {},
   "outputs": [
    {
     "data": {
      "text/html": [
       "<div>\n",
       "<style scoped>\n",
       "    .dataframe tbody tr th:only-of-type {\n",
       "        vertical-align: middle;\n",
       "    }\n",
       "\n",
       "    .dataframe tbody tr th {\n",
       "        vertical-align: top;\n",
       "    }\n",
       "\n",
       "    .dataframe thead th {\n",
       "        text-align: right;\n",
       "    }\n",
       "</style>\n",
       "<table border=\"1\" class=\"dataframe\">\n",
       "  <thead>\n",
       "    <tr style=\"text-align: right;\">\n",
       "      <th></th>\n",
       "      <th>pid</th>\n",
       "      <th>pos</th>\n",
       "      <th>artist_name</th>\n",
       "      <th>track_uri</th>\n",
       "      <th>artist_uri</th>\n",
       "      <th>track_name</th>\n",
       "      <th>album_uri</th>\n",
       "      <th>duration_ms</th>\n",
       "      <th>album_name</th>\n",
       "    </tr>\n",
       "  </thead>\n",
       "  <tbody>\n",
       "    <tr>\n",
       "      <th>0</th>\n",
       "      <td>0</td>\n",
       "      <td>0</td>\n",
       "      <td>Original Broadway Cast - The Little Mermaid</td>\n",
       "      <td>spotify:track:5IbCV9Icebx8rR6wAp5hhP</td>\n",
       "      <td>spotify:artist:3TymzPhJTMyupk7P5xkahM</td>\n",
       "      <td>Fathoms Below - Broadway Cast Recording</td>\n",
       "      <td>spotify:album:3ULJeOMgroG27dpn27MDfS</td>\n",
       "      <td>154506</td>\n",
       "      <td>The Little Mermaid: Original Broadway Cast Rec...</td>\n",
       "    </tr>\n",
       "    <tr>\n",
       "      <th>1</th>\n",
       "      <td>0</td>\n",
       "      <td>1</td>\n",
       "      <td>Original Broadway Cast - The Little Mermaid</td>\n",
       "      <td>spotify:track:6rKVAvjHcxAzZ1BHtwh5yC</td>\n",
       "      <td>spotify:artist:3TymzPhJTMyupk7P5xkahM</td>\n",
       "      <td>Daughters Of Triton - Broadway Cast Recording</td>\n",
       "      <td>spotify:album:3ULJeOMgroG27dpn27MDfS</td>\n",
       "      <td>79066</td>\n",
       "      <td>The Little Mermaid: Original Broadway Cast Rec...</td>\n",
       "    </tr>\n",
       "    <tr>\n",
       "      <th>2</th>\n",
       "      <td>0</td>\n",
       "      <td>2</td>\n",
       "      <td>Original Broadway Cast - The Little Mermaid</td>\n",
       "      <td>spotify:track:6Jlkb1Wh08RYHstWScsTvg</td>\n",
       "      <td>spotify:artist:3TymzPhJTMyupk7P5xkahM</td>\n",
       "      <td>The World Above - Broadway Cast Recording</td>\n",
       "      <td>spotify:album:3ULJeOMgroG27dpn27MDfS</td>\n",
       "      <td>94600</td>\n",
       "      <td>The Little Mermaid: Original Broadway Cast Rec...</td>\n",
       "    </tr>\n",
       "    <tr>\n",
       "      <th>3</th>\n",
       "      <td>0</td>\n",
       "      <td>3</td>\n",
       "      <td>Original Broadway Cast - The Little Mermaid</td>\n",
       "      <td>spotify:track:0XhC8bfStML9ygBmfOt1JJ</td>\n",
       "      <td>spotify:artist:3TymzPhJTMyupk7P5xkahM</td>\n",
       "      <td>Human Stuff - Broadway Cast Recording</td>\n",
       "      <td>spotify:album:3ULJeOMgroG27dpn27MDfS</td>\n",
       "      <td>151480</td>\n",
       "      <td>The Little Mermaid: Original Broadway Cast Rec...</td>\n",
       "    </tr>\n",
       "    <tr>\n",
       "      <th>4</th>\n",
       "      <td>0</td>\n",
       "      <td>4</td>\n",
       "      <td>Original Broadway Cast - The Little Mermaid</td>\n",
       "      <td>spotify:track:0ABxAcsRWlqckkyONsfP67</td>\n",
       "      <td>spotify:artist:3TymzPhJTMyupk7P5xkahM</td>\n",
       "      <td>I Want the Good Times Back - Broadway Cast Rec...</td>\n",
       "      <td>spotify:album:3ULJeOMgroG27dpn27MDfS</td>\n",
       "      <td>297920</td>\n",
       "      <td>The Little Mermaid: Original Broadway Cast Rec...</td>\n",
       "    </tr>\n",
       "  </tbody>\n",
       "</table>\n",
       "</div>"
      ],
      "text/plain": [
       "   pid  pos                                  artist_name  \\\n",
       "0    0    0  Original Broadway Cast - The Little Mermaid   \n",
       "1    0    1  Original Broadway Cast - The Little Mermaid   \n",
       "2    0    2  Original Broadway Cast - The Little Mermaid   \n",
       "3    0    3  Original Broadway Cast - The Little Mermaid   \n",
       "4    0    4  Original Broadway Cast - The Little Mermaid   \n",
       "\n",
       "                              track_uri  \\\n",
       "0  spotify:track:5IbCV9Icebx8rR6wAp5hhP   \n",
       "1  spotify:track:6rKVAvjHcxAzZ1BHtwh5yC   \n",
       "2  spotify:track:6Jlkb1Wh08RYHstWScsTvg   \n",
       "3  spotify:track:0XhC8bfStML9ygBmfOt1JJ   \n",
       "4  spotify:track:0ABxAcsRWlqckkyONsfP67   \n",
       "\n",
       "                              artist_uri  \\\n",
       "0  spotify:artist:3TymzPhJTMyupk7P5xkahM   \n",
       "1  spotify:artist:3TymzPhJTMyupk7P5xkahM   \n",
       "2  spotify:artist:3TymzPhJTMyupk7P5xkahM   \n",
       "3  spotify:artist:3TymzPhJTMyupk7P5xkahM   \n",
       "4  spotify:artist:3TymzPhJTMyupk7P5xkahM   \n",
       "\n",
       "                                          track_name  \\\n",
       "0            Fathoms Below - Broadway Cast Recording   \n",
       "1      Daughters Of Triton - Broadway Cast Recording   \n",
       "2          The World Above - Broadway Cast Recording   \n",
       "3              Human Stuff - Broadway Cast Recording   \n",
       "4  I Want the Good Times Back - Broadway Cast Rec...   \n",
       "\n",
       "                              album_uri  duration_ms  \\\n",
       "0  spotify:album:3ULJeOMgroG27dpn27MDfS       154506   \n",
       "1  spotify:album:3ULJeOMgroG27dpn27MDfS        79066   \n",
       "2  spotify:album:3ULJeOMgroG27dpn27MDfS        94600   \n",
       "3  spotify:album:3ULJeOMgroG27dpn27MDfS       151480   \n",
       "4  spotify:album:3ULJeOMgroG27dpn27MDfS       297920   \n",
       "\n",
       "                                          album_name  \n",
       "0  The Little Mermaid: Original Broadway Cast Rec...  \n",
       "1  The Little Mermaid: Original Broadway Cast Rec...  \n",
       "2  The Little Mermaid: Original Broadway Cast Rec...  \n",
       "3  The Little Mermaid: Original Broadway Cast Rec...  \n",
       "4  The Little Mermaid: Original Broadway Cast Rec...  "
      ]
     },
     "execution_count": 28,
     "metadata": {},
     "output_type": "execute_result"
    }
   ],
   "source": [
    "read_path = data_path + 'Songs/'\n",
    "songs = sorted([read_path + f for f in os.listdir(read_path)])\n",
    "pd.read_csv(songs[1]).head()"
   ]
  },
  {
   "cell_type": "code",
   "execution_count": 29,
   "metadata": {},
   "outputs": [
    {
     "name": "stdout",
     "output_type": "stream",
     "text": [
      "Total size: 10.830374768935144 GB\n"
     ]
    }
   ],
   "source": [
    "print(\"Total size:\", sum(list(map(os.path.getsize, songs))) / (1024**3), \"GB\")"
   ]
  },
  {
   "cell_type": "code",
   "execution_count": 30,
   "metadata": {},
   "outputs": [
    {
     "name": "stdout",
     "output_type": "stream",
     "text": [
      "['pid', 'pos', 'artist_name', 'track_uri', 'artist_uri', 'track_name', 'album_uri', 'duration_ms', 'album_name']\n"
     ]
    }
   ],
   "source": [
    "print(list(pd.read_csv(songs[1])))"
   ]
  },
  {
   "cell_type": "code",
   "execution_count": 32,
   "metadata": {
    "scrolled": true
   },
   "outputs": [
    {
     "name": "stdout",
     "output_type": "stream",
     "text": [
      "0\n",
      "100\n",
      "200\n",
      "300\n",
      "400\n",
      "500\n",
      "600\n",
      "700\n",
      "800\n",
      "900\n"
     ]
    },
    {
     "data": {
      "text/html": [
       "<div>\n",
       "<style scoped>\n",
       "    .dataframe tbody tr th:only-of-type {\n",
       "        vertical-align: middle;\n",
       "    }\n",
       "\n",
       "    .dataframe tbody tr th {\n",
       "        vertical-align: top;\n",
       "    }\n",
       "\n",
       "    .dataframe thead th {\n",
       "        text-align: right;\n",
       "    }\n",
       "</style>\n",
       "<table border=\"1\" class=\"dataframe\">\n",
       "  <thead>\n",
       "    <tr style=\"text-align: right;\">\n",
       "      <th></th>\n",
       "      <th>pid</th>\n",
       "      <th>track_uri</th>\n",
       "    </tr>\n",
       "  </thead>\n",
       "  <tbody>\n",
       "    <tr>\n",
       "      <th>0</th>\n",
       "      <td>0_0</td>\n",
       "      <td>spotify:track:0UaMYEvWZi0ZqiDOoHU3YI</td>\n",
       "    </tr>\n",
       "    <tr>\n",
       "      <th>1</th>\n",
       "      <td>0_0</td>\n",
       "      <td>spotify:track:6I9VzXrHxO9rA9A5euc8Ak</td>\n",
       "    </tr>\n",
       "    <tr>\n",
       "      <th>2</th>\n",
       "      <td>0_0</td>\n",
       "      <td>spotify:track:0WqIKmW4BTrj3eJFmnCKMv</td>\n",
       "    </tr>\n",
       "    <tr>\n",
       "      <th>3</th>\n",
       "      <td>0_0</td>\n",
       "      <td>spotify:track:1AWQoqb9bSvzTjaLralEkT</td>\n",
       "    </tr>\n",
       "    <tr>\n",
       "      <th>4</th>\n",
       "      <td>0_0</td>\n",
       "      <td>spotify:track:1lzr43nnXAijIGYnCT8M8H</td>\n",
       "    </tr>\n",
       "  </tbody>\n",
       "</table>\n",
       "</div>"
      ],
      "text/plain": [
       "   pid                             track_uri\n",
       "0  0_0  spotify:track:0UaMYEvWZi0ZqiDOoHU3YI\n",
       "1  0_0  spotify:track:6I9VzXrHxO9rA9A5euc8Ak\n",
       "2  0_0  spotify:track:0WqIKmW4BTrj3eJFmnCKMv\n",
       "3  0_0  spotify:track:1AWQoqb9bSvzTjaLralEkT\n",
       "4  0_0  spotify:track:1lzr43nnXAijIGYnCT8M8H"
      ]
     },
     "execution_count": 32,
     "metadata": {},
     "output_type": "execute_result"
    }
   ],
   "source": [
    "# Gather playlist x Songs Info\n",
    "pl_songs = []\n",
    "for i,s in enumerate(songs):\n",
    "    if i % 100 == 0: print(i)\n",
    "    temp = pd.read_csv(s)\n",
    "    pl_file_number = s[s.find('songs')+5:-4]\n",
    "    new_df = temp[['pid', 'track_uri']].copy()\n",
    "    new_df['pid'] = new_df['pid'].apply(lambda x:str(pl_file_number) + '_' + str(x))\n",
    "    pl_songs.append(new_df)\n",
    "    \n",
    "pl_songs= pd.concat(pl_songs)\n",
    "pl_songs.head()"
   ]
  },
  {
   "cell_type": "code",
   "execution_count": 33,
   "metadata": {},
   "outputs": [],
   "source": [
    "pl_songs.to_csv(data_path + 'pl_tracks.csv', index = None)"
   ]
  },
  {
   "cell_type": "code",
   "execution_count": 34,
   "metadata": {},
   "outputs": [
    {
     "data": {
      "text/plain": [
       "7689"
      ]
     },
     "execution_count": 34,
     "metadata": {},
     "output_type": "execute_result"
    }
   ],
   "source": [
    "import gc\n",
    "del pl_songs\n",
    "gc.collect()"
   ]
  },
  {
   "cell_type": "code",
   "execution_count": 37,
   "metadata": {},
   "outputs": [
    {
     "name": "stdout",
     "output_type": "stream",
     "text": [
      "0\n",
      "100\n",
      "200\n",
      "300\n",
      "400\n",
      "500\n",
      "600\n",
      "700\n",
      "800\n",
      "900\n",
      "(66346428, 5)\n",
      "(2262292, 5)\n"
     ]
    }
   ],
   "source": [
    "# Gather Songs Info\n",
    "song_dfs = []\n",
    "for i,s in enumerate(songs):\n",
    "    if i % 100 == 0: print(i)\n",
    "    temp = pd.read_csv(s)\n",
    "    pl_file_number = s[s.find('songs')+5:-4]\n",
    "    new_df = temp[['track_name', 'duration_ms', 'track_uri', 'artist_uri', 'album_uri']].copy()\n",
    "    song_dfs.append(new_df)\n",
    "    \n",
    "song_dfs= pd.concat(song_dfs)\n",
    "print(song_dfs.shape)\n",
    "song_dfs = song_dfs.drop_duplicates()\n",
    "print(song_dfs.shape)\n",
    "song_dfs.to_csv(data_path + 'tracks.csv', index = None)"
   ]
  },
  {
   "cell_type": "code",
   "execution_count": 38,
   "metadata": {},
   "outputs": [
    {
     "data": {
      "text/plain": [
       "93"
      ]
     },
     "execution_count": 38,
     "metadata": {},
     "output_type": "execute_result"
    }
   ],
   "source": [
    "del song_dfs\n",
    "gc.collect()"
   ]
  },
  {
   "cell_type": "code",
   "execution_count": 40,
   "metadata": {},
   "outputs": [
    {
     "name": "stdout",
     "output_type": "stream",
     "text": [
      "0\n",
      "100\n",
      "200\n",
      "300\n",
      "400\n",
      "500\n",
      "600\n",
      "700\n",
      "800\n",
      "900\n",
      "(66346428, 2)\n",
      "(295860, 2)\n"
     ]
    }
   ],
   "source": [
    "# Gather Artist Info\n",
    "artist_dfs = []\n",
    "for i,s in enumerate(songs):\n",
    "    if i % 100 == 0: print(i)\n",
    "    temp = pd.read_csv(s)\n",
    "    pl_file_number = s[s.find('songs')+5:-4]\n",
    "    new_df = temp[['artist_name', 'artist_uri']].copy()\n",
    "    artist_dfs.append(new_df)\n",
    "    \n",
    "artist_dfs= pd.concat(artist_dfs)\n",
    "print(artist_dfs.shape)\n",
    "artist_dfs = artist_dfs.drop_duplicates()\n",
    "print(artist_dfs.shape)\n",
    "artist_dfs.to_csv(data_path + 'artists.csv', index = None)"
   ]
  },
  {
   "cell_type": "code",
   "execution_count": 41,
   "metadata": {},
   "outputs": [
    {
     "data": {
      "text/plain": [
       "101"
      ]
     },
     "execution_count": 41,
     "metadata": {},
     "output_type": "execute_result"
    }
   ],
   "source": [
    "del artist_dfs\n",
    "gc.collect()"
   ]
  },
  {
   "cell_type": "code",
   "execution_count": 42,
   "metadata": {},
   "outputs": [
    {
     "name": "stdout",
     "output_type": "stream",
     "text": [
      "0\n",
      "100\n",
      "200\n",
      "300\n",
      "400\n",
      "500\n",
      "600\n",
      "700\n",
      "800\n",
      "900\n",
      "(66346428, 2)\n",
      "(734684, 2)\n"
     ]
    }
   ],
   "source": [
    "# Gather Album Info\n",
    "artist_dfs = []\n",
    "for i,s in enumerate(songs):\n",
    "    if i % 100 == 0: print(i)\n",
    "    temp = pd.read_csv(s)\n",
    "    pl_file_number = s[s.find('songs')+5:-4]\n",
    "    new_df = temp[['album_name', 'album_uri']].copy()\n",
    "    artist_dfs.append(new_df)\n",
    "    \n",
    "artist_dfs= pd.concat(artist_dfs)\n",
    "print(artist_dfs.shape)\n",
    "artist_dfs = artist_dfs.drop_duplicates()\n",
    "print(artist_dfs.shape)\n",
    "artist_dfs.to_csv(data_path + 'albums.csv', index = None)"
   ]
  },
  {
   "cell_type": "code",
   "execution_count": null,
   "metadata": {},
   "outputs": [],
   "source": []
  }
 ],
 "metadata": {
  "kernelspec": {
   "display_name": "Python 3",
   "language": "python",
   "name": "python3"
  },
  "language_info": {
   "codemirror_mode": {
    "name": "ipython",
    "version": 3
   },
   "file_extension": ".py",
   "mimetype": "text/x-python",
   "name": "python",
   "nbconvert_exporter": "python",
   "pygments_lexer": "ipython3",
   "version": "3.6.7"
  }
 },
 "nbformat": 4,
 "nbformat_minor": 2
}
