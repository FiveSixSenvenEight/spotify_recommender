{
 "cells": [
  {
   "cell_type": "code",
   "execution_count": 11,
   "metadata": {},
   "outputs": [],
   "source": [
    "import sys\n",
    "sys.path.append(\"../\")\n",
    "from utils import *"
   ]
  },
  {
   "cell_type": "code",
   "execution_count": 12,
   "metadata": {},
   "outputs": [
    {
     "data": {
      "text/plain": [
       "['tracks.csv', 'albums.csv', '.DS_Store', 'artists.csv', 'pl_tracks.csv']"
      ]
     },
     "execution_count": 12,
     "metadata": {},
     "output_type": "execute_result"
    }
   ],
   "source": [
    "os.listdir(data_path)"
   ]
  },
  {
   "cell_type": "code",
   "execution_count": 13,
   "metadata": {},
   "outputs": [
    {
     "name": "stdout",
     "output_type": "stream",
     "text": [
      "(66346428, 2)\n"
     ]
    },
    {
     "data": {
      "text/html": [
       "<div>\n",
       "<style scoped>\n",
       "    .dataframe tbody tr th:only-of-type {\n",
       "        vertical-align: middle;\n",
       "    }\n",
       "\n",
       "    .dataframe tbody tr th {\n",
       "        vertical-align: top;\n",
       "    }\n",
       "\n",
       "    .dataframe thead th {\n",
       "        text-align: right;\n",
       "    }\n",
       "</style>\n",
       "<table border=\"1\" class=\"dataframe\">\n",
       "  <thead>\n",
       "    <tr style=\"text-align: right;\">\n",
       "      <th></th>\n",
       "      <th>pid</th>\n",
       "      <th>track_uri</th>\n",
       "    </tr>\n",
       "  </thead>\n",
       "  <tbody>\n",
       "    <tr>\n",
       "      <th>0</th>\n",
       "      <td>0_0</td>\n",
       "      <td>spotify:track:0UaMYEvWZi0ZqiDOoHU3YI</td>\n",
       "    </tr>\n",
       "    <tr>\n",
       "      <th>1</th>\n",
       "      <td>0_0</td>\n",
       "      <td>spotify:track:6I9VzXrHxO9rA9A5euc8Ak</td>\n",
       "    </tr>\n",
       "    <tr>\n",
       "      <th>2</th>\n",
       "      <td>0_0</td>\n",
       "      <td>spotify:track:0WqIKmW4BTrj3eJFmnCKMv</td>\n",
       "    </tr>\n",
       "    <tr>\n",
       "      <th>3</th>\n",
       "      <td>0_0</td>\n",
       "      <td>spotify:track:1AWQoqb9bSvzTjaLralEkT</td>\n",
       "    </tr>\n",
       "    <tr>\n",
       "      <th>4</th>\n",
       "      <td>0_0</td>\n",
       "      <td>spotify:track:1lzr43nnXAijIGYnCT8M8H</td>\n",
       "    </tr>\n",
       "  </tbody>\n",
       "</table>\n",
       "</div>"
      ],
      "text/plain": [
       "   pid                             track_uri\n",
       "0  0_0  spotify:track:0UaMYEvWZi0ZqiDOoHU3YI\n",
       "1  0_0  spotify:track:6I9VzXrHxO9rA9A5euc8Ak\n",
       "2  0_0  spotify:track:0WqIKmW4BTrj3eJFmnCKMv\n",
       "3  0_0  spotify:track:1AWQoqb9bSvzTjaLralEkT\n",
       "4  0_0  spotify:track:1lzr43nnXAijIGYnCT8M8H"
      ]
     },
     "execution_count": 13,
     "metadata": {},
     "output_type": "execute_result"
    }
   ],
   "source": [
    "df = pd.read_csv(data_path+'pl_tracks.csv')\n",
    "print(df.shape)\n",
    "df.head()"
   ]
  },
  {
   "cell_type": "code",
   "execution_count": 15,
   "metadata": {},
   "outputs": [
    {
     "name": "stdout",
     "output_type": "stream",
     "text": [
      "Number of pid before filtering: 1000000\n",
      "Number of pid after filtering: 10000\n"
     ]
    }
   ],
   "source": [
    "# Filter the playlists by number of songs, >= 10, <= 100\n",
    "n_songs = df.groupby('pid').count().reset_index()\n",
    "n_songs.columns = ['pid', 'n_songs']\n",
    "print(\"Number of pid before filtering:\", len(n_songs.pid))\n",
    "n_songs = n_songs[(n_songs['n_songs'] >= 20) & (n_songs['n_songs'] <= 100)]\n",
    "pid = n_songs.pid.values.tolist()\n",
    "pid = np.random.choice(pid, size = int(1000000 * 0.01), replace = False)\n",
    "df = df[df['pid'].isin(pid)].reset_index(drop = True)\n",
    "print(\"Number of pid after filtering:\", len(pid))"
   ]
  },
  {
   "cell_type": "code",
   "execution_count": 22,
   "metadata": {},
   "outputs": [
    {
     "data": {
      "text/html": [
       "<div>\n",
       "<style scoped>\n",
       "    .dataframe tbody tr th:only-of-type {\n",
       "        vertical-align: middle;\n",
       "    }\n",
       "\n",
       "    .dataframe tbody tr th {\n",
       "        vertical-align: top;\n",
       "    }\n",
       "\n",
       "    .dataframe thead th {\n",
       "        text-align: right;\n",
       "    }\n",
       "</style>\n",
       "<table border=\"1\" class=\"dataframe\">\n",
       "  <thead>\n",
       "    <tr style=\"text-align: right;\">\n",
       "      <th></th>\n",
       "      <th>pid</th>\n",
       "      <th>track_uri</th>\n",
       "    </tr>\n",
       "  </thead>\n",
       "  <tbody>\n",
       "    <tr>\n",
       "      <th>126115</th>\n",
       "      <td>322_335</td>\n",
       "      <td>spotify:track:4fzyvSu73BhGvi96p2zwjL</td>\n",
       "    </tr>\n",
       "    <tr>\n",
       "      <th>126116</th>\n",
       "      <td>322_453</td>\n",
       "      <td>spotify:track:1DAl49mec3YC7a3Yc86Gz2</td>\n",
       "    </tr>\n",
       "  </tbody>\n",
       "</table>\n",
       "</div>"
      ],
      "text/plain": [
       "            pid                             track_uri\n",
       "126115  322_335  spotify:track:4fzyvSu73BhGvi96p2zwjL\n",
       "126116  322_453  spotify:track:1DAl49mec3YC7a3Yc86Gz2"
      ]
     },
     "execution_count": 22,
     "metadata": {},
     "output_type": "execute_result"
    }
   ],
   "source": [
    "# Create train and test sets of playlists\n",
    "test_size = 0.25\n",
    "test_ind = int(len(df) * test_size)\n",
    "curr_pid, prev_pid = df.loc[test_ind, 'pid'], df.loc[test_ind, 'pid']\n",
    "while True:\n",
    "    test_ind += 1\n",
    "    curr_pid = df.loc[test_ind, 'pid']\n",
    "    if curr_pid != prev_pid:\n",
    "        break\n",
    "    prev_pid = curr_pid\n",
    "df.iloc[test_ind-1:test_ind+1, :]"
   ]
  },
  {
   "cell_type": "code",
   "execution_count": 30,
   "metadata": {},
   "outputs": [
    {
     "name": "stdout",
     "output_type": "stream",
     "text": [
      "Test size in pid: 0.2471\n"
     ]
    }
   ],
   "source": [
    "df_train = df.iloc[test_ind:, :].reset_index(drop = True)\n",
    "df_test = df.iloc[:test_ind, :].reset_index(drop = True)\n",
    "print(\"Test size in pid:\", df_test['pid'].nunique() / len(pid))"
   ]
  },
  {
   "cell_type": "code",
   "execution_count": 38,
   "metadata": {},
   "outputs": [],
   "source": [
    "def df_to_dict(df, test_size = 5):\n",
    "    train, test = {}, {}\n",
    "    start_ind, end_ind = 0,0\n",
    "    cur_pid, prev_pid = df.loc[0,'pid'], df.loc[0,'pid']\n",
    "    for i in range(len(df)):\n",
    "        if i % int(len(df) // 10) == 0: print(i)\n",
    "        end_ind = i\n",
    "        cur_pid = df.loc[i,'pid']\n",
    "        if cur_pid != prev_pid:\n",
    "            temp = df.loc[start_ind:end_ind-1, :]\n",
    "            tracks = temp['track_uri'].values.tolist()\n",
    "            train[prev_pid] = tracks[test_size:]\n",
    "            test[prev_pid] = tracks[:test_size]\n",
    "            start_ind = end_ind\n",
    "        prev_pid = cur_pid\n",
    "    return train, test"
   ]
  },
  {
   "cell_type": "code",
   "execution_count": 61,
   "metadata": {},
   "outputs": [
    {
     "name": "stdout",
     "output_type": "stream",
     "text": [
      "0\n",
      "37815\n",
      "75630\n",
      "113445\n",
      "151260\n",
      "189075\n",
      "226890\n",
      "264705\n",
      "302520\n",
      "340335\n",
      "378150\n",
      "0\n",
      "12611\n",
      "25222\n",
      "37833\n",
      "50444\n",
      "63055\n",
      "75666\n",
      "88277\n",
      "100888\n",
      "113499\n",
      "126110\n"
     ]
    }
   ],
   "source": [
    "X_train, y_train = df_to_dict(df_train)\n",
    "X_test, y_test = df_to_dict(df_test)"
   ]
  },
  {
   "cell_type": "code",
   "execution_count": 63,
   "metadata": {},
   "outputs": [],
   "source": [
    "# Save to disk\n",
    "train_test_data = (X_train, y_train, X_test, y_test)\n",
    "\n",
    "with open(data_path + \"train_test_data.pkl\", \"wb\") as f:\n",
    "    pickle.dump(train_test_data, f)"
   ]
  },
  {
   "cell_type": "code",
   "execution_count": 66,
   "metadata": {},
   "outputs": [],
   "source": [
    "# Try loading\n",
    "with open(data_path + \"train_test_data.pkl\", \"rb\") as f:\n",
    "    X_train, y_train, X_test, y_test = pickle.load(f)"
   ]
  }
 ],
 "metadata": {
  "kernelspec": {
   "display_name": "Python 3",
   "language": "python",
   "name": "python3"
  },
  "language_info": {
   "codemirror_mode": {
    "name": "ipython",
    "version": 3
   },
   "file_extension": ".py",
   "mimetype": "text/x-python",
   "name": "python",
   "nbconvert_exporter": "python",
   "pygments_lexer": "ipython3",
   "version": "3.6.7"
  }
 },
 "nbformat": 4,
 "nbformat_minor": 2
}
