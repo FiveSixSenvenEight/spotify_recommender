{
 "cells": [
  {
   "cell_type": "code",
   "execution_count": 2,
   "metadata": {},
   "outputs": [],
   "source": [
    "import pandas as pd\n",
    "import os"
   ]
  },
  {
   "cell_type": "markdown",
   "metadata": {},
   "source": [
    "## Description"
   ]
  },
  {
   "cell_type": "markdown",
   "metadata": {},
   "source": [
    "- 943,347 matched tracks MSD <-> Last.fm\n",
    "- 505,216 tracks with at least one tag\n",
    "- 584,897 tracks with at least one similar track\n",
    "- 522,366 unique tags\n",
    "- 8,598,630 (track - tag) pairs\n",
    "- 56,506,688 (track - similar track) pairs"
   ]
  },
  {
   "cell_type": "markdown",
   "metadata": {},
   "source": [
    "**Columns**\n",
    "\n",
    "- **artist**\n",
    "- **similars**: a list of similar tracks\n",
    "- **tags**: a list of pairs that include tags of the track and their frequencies\n",
    "- **timestamp**\n",
    "- **title**\n",
    "- **track_id**"
   ]
  },
  {
   "cell_type": "markdown",
   "metadata": {},
   "source": [
    "## Data"
   ]
  },
  {
   "cell_type": "markdown",
   "metadata": {},
   "source": [
    "### Train Data"
   ]
  },
  {
   "cell_type": "code",
   "execution_count": 2,
   "metadata": {},
   "outputs": [],
   "source": [
    "# find all data paths and store them in a list\n",
    "listOfFiles = list()\n",
    "for (dirpath, dirnames, filenames) in os.walk(\".\"):\n",
    "    listOfFiles += [os.path.join(dirpath, file) for file in filenames]\n",
    "listOfFiles = [a for a in listOfFiles if '.json' in a]"
   ]
  },
  {
   "cell_type": "code",
   "execution_count": 3,
   "metadata": {},
   "outputs": [],
   "source": [
    "# define a function to read in json files\n",
    "def read_json(path):\n",
    "    return pd.read_json(path, orient = 'index').T"
   ]
  },
  {
   "cell_type": "code",
   "execution_count": 4,
   "metadata": {},
   "outputs": [],
   "source": [
    "# store all dataframs to a list dfs, this takes ~20 min\n",
    "dfs = []\n",
    "for path in listOfFiles:\n",
    "    dfs.append(read_json(path))"
   ]
  },
  {
   "cell_type": "code",
   "execution_count": 5,
   "metadata": {},
   "outputs": [
    {
     "data": {
      "text/plain": [
       "839122"
      ]
     },
     "execution_count": 5,
     "metadata": {},
     "output_type": "execute_result"
    }
   ],
   "source": [
    "# examine the length\n",
    "len(dfs)"
   ]
  },
  {
   "cell_type": "code",
   "execution_count": 6,
   "metadata": {},
   "outputs": [],
   "source": [
    "# concat all dataframes in dfs\n",
    "train_df = pd.concat(dfs)"
   ]
  },
  {
   "cell_type": "code",
   "execution_count": 7,
   "metadata": {},
   "outputs": [],
   "source": [
    "# save dataframe to a csv file\n",
    "train_df.to_csv('train2.csv', index = None)"
   ]
  },
  {
   "cell_type": "code",
   "execution_count": 8,
   "metadata": {},
   "outputs": [
    {
     "data": {
      "text/html": [
       "<div>\n",
       "<style scoped>\n",
       "    .dataframe tbody tr th:only-of-type {\n",
       "        vertical-align: middle;\n",
       "    }\n",
       "\n",
       "    .dataframe tbody tr th {\n",
       "        vertical-align: top;\n",
       "    }\n",
       "\n",
       "    .dataframe thead th {\n",
       "        text-align: right;\n",
       "    }\n",
       "</style>\n",
       "<table border=\"1\" class=\"dataframe\">\n",
       "  <thead>\n",
       "    <tr style=\"text-align: right;\">\n",
       "      <th></th>\n",
       "      <th>artist</th>\n",
       "      <th>similars</th>\n",
       "      <th>tags</th>\n",
       "      <th>timestamp</th>\n",
       "      <th>title</th>\n",
       "      <th>track_id</th>\n",
       "    </tr>\n",
       "  </thead>\n",
       "  <tbody>\n",
       "    <tr>\n",
       "      <td>0</td>\n",
       "      <td>Computer Truck</td>\n",
       "      <td>[]</td>\n",
       "      <td>[]</td>\n",
       "      <td>2011-08-08 18:30:39.698667</td>\n",
       "      <td>Gamegirl power</td>\n",
       "      <td>TRRRRIR128F933C8FE</td>\n",
       "    </tr>\n",
       "    <tr>\n",
       "      <td>1</td>\n",
       "      <td>Lack of Limits</td>\n",
       "      <td>[]</td>\n",
       "      <td>[]</td>\n",
       "      <td>2011-08-02 10:04:50.589618</td>\n",
       "      <td>30 Summers</td>\n",
       "      <td>TRRRRUH128F14ABD68</td>\n",
       "    </tr>\n",
       "    <tr>\n",
       "      <td>2</td>\n",
       "      <td>The Kinks</td>\n",
       "      <td>[['TRMLOXQ12903CF06BB', 1], ['TRCOWHF128F93216...</td>\n",
       "      <td>[['classic rock', '100'], ['60s', '76'], ['bri...</td>\n",
       "      <td>2011-08-02 05:18:14.083535</td>\n",
       "      <td>A Well Respected Man</td>\n",
       "      <td>TRRRRCH128F9342C72</td>\n",
       "    </tr>\n",
       "    <tr>\n",
       "      <td>3</td>\n",
       "      <td>Everclear</td>\n",
       "      <td>[]</td>\n",
       "      <td>[]</td>\n",
       "      <td>2011-08-15 10:19:29.458998</td>\n",
       "      <td>Misery Whip (Explicit)</td>\n",
       "      <td>TRRRRNT128E0782AF2</td>\n",
       "    </tr>\n",
       "    <tr>\n",
       "      <td>4</td>\n",
       "      <td>Paula Abdul</td>\n",
       "      <td>[['TRALFWK128F1458532', 1], ['TRRMRMZ128F14585...</td>\n",
       "      <td>[['pop', '100'], ['female vocalists', '66'], [...</td>\n",
       "      <td>2011-08-04 11:50:10.764331</td>\n",
       "      <td>Rock House</td>\n",
       "      <td>TRRRRMR128F145852B</td>\n",
       "    </tr>\n",
       "  </tbody>\n",
       "</table>\n",
       "</div>"
      ],
      "text/plain": [
       "           artist                                           similars  \\\n",
       "0  Computer Truck                                                 []   \n",
       "1  Lack of Limits                                                 []   \n",
       "2       The Kinks  [['TRMLOXQ12903CF06BB', 1], ['TRCOWHF128F93216...   \n",
       "3       Everclear                                                 []   \n",
       "4     Paula Abdul  [['TRALFWK128F1458532', 1], ['TRRMRMZ128F14585...   \n",
       "\n",
       "                                                tags  \\\n",
       "0                                                 []   \n",
       "1                                                 []   \n",
       "2  [['classic rock', '100'], ['60s', '76'], ['bri...   \n",
       "3                                                 []   \n",
       "4  [['pop', '100'], ['female vocalists', '66'], [...   \n",
       "\n",
       "                    timestamp                   title            track_id  \n",
       "0  2011-08-08 18:30:39.698667          Gamegirl power  TRRRRIR128F933C8FE  \n",
       "1  2011-08-02 10:04:50.589618              30 Summers  TRRRRUH128F14ABD68  \n",
       "2  2011-08-02 05:18:14.083535    A Well Respected Man  TRRRRCH128F9342C72  \n",
       "3  2011-08-15 10:19:29.458998  Misery Whip (Explicit)  TRRRRNT128E0782AF2  \n",
       "4  2011-08-04 11:50:10.764331              Rock House  TRRRRMR128F145852B  "
      ]
     },
     "execution_count": 8,
     "metadata": {},
     "output_type": "execute_result"
    }
   ],
   "source": [
    "pd.read_csv('train2.csv').head()"
   ]
  },
  {
   "cell_type": "markdown",
   "metadata": {},
   "source": [
    "### Test Data"
   ]
  },
  {
   "cell_type": "code",
   "execution_count": 16,
   "metadata": {},
   "outputs": [],
   "source": [
    "# find all data paths and store them in a list\n",
    "listOfFiles = list()\n",
    "for (dirpath, dirnames, filenames) in os.walk(\".\"):\n",
    "    listOfFiles += [os.path.join(dirpath, file) for file in filenames]\n",
    "listOfFiles = [a for a in listOfFiles if '.json' in a]"
   ]
  },
  {
   "cell_type": "code",
   "execution_count": 46,
   "metadata": {},
   "outputs": [],
   "source": [
    "# define a function to read in json files\n",
    "def read_json(path):\n",
    "    return pd.read_json(path, orient = 'index').T"
   ]
  },
  {
   "cell_type": "code",
   "execution_count": 47,
   "metadata": {},
   "outputs": [],
   "source": [
    "# store all dataframs to a list dfs, this takes ~20 min\n",
    "dfs = []\n",
    "for path in listOfFiles:\n",
    "    dfs.append(read_json(path))"
   ]
  },
  {
   "cell_type": "code",
   "execution_count": 49,
   "metadata": {},
   "outputs": [
    {
     "data": {
      "text/plain": [
       "104212"
      ]
     },
     "execution_count": 49,
     "metadata": {},
     "output_type": "execute_result"
    }
   ],
   "source": [
    "# examine the length\n",
    "len(dfs)"
   ]
  },
  {
   "cell_type": "code",
   "execution_count": 50,
   "metadata": {},
   "outputs": [],
   "source": [
    "# concat all dataframes in dfs\n",
    "test_df = pd.concat(dfs)"
   ]
  },
  {
   "cell_type": "code",
   "execution_count": 53,
   "metadata": {},
   "outputs": [],
   "source": [
    "# save dataframe to a csv file\n",
    "test_df.to_csv('test2.csv', index = None)"
   ]
  },
  {
   "cell_type": "code",
   "execution_count": 54,
   "metadata": {},
   "outputs": [
    {
     "data": {
      "text/html": [
       "<div>\n",
       "<style scoped>\n",
       "    .dataframe tbody tr th:only-of-type {\n",
       "        vertical-align: middle;\n",
       "    }\n",
       "\n",
       "    .dataframe tbody tr th {\n",
       "        vertical-align: top;\n",
       "    }\n",
       "\n",
       "    .dataframe thead th {\n",
       "        text-align: right;\n",
       "    }\n",
       "</style>\n",
       "<table border=\"1\" class=\"dataframe\">\n",
       "  <thead>\n",
       "    <tr style=\"text-align: right;\">\n",
       "      <th></th>\n",
       "      <th>artist</th>\n",
       "      <th>similars</th>\n",
       "      <th>tags</th>\n",
       "      <th>timestamp</th>\n",
       "      <th>title</th>\n",
       "      <th>track_id</th>\n",
       "    </tr>\n",
       "  </thead>\n",
       "  <tbody>\n",
       "    <tr>\n",
       "      <td>0</td>\n",
       "      <td>Jimmy Somerville</td>\n",
       "      <td>[]</td>\n",
       "      <td>[]</td>\n",
       "      <td>2011-08-11 21:15:43.358721</td>\n",
       "      <td>Dark Sky (Tony De Vit Mix)</td>\n",
       "      <td>TRRRRYP128F4284522</td>\n",
       "    </tr>\n",
       "    <tr>\n",
       "      <td>1</td>\n",
       "      <td>Topazz</td>\n",
       "      <td>[['TRNJAFY128F92F7E07', 0.0588966], ['TRYDEXT1...</td>\n",
       "      <td>[['house set', '100']]</td>\n",
       "      <td>2011-08-02 21:16:50.250928</td>\n",
       "      <td>New Millennium</td>\n",
       "      <td>TRRRRFU12903CBEF39</td>\n",
       "    </tr>\n",
       "    <tr>\n",
       "      <td>2</td>\n",
       "      <td>Arab on Radar</td>\n",
       "      <td>[['TRJLEPW128F422EC7A', 1], ['TRFSJKJ128F422EC...</td>\n",
       "      <td>[['Love', '100'], ['noise', '100'], ['going cr...</td>\n",
       "      <td>2011-08-04 04:39:24.591196</td>\n",
       "      <td>His Maintenance</td>\n",
       "      <td>TRRRRQS128F422EC78</td>\n",
       "    </tr>\n",
       "    <tr>\n",
       "      <td>3</td>\n",
       "      <td>New York Art Quartet</td>\n",
       "      <td>[['TRERNJG128F4234CBD', 1], ['TROQFAY128F422D3...</td>\n",
       "      <td>[['freejazz', '100']]</td>\n",
       "      <td>2011-08-15 12:26:46.200654</td>\n",
       "      <td>Rosmosis</td>\n",
       "      <td>TRRRRUC128F4234CBE</td>\n",
       "    </tr>\n",
       "    <tr>\n",
       "      <td>4</td>\n",
       "      <td>Georgie Fame</td>\n",
       "      <td>[['TRCRZGY128F92E31D8', 0.8367959999999991], [...</td>\n",
       "      <td>[['singer-songwriter', '100'], ['60s', '100']]</td>\n",
       "      <td>2011-08-11 19:07:32.189500</td>\n",
       "      <td>Vino Tequilla</td>\n",
       "      <td>TRRRREU128F92E31BA</td>\n",
       "    </tr>\n",
       "  </tbody>\n",
       "</table>\n",
       "</div>"
      ],
      "text/plain": [
       "                 artist                                           similars  \\\n",
       "0      Jimmy Somerville                                                 []   \n",
       "1                Topazz  [['TRNJAFY128F92F7E07', 0.0588966], ['TRYDEXT1...   \n",
       "2         Arab on Radar  [['TRJLEPW128F422EC7A', 1], ['TRFSJKJ128F422EC...   \n",
       "3  New York Art Quartet  [['TRERNJG128F4234CBD', 1], ['TROQFAY128F422D3...   \n",
       "4          Georgie Fame  [['TRCRZGY128F92E31D8', 0.8367959999999991], [...   \n",
       "\n",
       "                                                tags  \\\n",
       "0                                                 []   \n",
       "1                             [['house set', '100']]   \n",
       "2  [['Love', '100'], ['noise', '100'], ['going cr...   \n",
       "3                              [['freejazz', '100']]   \n",
       "4     [['singer-songwriter', '100'], ['60s', '100']]   \n",
       "\n",
       "                    timestamp                       title            track_id  \n",
       "0  2011-08-11 21:15:43.358721  Dark Sky (Tony De Vit Mix)  TRRRRYP128F4284522  \n",
       "1  2011-08-02 21:16:50.250928              New Millennium  TRRRRFU12903CBEF39  \n",
       "2  2011-08-04 04:39:24.591196             His Maintenance  TRRRRQS128F422EC78  \n",
       "3  2011-08-15 12:26:46.200654                    Rosmosis  TRRRRUC128F4234CBE  \n",
       "4  2011-08-11 19:07:32.189500               Vino Tequilla  TRRRREU128F92E31BA  "
      ]
     },
     "execution_count": 54,
     "metadata": {},
     "output_type": "execute_result"
    }
   ],
   "source": [
    "pd.read_csv('test2.csv').head()"
   ]
  },
  {
   "cell_type": "code",
   "execution_count": null,
   "metadata": {},
   "outputs": [],
   "source": []
  }
 ],
 "metadata": {
  "kernelspec": {
   "display_name": "Python 3",
   "language": "python",
   "name": "python3"
  },
  "language_info": {
   "codemirror_mode": {
    "name": "ipython",
    "version": 3
   },
   "file_extension": ".py",
   "mimetype": "text/x-python",
   "name": "python",
   "nbconvert_exporter": "python",
   "pygments_lexer": "ipython3",
   "version": "3.7.4"
  }
 },
 "nbformat": 4,
 "nbformat_minor": 2
}
