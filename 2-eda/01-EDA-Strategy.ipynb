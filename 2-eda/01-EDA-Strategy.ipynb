{
 "cells": [
  {
   "cell_type": "markdown",
   "metadata": {},
   "source": [
    "# EDA Strategy"
   ]
  },
  {
   "cell_type": "markdown",
   "metadata": {},
   "source": [
    "---"
   ]
  },
  {
   "cell_type": "markdown",
   "metadata": {},
   "source": [
    "## Graphs"
   ]
  },
  {
   "cell_type": "markdown",
   "metadata": {},
   "source": [
    "### Artist\n",
    "\n",
    "  1. Frequency of artist names in population (i.e. the million playlist dataset)\n",
    "\n",
    "  2. Number of artists per playlist\n",
    "  \n",
    "  3. Distribution of top 10 artists that have the most tracks\n",
    "  \n",
    "### Duration\n",
    "\n",
    "  1. Distribution of duration in population\n",
    "\n",
    "### Album\n",
    "\n",
    "  1. Frequency of album names in population (i.e. the million playlist dataset)\n",
    "\n",
    "  2. Distribution of top 10 albums that have the most tracks\n",
    "\n",
    "### Track\n",
    "\n",
    "  1. Number of tracks per playlist / Length of each playlist (frequency plot)\n",
    "  \n",
    "  2. Distribution of counts of top 100 popular tracks in population\n",
    "  \n",
    "\n",
    "### Extra\n",
    "\n",
    "  1. Distribution of audio features such as danceability using Spotify API \n"
   ]
  }
 ],
 "metadata": {
  "kernelspec": {
   "display_name": "Python 3",
   "language": "python",
   "name": "python3"
  },
  "language_info": {
   "codemirror_mode": {
    "name": "ipython",
    "version": 3
   },
   "file_extension": ".py",
   "mimetype": "text/x-python",
   "name": "python",
   "nbconvert_exporter": "python",
   "pygments_lexer": "ipython3",
   "version": "3.7.3"
  }
 },
 "nbformat": 4,
 "nbformat_minor": 2
}
