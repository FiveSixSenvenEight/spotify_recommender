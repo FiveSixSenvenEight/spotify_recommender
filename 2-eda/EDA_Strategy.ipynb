{
 "cells": [
  {
   "cell_type": "markdown",
   "metadata": {},
   "source": [
    "# EDA Strategy"
   ]
  },
  {
   "cell_type": "markdown",
   "metadata": {},
   "source": [
    "---"
   ]
  },
  {
   "cell_type": "markdown",
   "metadata": {},
   "source": [
    "## Graphs"
   ]
  },
  {
   "cell_type": "markdown",
   "metadata": {},
   "source": [
    "### Artist\n",
    "\n",
    "  1. Frequency of artist name in population (i.e. the million playlist dataset)\n",
    "   \n",
    "  2. Distribution of songs by that artist in each playlist (number of playlist vs number of songs by artist)\n",
    "\n",
    "  3. Number of artists per playlist\n",
    "  \n",
    "### Duration\n",
    "\n",
    "  1. Distribution of duration in population\n",
    "\n",
    "### Album\n",
    "\n",
    "  1. Frequency of the top n album in each playlist, where n can be 100\n",
    "\n",
    "\n",
    "### Track\n",
    "\n",
    "  1. Number of tracks per playlist / Length of each playlist (frequency plot)\n",
    "  2. Percent of unique tracks in each playlist (if a playlist shares many songs with other playlists, then it may be a good option to recommend popular songs.)\n",
    "  3. Distribution of popular tracks in each playlist\n",
    "  \n",
    "\n",
    "### Extra\n",
    "\n",
    "  1. Distribution of audio features such as danceability using Spotify API \n"
   ]
  }
 ],
 "metadata": {
  "kernelspec": {
   "display_name": "Python 3",
   "language": "python",
   "name": "python3"
  },
  "language_info": {
   "codemirror_mode": {
    "name": "ipython",
    "version": 3
   },
   "file_extension": ".py",
   "mimetype": "text/x-python",
   "name": "python",
   "nbconvert_exporter": "python",
   "pygments_lexer": "ipython3",
   "version": "3.7.3"
  }
 },
 "nbformat": 4,
 "nbformat_minor": 2
}
