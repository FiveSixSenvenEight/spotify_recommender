{
 "cells": [
  {
   "cell_type": "code",
   "execution_count": 1,
   "metadata": {},
   "outputs": [],
   "source": [
    "import os\n",
    "import pandas as pd\n",
    "from IPython.display import display\n",
    "import matplotlib.pyplot as plt\n",
    "import pandas as pd\n",
    "import time\n",
    "from IPython.display import display\n",
    "from typing import List, Dict, Optional\n",
    "import seaborn as sns\n",
    "from collections import Counter "
   ]
  },
  {
   "cell_type": "code",
   "execution_count": 2,
   "metadata": {},
   "outputs": [],
   "source": [
    "albums = pd.read_csv('albums.csv')"
   ]
  },
  {
   "cell_type": "code",
   "execution_count": 3,
   "metadata": {},
   "outputs": [
    {
     "data": {
      "text/html": [
       "<div>\n",
       "<style scoped>\n",
       "    .dataframe tbody tr th:only-of-type {\n",
       "        vertical-align: middle;\n",
       "    }\n",
       "\n",
       "    .dataframe tbody tr th {\n",
       "        vertical-align: top;\n",
       "    }\n",
       "\n",
       "    .dataframe thead th {\n",
       "        text-align: right;\n",
       "    }\n",
       "</style>\n",
       "<table border=\"1\" class=\"dataframe\">\n",
       "  <thead>\n",
       "    <tr style=\"text-align: right;\">\n",
       "      <th></th>\n",
       "      <th>album_name</th>\n",
       "      <th>album_uri</th>\n",
       "    </tr>\n",
       "  </thead>\n",
       "  <tbody>\n",
       "    <tr>\n",
       "      <th>0</th>\n",
       "      <td>The Cookbook</td>\n",
       "      <td>spotify:album:6vV5UrXcfyQD1wu4Qo2I9K</td>\n",
       "    </tr>\n",
       "    <tr>\n",
       "      <th>1</th>\n",
       "      <td>In The Zone</td>\n",
       "      <td>spotify:album:0z7pVBGOD7HCIB7S8eLkLI</td>\n",
       "    </tr>\n",
       "    <tr>\n",
       "      <th>2</th>\n",
       "      <td>Dangerously In Love (Alben für die Ewigkeit)</td>\n",
       "      <td>spotify:album:25hVFAxTlDvXbx2X2QkUkE</td>\n",
       "    </tr>\n",
       "    <tr>\n",
       "      <th>3</th>\n",
       "      <td>Justified</td>\n",
       "      <td>spotify:album:6QPkyl04rXwTGlGlcYaRoW</td>\n",
       "    </tr>\n",
       "    <tr>\n",
       "      <th>4</th>\n",
       "      <td>Hot Shot</td>\n",
       "      <td>spotify:album:6NmFmPX56pcLBOFMhIiKvF</td>\n",
       "    </tr>\n",
       "  </tbody>\n",
       "</table>\n",
       "</div>"
      ],
      "text/plain": [
       "                                     album_name  \\\n",
       "0                                  The Cookbook   \n",
       "1                                   In The Zone   \n",
       "2  Dangerously In Love (Alben für die Ewigkeit)   \n",
       "3                                     Justified   \n",
       "4                                      Hot Shot   \n",
       "\n",
       "                              album_uri  \n",
       "0  spotify:album:6vV5UrXcfyQD1wu4Qo2I9K  \n",
       "1  spotify:album:0z7pVBGOD7HCIB7S8eLkLI  \n",
       "2  spotify:album:25hVFAxTlDvXbx2X2QkUkE  \n",
       "3  spotify:album:6QPkyl04rXwTGlGlcYaRoW  \n",
       "4  spotify:album:6NmFmPX56pcLBOFMhIiKvF  "
      ]
     },
     "execution_count": 3,
     "metadata": {},
     "output_type": "execute_result"
    }
   ],
   "source": [
    "albums.head()"
   ]
  },
  {
   "cell_type": "code",
   "execution_count": 4,
   "metadata": {},
   "outputs": [],
   "source": [
    "artists = pd.read_csv('artists.csv')"
   ]
  },
  {
   "cell_type": "code",
   "execution_count": 5,
   "metadata": {},
   "outputs": [
    {
     "data": {
      "text/html": [
       "<div>\n",
       "<style scoped>\n",
       "    .dataframe tbody tr th:only-of-type {\n",
       "        vertical-align: middle;\n",
       "    }\n",
       "\n",
       "    .dataframe tbody tr th {\n",
       "        vertical-align: top;\n",
       "    }\n",
       "\n",
       "    .dataframe thead th {\n",
       "        text-align: right;\n",
       "    }\n",
       "</style>\n",
       "<table border=\"1\" class=\"dataframe\">\n",
       "  <thead>\n",
       "    <tr style=\"text-align: right;\">\n",
       "      <th></th>\n",
       "      <th>artist_name</th>\n",
       "      <th>artist_uri</th>\n",
       "    </tr>\n",
       "  </thead>\n",
       "  <tbody>\n",
       "    <tr>\n",
       "      <th>0</th>\n",
       "      <td>Missy Elliott</td>\n",
       "      <td>spotify:artist:2wIVse2owClT7go1WT98tk</td>\n",
       "    </tr>\n",
       "    <tr>\n",
       "      <th>1</th>\n",
       "      <td>Britney Spears</td>\n",
       "      <td>spotify:artist:26dSoYclwsYLMAKD3tpOr4</td>\n",
       "    </tr>\n",
       "    <tr>\n",
       "      <th>2</th>\n",
       "      <td>Beyoncé</td>\n",
       "      <td>spotify:artist:6vWDO969PvNqNYHIOW5v0m</td>\n",
       "    </tr>\n",
       "    <tr>\n",
       "      <th>3</th>\n",
       "      <td>Justin Timberlake</td>\n",
       "      <td>spotify:artist:31TPClRtHm23RisEBtV3X7</td>\n",
       "    </tr>\n",
       "    <tr>\n",
       "      <th>4</th>\n",
       "      <td>Shaggy</td>\n",
       "      <td>spotify:artist:5EvFsr3kj42KNv97ZEnqij</td>\n",
       "    </tr>\n",
       "  </tbody>\n",
       "</table>\n",
       "</div>"
      ],
      "text/plain": [
       "         artist_name                             artist_uri\n",
       "0      Missy Elliott  spotify:artist:2wIVse2owClT7go1WT98tk\n",
       "1     Britney Spears  spotify:artist:26dSoYclwsYLMAKD3tpOr4\n",
       "2            Beyoncé  spotify:artist:6vWDO969PvNqNYHIOW5v0m\n",
       "3  Justin Timberlake  spotify:artist:31TPClRtHm23RisEBtV3X7\n",
       "4             Shaggy  spotify:artist:5EvFsr3kj42KNv97ZEnqij"
      ]
     },
     "execution_count": 5,
     "metadata": {},
     "output_type": "execute_result"
    }
   ],
   "source": [
    "artists.head()"
   ]
  },
  {
   "cell_type": "code",
   "execution_count": 6,
   "metadata": {},
   "outputs": [],
   "source": [
    "pl_tracks = pd.read_csv('pl_tracks.csv')"
   ]
  },
  {
   "cell_type": "code",
   "execution_count": 7,
   "metadata": {},
   "outputs": [
    {
     "data": {
      "text/html": [
       "<div>\n",
       "<style scoped>\n",
       "    .dataframe tbody tr th:only-of-type {\n",
       "        vertical-align: middle;\n",
       "    }\n",
       "\n",
       "    .dataframe tbody tr th {\n",
       "        vertical-align: top;\n",
       "    }\n",
       "\n",
       "    .dataframe thead th {\n",
       "        text-align: right;\n",
       "    }\n",
       "</style>\n",
       "<table border=\"1\" class=\"dataframe\">\n",
       "  <thead>\n",
       "    <tr style=\"text-align: right;\">\n",
       "      <th></th>\n",
       "      <th>pid</th>\n",
       "      <th>track_uri</th>\n",
       "    </tr>\n",
       "  </thead>\n",
       "  <tbody>\n",
       "    <tr>\n",
       "      <th>0</th>\n",
       "      <td>0_0</td>\n",
       "      <td>spotify:track:0UaMYEvWZi0ZqiDOoHU3YI</td>\n",
       "    </tr>\n",
       "    <tr>\n",
       "      <th>1</th>\n",
       "      <td>0_0</td>\n",
       "      <td>spotify:track:6I9VzXrHxO9rA9A5euc8Ak</td>\n",
       "    </tr>\n",
       "    <tr>\n",
       "      <th>2</th>\n",
       "      <td>0_0</td>\n",
       "      <td>spotify:track:0WqIKmW4BTrj3eJFmnCKMv</td>\n",
       "    </tr>\n",
       "    <tr>\n",
       "      <th>3</th>\n",
       "      <td>0_0</td>\n",
       "      <td>spotify:track:1AWQoqb9bSvzTjaLralEkT</td>\n",
       "    </tr>\n",
       "    <tr>\n",
       "      <th>4</th>\n",
       "      <td>0_0</td>\n",
       "      <td>spotify:track:1lzr43nnXAijIGYnCT8M8H</td>\n",
       "    </tr>\n",
       "  </tbody>\n",
       "</table>\n",
       "</div>"
      ],
      "text/plain": [
       "   pid                             track_uri\n",
       "0  0_0  spotify:track:0UaMYEvWZi0ZqiDOoHU3YI\n",
       "1  0_0  spotify:track:6I9VzXrHxO9rA9A5euc8Ak\n",
       "2  0_0  spotify:track:0WqIKmW4BTrj3eJFmnCKMv\n",
       "3  0_0  spotify:track:1AWQoqb9bSvzTjaLralEkT\n",
       "4  0_0  spotify:track:1lzr43nnXAijIGYnCT8M8H"
      ]
     },
     "execution_count": 7,
     "metadata": {},
     "output_type": "execute_result"
    }
   ],
   "source": [
    "pl_tracks.head()"
   ]
  },
  {
   "cell_type": "code",
   "execution_count": 8,
   "metadata": {},
   "outputs": [],
   "source": [
    "tracks = pd.read_csv('tracks.csv')"
   ]
  },
  {
   "cell_type": "code",
   "execution_count": 9,
   "metadata": {},
   "outputs": [
    {
     "data": {
      "text/html": [
       "<div>\n",
       "<style scoped>\n",
       "    .dataframe tbody tr th:only-of-type {\n",
       "        vertical-align: middle;\n",
       "    }\n",
       "\n",
       "    .dataframe tbody tr th {\n",
       "        vertical-align: top;\n",
       "    }\n",
       "\n",
       "    .dataframe thead th {\n",
       "        text-align: right;\n",
       "    }\n",
       "</style>\n",
       "<table border=\"1\" class=\"dataframe\">\n",
       "  <thead>\n",
       "    <tr style=\"text-align: right;\">\n",
       "      <th></th>\n",
       "      <th>track_name</th>\n",
       "      <th>duration_ms</th>\n",
       "      <th>track_uri</th>\n",
       "      <th>artist_uri</th>\n",
       "      <th>album_uri</th>\n",
       "    </tr>\n",
       "  </thead>\n",
       "  <tbody>\n",
       "    <tr>\n",
       "      <th>0</th>\n",
       "      <td>Lose Control (feat. Ciara &amp; Fat Man Scoop)</td>\n",
       "      <td>226863</td>\n",
       "      <td>spotify:track:0UaMYEvWZi0ZqiDOoHU3YI</td>\n",
       "      <td>spotify:artist:2wIVse2owClT7go1WT98tk</td>\n",
       "      <td>spotify:album:6vV5UrXcfyQD1wu4Qo2I9K</td>\n",
       "    </tr>\n",
       "    <tr>\n",
       "      <th>1</th>\n",
       "      <td>Toxic</td>\n",
       "      <td>198800</td>\n",
       "      <td>spotify:track:6I9VzXrHxO9rA9A5euc8Ak</td>\n",
       "      <td>spotify:artist:26dSoYclwsYLMAKD3tpOr4</td>\n",
       "      <td>spotify:album:0z7pVBGOD7HCIB7S8eLkLI</td>\n",
       "    </tr>\n",
       "    <tr>\n",
       "      <th>2</th>\n",
       "      <td>Crazy In Love</td>\n",
       "      <td>235933</td>\n",
       "      <td>spotify:track:0WqIKmW4BTrj3eJFmnCKMv</td>\n",
       "      <td>spotify:artist:6vWDO969PvNqNYHIOW5v0m</td>\n",
       "      <td>spotify:album:25hVFAxTlDvXbx2X2QkUkE</td>\n",
       "    </tr>\n",
       "    <tr>\n",
       "      <th>3</th>\n",
       "      <td>Rock Your Body</td>\n",
       "      <td>267266</td>\n",
       "      <td>spotify:track:1AWQoqb9bSvzTjaLralEkT</td>\n",
       "      <td>spotify:artist:31TPClRtHm23RisEBtV3X7</td>\n",
       "      <td>spotify:album:6QPkyl04rXwTGlGlcYaRoW</td>\n",
       "    </tr>\n",
       "    <tr>\n",
       "      <th>4</th>\n",
       "      <td>It Wasn't Me</td>\n",
       "      <td>227600</td>\n",
       "      <td>spotify:track:1lzr43nnXAijIGYnCT8M8H</td>\n",
       "      <td>spotify:artist:5EvFsr3kj42KNv97ZEnqij</td>\n",
       "      <td>spotify:album:6NmFmPX56pcLBOFMhIiKvF</td>\n",
       "    </tr>\n",
       "  </tbody>\n",
       "</table>\n",
       "</div>"
      ],
      "text/plain": [
       "                                   track_name  duration_ms  \\\n",
       "0  Lose Control (feat. Ciara & Fat Man Scoop)       226863   \n",
       "1                                       Toxic       198800   \n",
       "2                               Crazy In Love       235933   \n",
       "3                              Rock Your Body       267266   \n",
       "4                                It Wasn't Me       227600   \n",
       "\n",
       "                              track_uri  \\\n",
       "0  spotify:track:0UaMYEvWZi0ZqiDOoHU3YI   \n",
       "1  spotify:track:6I9VzXrHxO9rA9A5euc8Ak   \n",
       "2  spotify:track:0WqIKmW4BTrj3eJFmnCKMv   \n",
       "3  spotify:track:1AWQoqb9bSvzTjaLralEkT   \n",
       "4  spotify:track:1lzr43nnXAijIGYnCT8M8H   \n",
       "\n",
       "                              artist_uri                             album_uri  \n",
       "0  spotify:artist:2wIVse2owClT7go1WT98tk  spotify:album:6vV5UrXcfyQD1wu4Qo2I9K  \n",
       "1  spotify:artist:26dSoYclwsYLMAKD3tpOr4  spotify:album:0z7pVBGOD7HCIB7S8eLkLI  \n",
       "2  spotify:artist:6vWDO969PvNqNYHIOW5v0m  spotify:album:25hVFAxTlDvXbx2X2QkUkE  \n",
       "3  spotify:artist:31TPClRtHm23RisEBtV3X7  spotify:album:6QPkyl04rXwTGlGlcYaRoW  \n",
       "4  spotify:artist:5EvFsr3kj42KNv97ZEnqij  spotify:album:6NmFmPX56pcLBOFMhIiKvF  "
      ]
     },
     "execution_count": 9,
     "metadata": {},
     "output_type": "execute_result"
    }
   ],
   "source": [
    "tracks.head()"
   ]
  },
  {
   "cell_type": "markdown",
   "metadata": {},
   "source": [
    "## Number of artist per playlist"
   ]
  },
  {
   "cell_type": "code",
   "execution_count": 10,
   "metadata": {},
   "outputs": [],
   "source": [
    "df_artitst_playlist = pd.merge(pl_tracks,tracks[['track_uri','artist_uri']],on='track_uri', how='left')"
   ]
  },
  {
   "cell_type": "code",
   "execution_count": 11,
   "metadata": {},
   "outputs": [],
   "source": [
    "df_playlist_unique = df_artitst_playlist.groupby(['pid']).agg({'artist_uri':'nunique'})"
   ]
  },
  {
   "cell_type": "code",
   "execution_count": 12,
   "metadata": {},
   "outputs": [],
   "source": [
    "df_playlist_unique = df_playlist_unique.reset_index()"
   ]
  },
  {
   "cell_type": "code",
   "execution_count": 52,
   "metadata": {},
   "outputs": [
    {
     "name": "stdout",
     "output_type": "stream",
     "text": [
      "38.088211\n"
     ]
    }
   ],
   "source": [
    "mean_artist = df_playlist_unique.artist_uri.mean()\n",
    "print(mean_artist)"
   ]
  },
  {
   "cell_type": "code",
   "execution_count": 14,
   "metadata": {},
   "outputs": [
    {
     "data": {
      "text/plain": [
       "<matplotlib.legend.Legend at 0x1a1a4a5518>"
      ]
     },
     "execution_count": 14,
     "metadata": {},
     "output_type": "execute_result"
    },
    {
     "data": {
      "image/png": "[encoded data removed]",
      "text/plain": [
       "<Figure size 720x432 with 1 Axes>"
      ]
     },
     "metadata": {
      "needs_background": "light"
     },
     "output_type": "display_data"
    }
   ],
   "source": [
    "# Make the plot\n",
    "plt.figure(figsize = (10,6))\n",
    "plt.hist(x = df_playlist_unique.artist_uri,label = 'artist frequency')\n",
    "plt.axvline(x= mean_artist ,label = 'average number of artist in a playlist',color = 'red')\n",
    "plt.xlabel('Number of artist per playlist',fontsize =15)\n",
    "plt.ylabel('Frequency',fontsize =15)\n",
    "plt.title('Histagram of number of artist per playlist',fontsize = 15)\n",
    "plt.legend()"
   ]
  },
  {
   "cell_type": "markdown",
   "metadata": {},
   "source": [
    "Interpretation: According to the plot, most playlists contain less than 50 different artists. The average number of artists contained per playlist is about 38 artists. "
   ]
  },
  {
   "cell_type": "markdown",
   "metadata": {},
   "source": [
    "## Number of tracks per playlist / Length of each playlist (frequency plot)"
   ]
  },
  {
   "cell_type": "code",
   "execution_count": null,
   "metadata": {},
   "outputs": [],
   "source": [
    "# Calculate number of playlist:\n",
    "df_track_playlist = pl_tracks.groupby(by = 'pid').size().reset_index(name='counts')"
   ]
  },
  {
   "cell_type": "code",
   "execution_count": 60,
   "metadata": {},
   "outputs": [
    {
     "name": "stdout",
     "output_type": "stream",
     "text": [
      "66.346428\n"
     ]
    }
   ],
   "source": [
    "mean_track = df_track_playlist.counts.mean()\n",
    "print(mean_track)"
   ]
  },
  {
   "cell_type": "markdown",
   "metadata": {},
   "source": [
    "# Made the plot"
   ]
  },
  {
   "cell_type": "code",
   "execution_count": 58,
   "metadata": {},
   "outputs": [
    {
     "data": {
      "text/plain": [
       "<matplotlib.legend.Legend at 0x1a1d08cf28>"
      ]
     },
     "execution_count": 58,
     "metadata": {},
     "output_type": "execute_result"
    },
    {
     "data": {
      "image/png": "[encoded data removed]",
      "text/plain": [
       "<Figure size 720x432 with 1 Axes>"
      ]
     },
     "metadata": {
      "needs_background": "light"
     },
     "output_type": "display_data"
    }
   ],
   "source": [
    "plt.figure(figsize = (10,6))\n",
    "plt.hist(x = df_track_playlist.counts,label = 'track frequency')\n",
    "plt.axvline(x= mean_track,label = 'average number of tracks in a playlist',color = 'red')\n",
    "plt.xlabel('Number of tracks per playlist',fontsize =15)\n",
    "plt.ylabel('Frequency',fontsize =15)\n",
    "plt.title('Histagram of number of tracks per playlist',fontsize = 15)\n",
    "plt.legend()"
   ]
  },
  {
   "cell_type": "markdown",
   "metadata": {},
   "source": [
    "Interpretation: According to the plot, most playlists contain less than 100 different tracks. The average number of tracks contained per playlist is about 66 tracks. "
   ]
  },
  {
   "cell_type": "markdown",
   "metadata": {},
   "source": [
    "## Distribution of popular tracks "
   ]
  },
  {
   "cell_type": "code",
   "execution_count": 17,
   "metadata": {},
   "outputs": [],
   "source": [
    "# Find the most popular tracks\n",
    "df_track_order = pl_tracks.groupby(by = 'track_uri').size().reset_index(name='counts').sort_values(by='counts', ascending=False)"
   ]
  },
  {
   "cell_type": "code",
   "execution_count": 18,
   "metadata": {},
   "outputs": [
    {
     "data": {
      "text/html": [
       "<div>\n",
       "<style scoped>\n",
       "    .dataframe tbody tr th:only-of-type {\n",
       "        vertical-align: middle;\n",
       "    }\n",
       "\n",
       "    .dataframe tbody tr th {\n",
       "        vertical-align: top;\n",
       "    }\n",
       "\n",
       "    .dataframe thead th {\n",
       "        text-align: right;\n",
       "    }\n",
       "</style>\n",
       "<table border=\"1\" class=\"dataframe\">\n",
       "  <thead>\n",
       "    <tr style=\"text-align: right;\">\n",
       "      <th></th>\n",
       "      <th>track_uri</th>\n",
       "      <th>counts</th>\n",
       "    </tr>\n",
       "  </thead>\n",
       "  <tbody>\n",
       "    <tr>\n",
       "      <th>2128659</th>\n",
       "      <td>spotify:track:7KXjTSCq5nL1LoYtL7XAwS</td>\n",
       "      <td>46574</td>\n",
       "    </tr>\n",
       "    <tr>\n",
       "      <th>573135</th>\n",
       "      <td>spotify:track:1xznGGDReH1oQq0xzbwXa3</td>\n",
       "      <td>43447</td>\n",
       "    </tr>\n",
       "    <tr>\n",
       "      <th>2257360</th>\n",
       "      <td>spotify:track:7yyRTcZmCiyzzJlNzGC9Ol</td>\n",
       "      <td>41309</td>\n",
       "    </tr>\n",
       "    <tr>\n",
       "      <th>2085721</th>\n",
       "      <td>spotify:track:7BKLCZ1jbUBVqRi2FVlTVw</td>\n",
       "      <td>41079</td>\n",
       "    </tr>\n",
       "    <tr>\n",
       "      <th>1041889</th>\n",
       "      <td>spotify:track:3a1lNhkSLSkpJE4MSHpDu9</td>\n",
       "      <td>39987</td>\n",
       "    </tr>\n",
       "  </tbody>\n",
       "</table>\n",
       "</div>"
      ],
      "text/plain": [
       "                                    track_uri  counts\n",
       "2128659  spotify:track:7KXjTSCq5nL1LoYtL7XAwS   46574\n",
       "573135   spotify:track:1xznGGDReH1oQq0xzbwXa3   43447\n",
       "2257360  spotify:track:7yyRTcZmCiyzzJlNzGC9Ol   41309\n",
       "2085721  spotify:track:7BKLCZ1jbUBVqRi2FVlTVw   41079\n",
       "1041889  spotify:track:3a1lNhkSLSkpJE4MSHpDu9   39987"
      ]
     },
     "execution_count": 18,
     "metadata": {},
     "output_type": "execute_result"
    }
   ],
   "source": [
    "df_track_order.head()"
   ]
  },
  {
   "cell_type": "code",
   "execution_count": 19,
   "metadata": {},
   "outputs": [],
   "source": [
    "# I will choose the top 100 most popular songs\n",
    "df_100_track = df_track_order.iloc[0:99,:]"
   ]
  },
  {
   "cell_type": "code",
   "execution_count": 20,
   "metadata": {},
   "outputs": [
    {
     "data": {
      "text/html": [
       "<div>\n",
       "<style scoped>\n",
       "    .dataframe tbody tr th:only-of-type {\n",
       "        vertical-align: middle;\n",
       "    }\n",
       "\n",
       "    .dataframe tbody tr th {\n",
       "        vertical-align: top;\n",
       "    }\n",
       "\n",
       "    .dataframe thead th {\n",
       "        text-align: right;\n",
       "    }\n",
       "</style>\n",
       "<table border=\"1\" class=\"dataframe\">\n",
       "  <thead>\n",
       "    <tr style=\"text-align: right;\">\n",
       "      <th></th>\n",
       "      <th>track_uri</th>\n",
       "      <th>counts</th>\n",
       "    </tr>\n",
       "  </thead>\n",
       "  <tbody>\n",
       "    <tr>\n",
       "      <th>2128659</th>\n",
       "      <td>spotify:track:7KXjTSCq5nL1LoYtL7XAwS</td>\n",
       "      <td>46574</td>\n",
       "    </tr>\n",
       "    <tr>\n",
       "      <th>573135</th>\n",
       "      <td>spotify:track:1xznGGDReH1oQq0xzbwXa3</td>\n",
       "      <td>43447</td>\n",
       "    </tr>\n",
       "    <tr>\n",
       "      <th>2257360</th>\n",
       "      <td>spotify:track:7yyRTcZmCiyzzJlNzGC9Ol</td>\n",
       "      <td>41309</td>\n",
       "    </tr>\n",
       "    <tr>\n",
       "      <th>2085721</th>\n",
       "      <td>spotify:track:7BKLCZ1jbUBVqRi2FVlTVw</td>\n",
       "      <td>41079</td>\n",
       "    </tr>\n",
       "    <tr>\n",
       "      <th>1041889</th>\n",
       "      <td>spotify:track:3a1lNhkSLSkpJE4MSHpDu9</td>\n",
       "      <td>39987</td>\n",
       "    </tr>\n",
       "  </tbody>\n",
       "</table>\n",
       "</div>"
      ],
      "text/plain": [
       "                                    track_uri  counts\n",
       "2128659  spotify:track:7KXjTSCq5nL1LoYtL7XAwS   46574\n",
       "573135   spotify:track:1xznGGDReH1oQq0xzbwXa3   43447\n",
       "2257360  spotify:track:7yyRTcZmCiyzzJlNzGC9Ol   41309\n",
       "2085721  spotify:track:7BKLCZ1jbUBVqRi2FVlTVw   41079\n",
       "1041889  spotify:track:3a1lNhkSLSkpJE4MSHpDu9   39987"
      ]
     },
     "execution_count": 20,
     "metadata": {},
     "output_type": "execute_result"
    }
   ],
   "source": [
    "df_100_track.head()"
   ]
  },
  {
   "cell_type": "code",
   "execution_count": 22,
   "metadata": {},
   "outputs": [],
   "source": [
    "# Find the corresponding track name\n",
    "df_100_trackname = tracks.loc[tracks.track_uri.isin(df_100_track.track_uri)]\n",
    "df_top100 = df_100_track.merge(df_100_trackname,on = 'track_uri')"
   ]
  },
  {
   "cell_type": "code",
   "execution_count": 23,
   "metadata": {},
   "outputs": [
    {
     "data": {
      "text/html": [
       "<div>\n",
       "<style scoped>\n",
       "    .dataframe tbody tr th:only-of-type {\n",
       "        vertical-align: middle;\n",
       "    }\n",
       "\n",
       "    .dataframe tbody tr th {\n",
       "        vertical-align: top;\n",
       "    }\n",
       "\n",
       "    .dataframe thead th {\n",
       "        text-align: right;\n",
       "    }\n",
       "</style>\n",
       "<table border=\"1\" class=\"dataframe\">\n",
       "  <thead>\n",
       "    <tr style=\"text-align: right;\">\n",
       "      <th></th>\n",
       "      <th>track_uri</th>\n",
       "      <th>counts</th>\n",
       "      <th>track_name</th>\n",
       "      <th>duration_ms</th>\n",
       "      <th>artist_uri</th>\n",
       "      <th>album_uri</th>\n",
       "    </tr>\n",
       "  </thead>\n",
       "  <tbody>\n",
       "    <tr>\n",
       "      <th>0</th>\n",
       "      <td>spotify:track:7KXjTSCq5nL1LoYtL7XAwS</td>\n",
       "      <td>46574</td>\n",
       "      <td>HUMBLE.</td>\n",
       "      <td>177000</td>\n",
       "      <td>spotify:artist:2YZyLoL8N0Wb9xBt1NhZWg</td>\n",
       "      <td>spotify:album:4eLPsYPBmXABThSJ821sqY</td>\n",
       "    </tr>\n",
       "    <tr>\n",
       "      <th>1</th>\n",
       "      <td>spotify:track:1xznGGDReH1oQq0xzbwXa3</td>\n",
       "      <td>43447</td>\n",
       "      <td>One Dance</td>\n",
       "      <td>173986</td>\n",
       "      <td>spotify:artist:3TVXtAsR1Inumwj472S9r4</td>\n",
       "      <td>spotify:album:3hARKC8cinq3mZLLAEaBh9</td>\n",
       "    </tr>\n",
       "    <tr>\n",
       "      <th>2</th>\n",
       "      <td>spotify:track:7yyRTcZmCiyzzJlNzGC9Ol</td>\n",
       "      <td>41309</td>\n",
       "      <td>Broccoli (feat. Lil Yachty)</td>\n",
       "      <td>225205</td>\n",
       "      <td>spotify:artist:5M0lbkGluOPXLeFjApw8r8</td>\n",
       "      <td>spotify:album:0NrZHZ0y5kTO8EHliuUUca</td>\n",
       "    </tr>\n",
       "    <tr>\n",
       "      <th>3</th>\n",
       "      <td>spotify:track:7BKLCZ1jbUBVqRi2FVlTVw</td>\n",
       "      <td>41079</td>\n",
       "      <td>Closer</td>\n",
       "      <td>244960</td>\n",
       "      <td>spotify:artist:69GGBxA162lTqCwzJG5jLp</td>\n",
       "      <td>spotify:album:0rSLgV8p5FzfnqlEk4GzxE</td>\n",
       "    </tr>\n",
       "    <tr>\n",
       "      <th>4</th>\n",
       "      <td>spotify:track:3a1lNhkSLSkpJE4MSHpDu9</td>\n",
       "      <td>39987</td>\n",
       "      <td>Congratulations</td>\n",
       "      <td>220293</td>\n",
       "      <td>spotify:artist:246dkjvS1zLTtiykXe5h60</td>\n",
       "      <td>spotify:album:5s0rmjP8XOPhP6HhqOhuyC</td>\n",
       "    </tr>\n",
       "  </tbody>\n",
       "</table>\n",
       "</div>"
      ],
      "text/plain": [
       "                              track_uri  counts                   track_name  \\\n",
       "0  spotify:track:7KXjTSCq5nL1LoYtL7XAwS   46574                      HUMBLE.   \n",
       "1  spotify:track:1xznGGDReH1oQq0xzbwXa3   43447                    One Dance   \n",
       "2  spotify:track:7yyRTcZmCiyzzJlNzGC9Ol   41309  Broccoli (feat. Lil Yachty)   \n",
       "3  spotify:track:7BKLCZ1jbUBVqRi2FVlTVw   41079                       Closer   \n",
       "4  spotify:track:3a1lNhkSLSkpJE4MSHpDu9   39987              Congratulations   \n",
       "\n",
       "   duration_ms                             artist_uri  \\\n",
       "0       177000  spotify:artist:2YZyLoL8N0Wb9xBt1NhZWg   \n",
       "1       173986  spotify:artist:3TVXtAsR1Inumwj472S9r4   \n",
       "2       225205  spotify:artist:5M0lbkGluOPXLeFjApw8r8   \n",
       "3       244960  spotify:artist:69GGBxA162lTqCwzJG5jLp   \n",
       "4       220293  spotify:artist:246dkjvS1zLTtiykXe5h60   \n",
       "\n",
       "                              album_uri  \n",
       "0  spotify:album:4eLPsYPBmXABThSJ821sqY  \n",
       "1  spotify:album:3hARKC8cinq3mZLLAEaBh9  \n",
       "2  spotify:album:0NrZHZ0y5kTO8EHliuUUca  \n",
       "3  spotify:album:0rSLgV8p5FzfnqlEk4GzxE  \n",
       "4  spotify:album:5s0rmjP8XOPhP6HhqOhuyC  "
      ]
     },
     "execution_count": 23,
     "metadata": {},
     "output_type": "execute_result"
    }
   ],
   "source": [
    "df_top100.head()"
   ]
  },
  {
   "cell_type": "markdown",
   "metadata": {},
   "source": [
    "# Plot the top 30 songs"
   ]
  },
  {
   "cell_type": "code",
   "execution_count": 64,
   "metadata": {},
   "outputs": [
    {
     "data": {
      "text/plain": [
       "Text(0.5, 0, 'Frequency')"
      ]
     },
     "execution_count": 64,
     "metadata": {},
     "output_type": "execute_result"
    },
    {
     "data": {
      "image/png": "[encoded data removed]",
      "text/plain": [
       "<Figure size 504x720 with 1 Axes>"
      ]
     },
     "metadata": {
      "needs_background": "light"
     },
     "output_type": "display_data"
    }
   ],
   "source": [
    "plt.figure(figsize = (7,10))\n",
    "sns.barplot(x = 'counts',y = 'track_name', data = df_top100[:30])\n",
    "plt.title('Top 30 most popular tracks',fontsize = 20)\n",
    "plt.xlabel('Frequency' )"
   ]
  },
  {
   "cell_type": "markdown",
   "metadata": {},
   "source": [
    "Interpretation: The 10 tracks that are the most popular in the million playlist dataset are HUMBLE., One Dance, Broccoli (feat. Lil Yachty), Closer, Congratulations, Caroline, iSpy (feat. Lil Yachty), Bad and Boujee (feat. Lil Uzi Vert), XO TOUR Llif3, Location. Top songs are mostly rap and/or trap music, indicating this might be the general taste of music that year."
   ]
  },
  {
   "cell_type": "code",
   "execution_count": 63,
   "metadata": {},
   "outputs": [],
   "source": [
    "# Calculate percentage of each playlist that contains the top 100 tracks\n",
    "df_contain= pl_tracks.loc[pl_tracks.track_uri.isin(df_100_track.track_uri)]"
   ]
  },
  {
   "cell_type": "code",
   "execution_count": 26,
   "metadata": {},
   "outputs": [],
   "source": [
    "df_contain_pid = df_contain.groupby(by = 'pid').size().reset_index(name='counts').sort_values(by='counts', ascending=False)"
   ]
  },
  {
   "cell_type": "code",
   "execution_count": 27,
   "metadata": {},
   "outputs": [
    {
     "data": {
      "text/plain": [
       "<matplotlib.legend.Legend at 0x1a1c2ef0b8>"
      ]
     },
     "execution_count": 27,
     "metadata": {},
     "output_type": "execute_result"
    },
    {
     "data": {
      "image/png": "[encoded data removed]",
      "text/plain": [
       "<Figure size 720x432 with 1 Axes>"
      ]
     },
     "metadata": {
      "needs_background": "light"
     },
     "output_type": "display_data"
    }
   ],
   "source": [
    "# General Idea of frequency of those top 100 tracks in the playlist\n",
    "plt.figure(figsize = (10,6))\n",
    "plt.hist(x = df_contain_pid.loc[df_contain_pid.counts> 0].counts,label = 'Top 100 track frequency')\n",
    "plt.xlabel('Number of top 100 tracks per playlist',fontsize =15)\n",
    "plt.ylabel('Frequency',fontsize =15)\n",
    "plt.title('Histagram of number of top 100 tracks per playlist',fontsize = 15)\n",
    "plt.legend()"
   ]
  },
  {
   "cell_type": "markdown",
   "metadata": {},
   "source": [
    "Interpretation: From the above graph, about half of the playlists contain at least one of the top 100 popular songs. It is also noticeable that some of playlists contain over 40 songs from the top 100 popular songs. It might not be a bad idea to recommend the songs from the top tracks as a baseline model."
   ]
  },
  {
   "cell_type": "markdown",
   "metadata": {},
   "source": [
    "## Most common words for top 1000 tracks"
   ]
  },
  {
   "cell_type": "code",
   "execution_count": 28,
   "metadata": {},
   "outputs": [],
   "source": [
    "df_1000_track = df_track_order.iloc[0:999,:]\n",
    "df_1000_trackname = tracks.loc[tracks.track_uri.isin(df_1000_track.track_uri)]\n",
    "df_top1000 = df_1000_track.merge(df_1000_trackname,on = 'track_uri')"
   ]
  },
  {
   "cell_type": "code",
   "execution_count": 29,
   "metadata": {},
   "outputs": [],
   "source": [
    "top1000_list = df_top1000.track_name.tolist()"
   ]
  },
  {
   "cell_type": "code",
   "execution_count": 30,
   "metadata": {},
   "outputs": [],
   "source": [
    "split_words = [words for segments in top1000_list for words in segments.split()]\n",
    "Most = Counter(split_words) \n",
    "Top50 = Most.most_common(50)\n",
    "Top50df = pd.DataFrame(Top50,columns = ['Word','Counts'])"
   ]
  },
  {
   "cell_type": "code",
   "execution_count": 31,
   "metadata": {},
   "outputs": [
    {
     "data": {
      "text/html": [
       "<div>\n",
       "<style scoped>\n",
       "    .dataframe tbody tr th:only-of-type {\n",
       "        vertical-align: middle;\n",
       "    }\n",
       "\n",
       "    .dataframe tbody tr th {\n",
       "        vertical-align: top;\n",
       "    }\n",
       "\n",
       "    .dataframe thead th {\n",
       "        text-align: right;\n",
       "    }\n",
       "</style>\n",
       "<table border=\"1\" class=\"dataframe\">\n",
       "  <thead>\n",
       "    <tr style=\"text-align: right;\">\n",
       "      <th></th>\n",
       "      <th>Word</th>\n",
       "      <th>Counts</th>\n",
       "    </tr>\n",
       "  </thead>\n",
       "  <tbody>\n",
       "    <tr>\n",
       "      <th>0</th>\n",
       "      <td>-</td>\n",
       "      <td>81</td>\n",
       "    </tr>\n",
       "    <tr>\n",
       "      <th>1</th>\n",
       "      <td>(feat.</td>\n",
       "      <td>67</td>\n",
       "    </tr>\n",
       "    <tr>\n",
       "      <th>2</th>\n",
       "      <td>You</td>\n",
       "      <td>64</td>\n",
       "    </tr>\n",
       "    <tr>\n",
       "      <th>3</th>\n",
       "      <td>The</td>\n",
       "      <td>61</td>\n",
       "    </tr>\n",
       "    <tr>\n",
       "      <th>4</th>\n",
       "      <td>Me</td>\n",
       "      <td>50</td>\n",
       "    </tr>\n",
       "  </tbody>\n",
       "</table>\n",
       "</div>"
      ],
      "text/plain": [
       "     Word  Counts\n",
       "0       -      81\n",
       "1  (feat.      67\n",
       "2     You      64\n",
       "3     The      61\n",
       "4      Me      50"
      ]
     },
     "execution_count": 31,
     "metadata": {},
     "output_type": "execute_result"
    }
   ],
   "source": [
    "Top50df.head()"
   ]
  },
  {
   "cell_type": "code",
   "execution_count": 67,
   "metadata": {},
   "outputs": [
    {
     "data": {
      "text/plain": [
       "Text(0.5, 0, 'Frequency')"
      ]
     },
     "execution_count": 67,
     "metadata": {},
     "output_type": "execute_result"
    },
    {
     "data": {
      "image/png": "[encoded data removed]",
      "text/plain": [
       "<Figure size 504x720 with 1 Axes>"
      ]
     },
     "metadata": {
      "needs_background": "light"
     },
     "output_type": "display_data"
    }
   ],
   "source": [
    "plt.figure(figsize = (7,10))\n",
    "sns.barplot(x = 'Counts',y = 'Word', data = Top50df)\n",
    "plt.title('Top 50 most common words in top 1000 most popular tracks',fontsize = 20)\n",
    "plt.xlabel('Frequency' )"
   ]
  },
  {
   "cell_type": "markdown",
   "metadata": {},
   "source": [
    "Interpretation: The most common words in the track names appear to be some English stop words such as 'You', 'The', 'Me', 'I', which do not provide any specific domain information. And these words don't have a very high frequency after all. Therefore, we don't consider the title name as an important feature in our project this time."
   ]
  },
  {
   "cell_type": "code",
   "execution_count": 33,
   "metadata": {},
   "outputs": [
    {
     "data": {
      "text/html": [
       "<div>\n",
       "<style scoped>\n",
       "    .dataframe tbody tr th:only-of-type {\n",
       "        vertical-align: middle;\n",
       "    }\n",
       "\n",
       "    .dataframe tbody tr th {\n",
       "        vertical-align: top;\n",
       "    }\n",
       "\n",
       "    .dataframe thead th {\n",
       "        text-align: right;\n",
       "    }\n",
       "</style>\n",
       "<table border=\"1\" class=\"dataframe\">\n",
       "  <thead>\n",
       "    <tr style=\"text-align: right;\">\n",
       "      <th></th>\n",
       "      <th>track_name</th>\n",
       "      <th>duration_ms</th>\n",
       "      <th>track_uri</th>\n",
       "      <th>artist_uri</th>\n",
       "      <th>album_uri</th>\n",
       "    </tr>\n",
       "  </thead>\n",
       "  <tbody>\n",
       "    <tr>\n",
       "      <th>2262198</th>\n",
       "      <td>The Hound of the Baskervilles - Sir Arthur Con...</td>\n",
       "      <td>20744575</td>\n",
       "      <td>spotify:track:65qH0fE7j8MrtvWFnBmm87</td>\n",
       "      <td>spotify:artist:0AGYqur7KNfaJwyzMvIuRz</td>\n",
       "      <td>spotify:album:3h8zOg0Av4Yx6EDWPM95rA</td>\n",
       "    </tr>\n",
       "  </tbody>\n",
       "</table>\n",
       "</div>"
      ],
      "text/plain": [
       "                                                track_name  duration_ms  \\\n",
       "2262198  The Hound of the Baskervilles - Sir Arthur Con...     20744575   \n",
       "\n",
       "                                    track_uri  \\\n",
       "2262198  spotify:track:65qH0fE7j8MrtvWFnBmm87   \n",
       "\n",
       "                                    artist_uri  \\\n",
       "2262198  spotify:artist:0AGYqur7KNfaJwyzMvIuRz   \n",
       "\n",
       "                                    album_uri  \n",
       "2262198  spotify:album:3h8zOg0Av4Yx6EDWPM95rA  "
      ]
     },
     "execution_count": 33,
     "metadata": {},
     "output_type": "execute_result"
    }
   ],
   "source": [
    "###Duration\n",
    "1/60000*tracks.loc[:,'duration_ms'].describe() #convert the duration from ms to minutes\n",
    "tracks[tracks['duration_ms'] == max(tracks['duration_ms'])]"
   ]
  },
  {
   "cell_type": "code",
   "execution_count": 70,
   "metadata": {},
   "outputs": [
    {
     "data": {
      "text/plain": [
       "Text(0, 0.5, 'Density')"
      ]
     },
     "execution_count": 70,
     "metadata": {},
     "output_type": "execute_result"
    },
    {
     "data": {
      "image/png": "[encoded data removed]",
      "text/plain": [
       "<Figure size 504x504 with 1 Axes>"
      ]
     },
     "metadata": {
      "needs_background": "light"
     },
     "output_type": "display_data"
    }
   ],
   "source": [
    "plt.figure(figsize = (7,7))\n",
    "sns.distplot(tracks.loc[:,'duration_ms']/60000)\n",
    "plt.title('Distribution of Duration(min)')\n",
    "plt.xlabel('Duration(min)')\n",
    "plt.ylabel('Density')"
   ]
  },
  {
   "cell_type": "markdown",
   "metadata": {},
   "source": [
    "Interpretation: Most songs are are below 8.3 minute long. The mean of the duration is about 4.1167 minutes. The maximum value of duration is about 346 minutes, for the song The Hound of the Baskervilles - Sir Arthur Conan Doyle."
   ]
  },
  {
   "cell_type": "code",
   "execution_count": 35,
   "metadata": {},
   "outputs": [],
   "source": [
    "###Artist\n",
    "artists = pd.read_csv(\"artists.csv\")"
   ]
  },
  {
   "cell_type": "code",
   "execution_count": 36,
   "metadata": {},
   "outputs": [],
   "source": [
    "#Create a dataframe for the top 10 popular artists that have the most tracks\n",
    "artist_most_songs = pd.DataFrame({'Artist':tracks['artist_uri'].value_counts()[:10].index.tolist(),'Count':tracks['artist_uri'].value_counts().head(10)})\n",
    "artist_most_songs.index= range(1,11)"
   ]
  },
  {
   "cell_type": "code",
   "execution_count": 37,
   "metadata": {},
   "outputs": [
    {
     "data": {
      "text/html": [
       "<div>\n",
       "<style scoped>\n",
       "    .dataframe tbody tr th:only-of-type {\n",
       "        vertical-align: middle;\n",
       "    }\n",
       "\n",
       "    .dataframe tbody tr th {\n",
       "        vertical-align: top;\n",
       "    }\n",
       "\n",
       "    .dataframe thead th {\n",
       "        text-align: right;\n",
       "    }\n",
       "</style>\n",
       "<table border=\"1\" class=\"dataframe\">\n",
       "  <thead>\n",
       "    <tr style=\"text-align: right;\">\n",
       "      <th></th>\n",
       "      <th>Artist</th>\n",
       "      <th>Count</th>\n",
       "      <th>artist_name</th>\n",
       "      <th>artist_uri</th>\n",
       "    </tr>\n",
       "  </thead>\n",
       "  <tbody>\n",
       "    <tr>\n",
       "      <th>0</th>\n",
       "      <td>spotify:artist:5aIqB5nVVvmFsvSdExz408</td>\n",
       "      <td>5417</td>\n",
       "      <td>Johann Sebastian Bach</td>\n",
       "      <td>spotify:artist:5aIqB5nVVvmFsvSdExz408</td>\n",
       "    </tr>\n",
       "    <tr>\n",
       "      <th>1</th>\n",
       "      <td>spotify:artist:4NJhFmfw43RLBLjQvxDuRS</td>\n",
       "      <td>5260</td>\n",
       "      <td>Wolfgang Amadeus Mozart</td>\n",
       "      <td>spotify:artist:4NJhFmfw43RLBLjQvxDuRS</td>\n",
       "    </tr>\n",
       "    <tr>\n",
       "      <th>2</th>\n",
       "      <td>spotify:artist:2wOqMjp9TyABvtHdOSOTUS</td>\n",
       "      <td>4312</td>\n",
       "      <td>Ludwig van Beethoven</td>\n",
       "      <td>spotify:artist:2wOqMjp9TyABvtHdOSOTUS</td>\n",
       "    </tr>\n",
       "    <tr>\n",
       "      <th>3</th>\n",
       "      <td>spotify:artist:7y97mc3bZRFXzT2szRM4L4</td>\n",
       "      <td>3128</td>\n",
       "      <td>Frédéric Chopin</td>\n",
       "      <td>spotify:artist:7y97mc3bZRFXzT2szRM4L4</td>\n",
       "    </tr>\n",
       "    <tr>\n",
       "      <th>4</th>\n",
       "      <td>spotify:artist:3MKCzCnpzw3TjUYs2v7vDA</td>\n",
       "      <td>2609</td>\n",
       "      <td>Pyotr Ilyich Tchaikovsky</td>\n",
       "      <td>spotify:artist:3MKCzCnpzw3TjUYs2v7vDA</td>\n",
       "    </tr>\n",
       "  </tbody>\n",
       "</table>\n",
       "</div>"
      ],
      "text/plain": [
       "                                  Artist  Count               artist_name  \\\n",
       "0  spotify:artist:5aIqB5nVVvmFsvSdExz408   5417     Johann Sebastian Bach   \n",
       "1  spotify:artist:4NJhFmfw43RLBLjQvxDuRS   5260   Wolfgang Amadeus Mozart   \n",
       "2  spotify:artist:2wOqMjp9TyABvtHdOSOTUS   4312      Ludwig van Beethoven   \n",
       "3  spotify:artist:7y97mc3bZRFXzT2szRM4L4   3128           Frédéric Chopin   \n",
       "4  spotify:artist:3MKCzCnpzw3TjUYs2v7vDA   2609  Pyotr Ilyich Tchaikovsky   \n",
       "\n",
       "                              artist_uri  \n",
       "0  spotify:artist:5aIqB5nVVvmFsvSdExz408  \n",
       "1  spotify:artist:4NJhFmfw43RLBLjQvxDuRS  \n",
       "2  spotify:artist:2wOqMjp9TyABvtHdOSOTUS  \n",
       "3  spotify:artist:7y97mc3bZRFXzT2szRM4L4  \n",
       "4  spotify:artist:3MKCzCnpzw3TjUYs2v7vDA  "
      ]
     },
     "execution_count": 37,
     "metadata": {},
     "output_type": "execute_result"
    }
   ],
   "source": [
    "#Merge the artist with most songs dataset with the artist dataset to get the artist names\n",
    "artist_most_songs_name = pd.merge(artist_most_songs,\n",
    "                 artists,\n",
    "                 left_on= 'Artist',\n",
    "                 right_on = 'artist_uri')\n",
    "artist_most_songs_name.head()"
   ]
  },
  {
   "cell_type": "code",
   "execution_count": 38,
   "metadata": {},
   "outputs": [],
   "source": [
    "tracks_art = pd.merge(pl_tracks,tracks[['track_uri','artist_uri']],on ='track_uri',how = 'left')"
   ]
  },
  {
   "cell_type": "code",
   "execution_count": 39,
   "metadata": {},
   "outputs": [],
   "source": [
    "#Create a dataframe for the top 50 popular artists\n",
    "top_artist = pd.DataFrame({'Artist':tracks_art['artist_uri'].value_counts()[:50].index.tolist(),'Count':tracks_art['artist_uri'].value_counts().head(50)})\n",
    "top_artist.index = range(1,51)"
   ]
  },
  {
   "cell_type": "code",
   "execution_count": 40,
   "metadata": {},
   "outputs": [
    {
     "data": {
      "text/html": [
       "<div>\n",
       "<style scoped>\n",
       "    .dataframe tbody tr th:only-of-type {\n",
       "        vertical-align: middle;\n",
       "    }\n",
       "\n",
       "    .dataframe tbody tr th {\n",
       "        vertical-align: top;\n",
       "    }\n",
       "\n",
       "    .dataframe thead th {\n",
       "        text-align: right;\n",
       "    }\n",
       "</style>\n",
       "<table border=\"1\" class=\"dataframe\">\n",
       "  <thead>\n",
       "    <tr style=\"text-align: right;\">\n",
       "      <th></th>\n",
       "      <th>Artist</th>\n",
       "      <th>Count</th>\n",
       "      <th>artist_name</th>\n",
       "      <th>artist_uri</th>\n",
       "    </tr>\n",
       "  </thead>\n",
       "  <tbody>\n",
       "    <tr>\n",
       "      <th>0</th>\n",
       "      <td>spotify:artist:3TVXtAsR1Inumwj472S9r4</td>\n",
       "      <td>846937</td>\n",
       "      <td>Drake</td>\n",
       "      <td>spotify:artist:3TVXtAsR1Inumwj472S9r4</td>\n",
       "    </tr>\n",
       "    <tr>\n",
       "      <th>1</th>\n",
       "      <td>spotify:artist:5K4W6rqBFWDnAN6FQUkS6x</td>\n",
       "      <td>413297</td>\n",
       "      <td>Kanye West</td>\n",
       "      <td>spotify:artist:5K4W6rqBFWDnAN6FQUkS6x</td>\n",
       "    </tr>\n",
       "    <tr>\n",
       "      <th>2</th>\n",
       "      <td>spotify:artist:2YZyLoL8N0Wb9xBt1NhZWg</td>\n",
       "      <td>353624</td>\n",
       "      <td>Kendrick Lamar</td>\n",
       "      <td>spotify:artist:2YZyLoL8N0Wb9xBt1NhZWg</td>\n",
       "    </tr>\n",
       "    <tr>\n",
       "      <th>3</th>\n",
       "      <td>spotify:artist:5pKCCKE2ajJHZ9KAiaK11H</td>\n",
       "      <td>339570</td>\n",
       "      <td>Rihanna</td>\n",
       "      <td>spotify:artist:5pKCCKE2ajJHZ9KAiaK11H</td>\n",
       "    </tr>\n",
       "    <tr>\n",
       "      <th>4</th>\n",
       "      <td>spotify:artist:1Xyo4u8uXC1ZmMpatF05PJ</td>\n",
       "      <td>316603</td>\n",
       "      <td>The Weeknd</td>\n",
       "      <td>spotify:artist:1Xyo4u8uXC1ZmMpatF05PJ</td>\n",
       "    </tr>\n",
       "  </tbody>\n",
       "</table>\n",
       "</div>"
      ],
      "text/plain": [
       "                                  Artist   Count     artist_name  \\\n",
       "0  spotify:artist:3TVXtAsR1Inumwj472S9r4  846937           Drake   \n",
       "1  spotify:artist:5K4W6rqBFWDnAN6FQUkS6x  413297      Kanye West   \n",
       "2  spotify:artist:2YZyLoL8N0Wb9xBt1NhZWg  353624  Kendrick Lamar   \n",
       "3  spotify:artist:5pKCCKE2ajJHZ9KAiaK11H  339570         Rihanna   \n",
       "4  spotify:artist:1Xyo4u8uXC1ZmMpatF05PJ  316603      The Weeknd   \n",
       "\n",
       "                              artist_uri  \n",
       "0  spotify:artist:3TVXtAsR1Inumwj472S9r4  \n",
       "1  spotify:artist:5K4W6rqBFWDnAN6FQUkS6x  \n",
       "2  spotify:artist:2YZyLoL8N0Wb9xBt1NhZWg  \n",
       "3  spotify:artist:5pKCCKE2ajJHZ9KAiaK11H  \n",
       "4  spotify:artist:1Xyo4u8uXC1ZmMpatF05PJ  "
      ]
     },
     "execution_count": 40,
     "metadata": {},
     "output_type": "execute_result"
    }
   ],
   "source": [
    "#Merge the top_artist dataset with the artist dataset to get the artist names\n",
    "top_artist_name = pd.merge(top_artist,\n",
    "                 artists,\n",
    "                 left_on= 'Artist',\n",
    "                 right_on = 'artist_uri')\n",
    "top_artist_name.head()"
   ]
  },
  {
   "cell_type": "code",
   "execution_count": 72,
   "metadata": {},
   "outputs": [
    {
     "data": {
      "text/plain": [
       "Text(0.5, 0, 'Frequency')"
      ]
     },
     "execution_count": 72,
     "metadata": {},
     "output_type": "execute_result"
    },
    {
     "data": {
      "image/png": "[encoded data removed]",
      "text/plain": [
       "<Figure size 504x720 with 1 Axes>"
      ]
     },
     "metadata": {
      "needs_background": "light"
     },
     "output_type": "display_data"
    }
   ],
   "source": [
    "# Plot the top 50 artists\n",
    "plt.figure(figsize = (7,10))\n",
    "sns.barplot(x = 'Count',y = 'artist_name', data = top_artist_name[:30])\n",
    "plt.title('Top 30 most popular artists',fontsize = 20)\n",
    "plt.xlabel('Frequency' )"
   ]
  },
  {
   "cell_type": "markdown",
   "metadata": {},
   "source": [
    "Interpretation: The artists that have the most songs collected in the million playlist dataset are Johann Sebastian Bach, Wolfgang Amadeus Mozart, Ludwig van Beethoven, Frédéric Chopin, Pyotr Ilyich Tchaikovsk, Various Artists, Vitamin String Quartet, Grateful Dead, Frank Sinatra, Piano Tribute Players. The top five artists that appear the most frequently in the million playlist dataset are Drake, Kanye West, Kendrick Lamar, Rihanna and The Weekend. It appears that pop song singers are more popular in this dataset even though classifical pianists tend to have more songs in the dataset."
   ]
  },
  {
   "cell_type": "code",
   "execution_count": 42,
   "metadata": {},
   "outputs": [],
   "source": [
    "###Album\n",
    "albums = pd.read_csv(\"albums.csv\")"
   ]
  },
  {
   "cell_type": "code",
   "execution_count": 43,
   "metadata": {},
   "outputs": [],
   "source": [
    "#Create a dataframe for the top 10 albums that have the most tracks\n",
    "album_most_songs = pd.DataFrame({'Album':tracks['album_uri'].value_counts()[:10].index.tolist(),'Count':tracks['album_uri'].value_counts().head(10)})\n",
    "album_most_songs.index = range(1,11)"
   ]
  },
  {
   "cell_type": "code",
   "execution_count": 44,
   "metadata": {},
   "outputs": [
    {
     "data": {
      "text/html": [
       "<div>\n",
       "<style scoped>\n",
       "    .dataframe tbody tr th:only-of-type {\n",
       "        vertical-align: middle;\n",
       "    }\n",
       "\n",
       "    .dataframe tbody tr th {\n",
       "        vertical-align: top;\n",
       "    }\n",
       "\n",
       "    .dataframe thead th {\n",
       "        text-align: right;\n",
       "    }\n",
       "</style>\n",
       "<table border=\"1\" class=\"dataframe\">\n",
       "  <thead>\n",
       "    <tr style=\"text-align: right;\">\n",
       "      <th></th>\n",
       "      <th>Album</th>\n",
       "      <th>Count</th>\n",
       "      <th>album_name</th>\n",
       "      <th>album_uri</th>\n",
       "    </tr>\n",
       "  </thead>\n",
       "  <tbody>\n",
       "    <tr>\n",
       "      <th>0</th>\n",
       "      <td>spotify:album:082BH67sSIDefLxUp8GgNm</td>\n",
       "      <td>139</td>\n",
       "      <td>Glee: The Music, The Complete Season Three</td>\n",
       "      <td>spotify:album:082BH67sSIDefLxUp8GgNm</td>\n",
       "    </tr>\n",
       "    <tr>\n",
       "      <th>1</th>\n",
       "      <td>spotify:album:52nZGRpZ9wuAsaDCwfadr5</td>\n",
       "      <td>135</td>\n",
       "      <td>Big Vivaldi Box</td>\n",
       "      <td>spotify:album:52nZGRpZ9wuAsaDCwfadr5</td>\n",
       "    </tr>\n",
       "    <tr>\n",
       "      <th>2</th>\n",
       "      <td>spotify:album:6WlzaRoDShdgVgaqJRjyNH</td>\n",
       "      <td>131</td>\n",
       "      <td>Glee: The Music, The Complete Season Two</td>\n",
       "      <td>spotify:album:6WlzaRoDShdgVgaqJRjyNH</td>\n",
       "    </tr>\n",
       "    <tr>\n",
       "      <th>3</th>\n",
       "      <td>spotify:album:6tQ1p5gjEujiZGAK10pY1f</td>\n",
       "      <td>129</td>\n",
       "      <td>The Complete Hank Williams</td>\n",
       "      <td>spotify:album:6tQ1p5gjEujiZGAK10pY1f</td>\n",
       "    </tr>\n",
       "    <tr>\n",
       "      <th>4</th>\n",
       "      <td>spotify:album:5dw8l7eXBnmGYUIw9riuwT</td>\n",
       "      <td>122</td>\n",
       "      <td>123 Favorite Kids Songs</td>\n",
       "      <td>spotify:album:5dw8l7eXBnmGYUIw9riuwT</td>\n",
       "    </tr>\n",
       "  </tbody>\n",
       "</table>\n",
       "</div>"
      ],
      "text/plain": [
       "                                  Album  Count  \\\n",
       "0  spotify:album:082BH67sSIDefLxUp8GgNm    139   \n",
       "1  spotify:album:52nZGRpZ9wuAsaDCwfadr5    135   \n",
       "2  spotify:album:6WlzaRoDShdgVgaqJRjyNH    131   \n",
       "3  spotify:album:6tQ1p5gjEujiZGAK10pY1f    129   \n",
       "4  spotify:album:5dw8l7eXBnmGYUIw9riuwT    122   \n",
       "\n",
       "                                   album_name  \\\n",
       "0  Glee: The Music, The Complete Season Three   \n",
       "1                             Big Vivaldi Box   \n",
       "2    Glee: The Music, The Complete Season Two   \n",
       "3                  The Complete Hank Williams   \n",
       "4                     123 Favorite Kids Songs   \n",
       "\n",
       "                              album_uri  \n",
       "0  spotify:album:082BH67sSIDefLxUp8GgNm  \n",
       "1  spotify:album:52nZGRpZ9wuAsaDCwfadr5  \n",
       "2  spotify:album:6WlzaRoDShdgVgaqJRjyNH  \n",
       "3  spotify:album:6tQ1p5gjEujiZGAK10pY1f  \n",
       "4  spotify:album:5dw8l7eXBnmGYUIw9riuwT  "
      ]
     },
     "execution_count": 44,
     "metadata": {},
     "output_type": "execute_result"
    }
   ],
   "source": [
    "#Merge the top_artist dataset with the album dataset to get the album names\n",
    "album_most_songs_name = pd.merge(album_most_songs,\n",
    "                 albums,\n",
    "                 left_on= 'Album',\n",
    "                 right_on = 'album_uri')\n",
    "album_most_songs_name.head()"
   ]
  },
  {
   "cell_type": "code",
   "execution_count": 45,
   "metadata": {},
   "outputs": [],
   "source": [
    "#Select the first ten words to represent the album name\n",
    "album_most_songs_name['album_name'] = [\" \".join(i.split()[:10]) for i in album_most_songs_name['album_name']]"
   ]
  },
  {
   "cell_type": "code",
   "execution_count": 46,
   "metadata": {},
   "outputs": [
    {
     "data": {
      "text/plain": [
       "0    Glee: The Music, The Complete Season Three\n",
       "1                               Big Vivaldi Box\n",
       "2      Glee: The Music, The Complete Season Two\n",
       "3                    The Complete Hank Williams\n",
       "4                       123 Favorite Kids Songs\n",
       "Name: album_name, dtype: object"
      ]
     },
     "execution_count": 46,
     "metadata": {},
     "output_type": "execute_result"
    }
   ],
   "source": [
    "album_most_songs_name['album_name'].head()"
   ]
  },
  {
   "cell_type": "code",
   "execution_count": 73,
   "metadata": {},
   "outputs": [
    {
     "data": {
      "text/plain": [
       "Text(0.5, 0, '# of Tracks')"
      ]
     },
     "execution_count": 73,
     "metadata": {},
     "output_type": "execute_result"
    },
    {
     "data": {
      "image/png": "[encoded data removed]",
      "text/plain": [
       "<Figure size 504x720 with 1 Axes>"
      ]
     },
     "metadata": {
      "needs_background": "light"
     },
     "output_type": "display_data"
    }
   ],
   "source": [
    "#Plot the top 10 albums that have the most tracks\n",
    "plt.figure(figsize = (7,10))\n",
    "sns.barplot(x = 'Count',y = 'album_name', data = album_most_songs_name)\n",
    "plt.title('Top 10 albums that have the most tracks',fontsize = 20)\n",
    "plt.xlabel('# of Tracks' )"
   ]
  },
  {
   "cell_type": "code",
   "execution_count": 48,
   "metadata": {},
   "outputs": [],
   "source": [
    "tracks_alb = pd.merge(pl_tracks,tracks[['track_uri','album_uri']],on ='track_uri',how = 'left')"
   ]
  },
  {
   "cell_type": "code",
   "execution_count": 49,
   "metadata": {},
   "outputs": [],
   "source": [
    "#Create a dataframe for the top 50 popular albums\n",
    "top_album = pd.DataFrame({'Album':tracks_alb['album_uri'].value_counts()[:50].index.tolist(),'Count':tracks_alb['album_uri'].value_counts().head(50)})\n",
    "top_album.index = range(1,51)"
   ]
  },
  {
   "cell_type": "code",
   "execution_count": 50,
   "metadata": {},
   "outputs": [
    {
     "data": {
      "text/html": [
       "<div>\n",
       "<style scoped>\n",
       "    .dataframe tbody tr th:only-of-type {\n",
       "        vertical-align: middle;\n",
       "    }\n",
       "\n",
       "    .dataframe tbody tr th {\n",
       "        vertical-align: top;\n",
       "    }\n",
       "\n",
       "    .dataframe thead th {\n",
       "        text-align: right;\n",
       "    }\n",
       "</style>\n",
       "<table border=\"1\" class=\"dataframe\">\n",
       "  <thead>\n",
       "    <tr style=\"text-align: right;\">\n",
       "      <th></th>\n",
       "      <th>Album</th>\n",
       "      <th>Count</th>\n",
       "      <th>album_name</th>\n",
       "      <th>album_uri</th>\n",
       "    </tr>\n",
       "  </thead>\n",
       "  <tbody>\n",
       "    <tr>\n",
       "      <th>0</th>\n",
       "      <td>spotify:album:5s0rmjP8XOPhP6HhqOhuyC</td>\n",
       "      <td>156488</td>\n",
       "      <td>Stoney</td>\n",
       "      <td>spotify:album:5s0rmjP8XOPhP6HhqOhuyC</td>\n",
       "    </tr>\n",
       "    <tr>\n",
       "      <th>1</th>\n",
       "      <td>spotify:album:4eLPsYPBmXABThSJ821sqY</td>\n",
       "      <td>141638</td>\n",
       "      <td>DAMN.</td>\n",
       "      <td>spotify:album:4eLPsYPBmXABThSJ821sqY</td>\n",
       "    </tr>\n",
       "    <tr>\n",
       "      <th>2</th>\n",
       "      <td>spotify:album:71QyofYesSsRMwFOTafnhB</td>\n",
       "      <td>133050</td>\n",
       "      <td>Coloring Book</td>\n",
       "      <td>spotify:album:71QyofYesSsRMwFOTafnhB</td>\n",
       "    </tr>\n",
       "    <tr>\n",
       "      <th>3</th>\n",
       "      <td>spotify:album:6kf46HbnYCZzP6rjvQHYzg</td>\n",
       "      <td>120946</td>\n",
       "      <td>American Teen</td>\n",
       "      <td>spotify:album:6kf46HbnYCZzP6rjvQHYzg</td>\n",
       "    </tr>\n",
       "    <tr>\n",
       "      <th>4</th>\n",
       "      <td>spotify:album:2AvupjUeMnSffKEV05x222</td>\n",
       "      <td>120017</td>\n",
       "      <td>Culture</td>\n",
       "      <td>spotify:album:2AvupjUeMnSffKEV05x222</td>\n",
       "    </tr>\n",
       "  </tbody>\n",
       "</table>\n",
       "</div>"
      ],
      "text/plain": [
       "                                  Album   Count     album_name  \\\n",
       "0  spotify:album:5s0rmjP8XOPhP6HhqOhuyC  156488         Stoney   \n",
       "1  spotify:album:4eLPsYPBmXABThSJ821sqY  141638          DAMN.   \n",
       "2  spotify:album:71QyofYesSsRMwFOTafnhB  133050  Coloring Book   \n",
       "3  spotify:album:6kf46HbnYCZzP6rjvQHYzg  120946  American Teen   \n",
       "4  spotify:album:2AvupjUeMnSffKEV05x222  120017        Culture   \n",
       "\n",
       "                              album_uri  \n",
       "0  spotify:album:5s0rmjP8XOPhP6HhqOhuyC  \n",
       "1  spotify:album:4eLPsYPBmXABThSJ821sqY  \n",
       "2  spotify:album:71QyofYesSsRMwFOTafnhB  \n",
       "3  spotify:album:6kf46HbnYCZzP6rjvQHYzg  \n",
       "4  spotify:album:2AvupjUeMnSffKEV05x222  "
      ]
     },
     "execution_count": 50,
     "metadata": {},
     "output_type": "execute_result"
    }
   ],
   "source": [
    "#Merge the top_artist dataset with the artist dataset to get the artist names\n",
    "top_album_name = pd.merge(top_album,\n",
    "                 albums,\n",
    "                 left_on= 'Album',\n",
    "                 right_on = 'album_uri')\n",
    "top_album_name.head()"
   ]
  },
  {
   "cell_type": "code",
   "execution_count": 74,
   "metadata": {},
   "outputs": [
    {
     "data": {
      "text/plain": [
       "Text(0.5, 0, 'Frequency')"
      ]
     },
     "execution_count": 74,
     "metadata": {},
     "output_type": "execute_result"
    },
    {
     "data": {
      "image/png": "[encoded data removed]",
      "text/plain": [
       "<Figure size 504x720 with 1 Axes>"
      ]
     },
     "metadata": {
      "needs_background": "light"
     },
     "output_type": "display_data"
    }
   ],
   "source": [
    "# Plot the top 30 albums\n",
    "plt.figure(figsize = (7,10))\n",
    "sns.barplot(x = 'Count',y = 'album_name', data = top_album_name[:30])\n",
    "plt.title('Top 30 most popular albums',fontsize = 20)\n",
    "plt.xlabel('Frequency' )"
   ]
  },
  {
   "cell_type": "markdown",
   "metadata": {},
   "source": [
    "Interpretation: According to this distribution plot, we can see that the glee albums have the most tracks, followed by albums such as Big Vivaldi Box, 123 Favorite Kids Songs. In terms of popularity, Stoney, DAMN, Coloring Book, American Teen, and Culture are the top 5 albums that have tracks appear the most frequently in the playlist population. These albums are by Post Malone, Kendrick Lamar, Khalid, Migos and so on who also appear to be the popular artists."
   ]
  }
 ],
 "metadata": {
  "kernelspec": {
   "display_name": "Python 3",
   "language": "python",
   "name": "python3"
  },
  "language_info": {
   "codemirror_mode": {
    "name": "ipython",
    "version": 3
   },
   "file_extension": ".py",
   "mimetype": "text/x-python",
   "name": "python",
   "nbconvert_exporter": "python",
   "pygments_lexer": "ipython3",
   "version": "3.6.9"
  }
 },
 "nbformat": 4,
 "nbformat_minor": 2
}
